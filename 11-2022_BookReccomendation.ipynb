{
 "cells": [
  {
   "cell_type": "markdown",
   "id": "eb5b0750-e73d-4274-854b-1cfea2b6fada",
   "metadata": {},
   "source": [
    "# Book reccomendation\n",
    "\n",
    "## Problem \n",
    "\n",
    "**Book recommendations - „I like Lord of the Rings, what else should I read?“**\n",
    "\n",
    "Goal:\n",
    "- take some data, try some approaches, produce some code, get some results\n",
    "- then come and show us your solution and have a chat around it - show how you think about a specific problem, how you are able to explain what approach you used and why, think about the limitations of the approach and how things could be improved if there was more time, what you think of the results and if they make sense, etc.\n",
    "\n",
    "Philosophy:\n",
    "- the actual result and code are not that important – the journey there and potential future paths are more important\n",
    "- if you are able to follow-through with some ideas then great, if you just start something and have a clear idea on how to proceed that is also useful\n",
    "- the expectation is that you will spend an evening or two with the task (but there are no bounds to proactivity if you enjoy playing with the problem)\n",
    "\n",
    "Data:\n",
    "- available open dataset: http://www2.informatik.uni-freiburg.de/~cziegler/BX/\n",
    "- alternatively feel free to grab any other relevant data set\n",
    "\n",
    "Tools:\n",
    "- use whatever you are comfortable in (R, Python, Matlab, Java, SQL,…) or feel free to use it as an opportunity to try out a new language\n",
    "- it is not a contest in finding the best black-box library and blindly using it – own solutions are preferred even if they are simple\n",
    "- how to present: up to you – slides, walking through code, drawing, …"
   ]
  },
  {
   "cell_type": "markdown",
   "id": "6c7fb41b-f112-43ea-8849-7fc8e64209de",
   "metadata": {},
   "source": [
    "## Solution"
   ]
  },
  {
   "cell_type": "markdown",
   "id": "991cddb5-3483-4cbe-9e25-d6992e0fe399",
   "metadata": {},
   "source": [
    "### Load data"
   ]
  },
  {
   "cell_type": "code",
   "execution_count": 1,
   "id": "7d49bd6b-cc61-489b-8b52-e271bccfaa3a",
   "metadata": {},
   "outputs": [],
   "source": [
    "# ! pip install pandas\n",
    "# ! pip install seaborn"
   ]
  },
  {
   "cell_type": "code",
   "execution_count": 2,
   "id": "7dac3e29-1fc1-48a0-9002-6eaaf6ed3e7b",
   "metadata": {},
   "outputs": [
    {
     "name": "stderr",
     "output_type": "stream",
     "text": [
      "C:\\Users\\elieb\\miniconda3\\lib\\site-packages\\numpy\\_distributor_init.py:30: UserWarning: loaded more than 1 DLL from .libs:\n",
      "C:\\Users\\elieb\\miniconda3\\lib\\site-packages\\numpy\\.libs\\libopenblas.FB5AE2TYXYH2IJRDKGDGQ3XBKLKTF43H.gfortran-win_amd64.dll\n",
      "C:\\Users\\elieb\\miniconda3\\lib\\site-packages\\numpy\\.libs\\libopenblas.JPIJNSWNNAN3CE6LLI5FWSPHUT2VXMTH.gfortran-win_amd64.dll\n",
      "  warnings.warn(\"loaded more than 1 DLL from .libs:\"\n"
     ]
    }
   ],
   "source": [
    "import pandas as pd\n",
    "import csv\n",
    "import matplotlib.pyplot as plt\n",
    "import seaborn as sns"
   ]
  },
  {
   "cell_type": "code",
   "execution_count": 3,
   "id": "421f427f-27b7-46c7-9a1b-b30139cce1a6",
   "metadata": {},
   "outputs": [
    {
     "data": {
      "text/plain": [
       "'RATINGS'"
      ]
     },
     "metadata": {},
     "output_type": "display_data"
    },
    {
     "data": {
      "text/html": [
       "<div>\n",
       "<style scoped>\n",
       "    .dataframe tbody tr th:only-of-type {\n",
       "        vertical-align: middle;\n",
       "    }\n",
       "\n",
       "    .dataframe tbody tr th {\n",
       "        vertical-align: top;\n",
       "    }\n",
       "\n",
       "    .dataframe thead th {\n",
       "        text-align: right;\n",
       "    }\n",
       "</style>\n",
       "<table border=\"1\" class=\"dataframe\">\n",
       "  <thead>\n",
       "    <tr style=\"text-align: right;\">\n",
       "      <th></th>\n",
       "      <th>User-ID</th>\n",
       "      <th>ISBN</th>\n",
       "      <th>Book-Rating</th>\n",
       "    </tr>\n",
       "  </thead>\n",
       "  <tbody>\n",
       "    <tr>\n",
       "      <th>0</th>\n",
       "      <td>276725</td>\n",
       "      <td>034545104X</td>\n",
       "      <td>0</td>\n",
       "    </tr>\n",
       "    <tr>\n",
       "      <th>1</th>\n",
       "      <td>276726</td>\n",
       "      <td>0155061224</td>\n",
       "      <td>5</td>\n",
       "    </tr>\n",
       "    <tr>\n",
       "      <th>2</th>\n",
       "      <td>276727</td>\n",
       "      <td>0446520802</td>\n",
       "      <td>0</td>\n",
       "    </tr>\n",
       "    <tr>\n",
       "      <th>3</th>\n",
       "      <td>276729</td>\n",
       "      <td>052165615X</td>\n",
       "      <td>3</td>\n",
       "    </tr>\n",
       "    <tr>\n",
       "      <th>4</th>\n",
       "      <td>276729</td>\n",
       "      <td>0521795028</td>\n",
       "      <td>6</td>\n",
       "    </tr>\n",
       "  </tbody>\n",
       "</table>\n",
       "</div>"
      ],
      "text/plain": [
       "   User-ID        ISBN  Book-Rating\n",
       "0   276725  034545104X            0\n",
       "1   276726  0155061224            5\n",
       "2   276727  0446520802            0\n",
       "3   276729  052165615X            3\n",
       "4   276729  0521795028            6"
      ]
     },
     "metadata": {},
     "output_type": "display_data"
    },
    {
     "data": {
      "text/plain": [
       "'BOOKS'"
      ]
     },
     "metadata": {},
     "output_type": "display_data"
    },
    {
     "data": {
      "text/html": [
       "<div>\n",
       "<style scoped>\n",
       "    .dataframe tbody tr th:only-of-type {\n",
       "        vertical-align: middle;\n",
       "    }\n",
       "\n",
       "    .dataframe tbody tr th {\n",
       "        vertical-align: top;\n",
       "    }\n",
       "\n",
       "    .dataframe thead th {\n",
       "        text-align: right;\n",
       "    }\n",
       "</style>\n",
       "<table border=\"1\" class=\"dataframe\">\n",
       "  <thead>\n",
       "    <tr style=\"text-align: right;\">\n",
       "      <th></th>\n",
       "      <th>ISBN</th>\n",
       "      <th>Book-Title</th>\n",
       "      <th>Book-Author</th>\n",
       "      <th>Year-Of-Publication</th>\n",
       "      <th>Publisher</th>\n",
       "      <th>Image-URL-S</th>\n",
       "      <th>Image-URL-M</th>\n",
       "      <th>Image-URL-L</th>\n",
       "    </tr>\n",
       "  </thead>\n",
       "  <tbody>\n",
       "    <tr>\n",
       "      <th>0</th>\n",
       "      <td>0195153448</td>\n",
       "      <td>Classical Mythology</td>\n",
       "      <td>Mark P. O. Morford</td>\n",
       "      <td>2002</td>\n",
       "      <td>Oxford University Press</td>\n",
       "      <td>http://images.amazon.com/images/P/0195153448.0...</td>\n",
       "      <td>http://images.amazon.com/images/P/0195153448.0...</td>\n",
       "      <td>http://images.amazon.com/images/P/0195153448.0...</td>\n",
       "    </tr>\n",
       "    <tr>\n",
       "      <th>1</th>\n",
       "      <td>0002005018</td>\n",
       "      <td>Clara Callan</td>\n",
       "      <td>Richard Bruce Wright</td>\n",
       "      <td>2001</td>\n",
       "      <td>HarperFlamingo Canada</td>\n",
       "      <td>http://images.amazon.com/images/P/0002005018.0...</td>\n",
       "      <td>http://images.amazon.com/images/P/0002005018.0...</td>\n",
       "      <td>http://images.amazon.com/images/P/0002005018.0...</td>\n",
       "    </tr>\n",
       "    <tr>\n",
       "      <th>2</th>\n",
       "      <td>0060973129</td>\n",
       "      <td>Decision in Normandy</td>\n",
       "      <td>Carlo D'Este</td>\n",
       "      <td>1991</td>\n",
       "      <td>HarperPerennial</td>\n",
       "      <td>http://images.amazon.com/images/P/0060973129.0...</td>\n",
       "      <td>http://images.amazon.com/images/P/0060973129.0...</td>\n",
       "      <td>http://images.amazon.com/images/P/0060973129.0...</td>\n",
       "    </tr>\n",
       "    <tr>\n",
       "      <th>3</th>\n",
       "      <td>0374157065</td>\n",
       "      <td>Flu: The Story of the Great Influenza Pandemic...</td>\n",
       "      <td>Gina Bari Kolata</td>\n",
       "      <td>1999</td>\n",
       "      <td>Farrar Straus Giroux</td>\n",
       "      <td>http://images.amazon.com/images/P/0374157065.0...</td>\n",
       "      <td>http://images.amazon.com/images/P/0374157065.0...</td>\n",
       "      <td>http://images.amazon.com/images/P/0374157065.0...</td>\n",
       "    </tr>\n",
       "    <tr>\n",
       "      <th>4</th>\n",
       "      <td>0393045218</td>\n",
       "      <td>The Mummies of Urumchi</td>\n",
       "      <td>E. J. W. Barber</td>\n",
       "      <td>1999</td>\n",
       "      <td>W. W. Norton &amp;amp; Company</td>\n",
       "      <td>http://images.amazon.com/images/P/0393045218.0...</td>\n",
       "      <td>http://images.amazon.com/images/P/0393045218.0...</td>\n",
       "      <td>http://images.amazon.com/images/P/0393045218.0...</td>\n",
       "    </tr>\n",
       "  </tbody>\n",
       "</table>\n",
       "</div>"
      ],
      "text/plain": [
       "         ISBN                                         Book-Title  \\\n",
       "0  0195153448                                Classical Mythology   \n",
       "1  0002005018                                       Clara Callan   \n",
       "2  0060973129                               Decision in Normandy   \n",
       "3  0374157065  Flu: The Story of the Great Influenza Pandemic...   \n",
       "4  0393045218                             The Mummies of Urumchi   \n",
       "\n",
       "            Book-Author  Year-Of-Publication                   Publisher  \\\n",
       "0    Mark P. O. Morford                 2002     Oxford University Press   \n",
       "1  Richard Bruce Wright                 2001       HarperFlamingo Canada   \n",
       "2          Carlo D'Este                 1991             HarperPerennial   \n",
       "3      Gina Bari Kolata                 1999        Farrar Straus Giroux   \n",
       "4       E. J. W. Barber                 1999  W. W. Norton &amp; Company   \n",
       "\n",
       "                                         Image-URL-S  \\\n",
       "0  http://images.amazon.com/images/P/0195153448.0...   \n",
       "1  http://images.amazon.com/images/P/0002005018.0...   \n",
       "2  http://images.amazon.com/images/P/0060973129.0...   \n",
       "3  http://images.amazon.com/images/P/0374157065.0...   \n",
       "4  http://images.amazon.com/images/P/0393045218.0...   \n",
       "\n",
       "                                         Image-URL-M  \\\n",
       "0  http://images.amazon.com/images/P/0195153448.0...   \n",
       "1  http://images.amazon.com/images/P/0002005018.0...   \n",
       "2  http://images.amazon.com/images/P/0060973129.0...   \n",
       "3  http://images.amazon.com/images/P/0374157065.0...   \n",
       "4  http://images.amazon.com/images/P/0393045218.0...   \n",
       "\n",
       "                                         Image-URL-L  \n",
       "0  http://images.amazon.com/images/P/0195153448.0...  \n",
       "1  http://images.amazon.com/images/P/0002005018.0...  \n",
       "2  http://images.amazon.com/images/P/0060973129.0...  \n",
       "3  http://images.amazon.com/images/P/0374157065.0...  \n",
       "4  http://images.amazon.com/images/P/0393045218.0...  "
      ]
     },
     "metadata": {},
     "output_type": "display_data"
    },
    {
     "data": {
      "text/plain": [
       "'USERS'"
      ]
     },
     "metadata": {},
     "output_type": "display_data"
    },
    {
     "data": {
      "text/html": [
       "<div>\n",
       "<style scoped>\n",
       "    .dataframe tbody tr th:only-of-type {\n",
       "        vertical-align: middle;\n",
       "    }\n",
       "\n",
       "    .dataframe tbody tr th {\n",
       "        vertical-align: top;\n",
       "    }\n",
       "\n",
       "    .dataframe thead th {\n",
       "        text-align: right;\n",
       "    }\n",
       "</style>\n",
       "<table border=\"1\" class=\"dataframe\">\n",
       "  <thead>\n",
       "    <tr style=\"text-align: right;\">\n",
       "      <th></th>\n",
       "      <th>User-ID</th>\n",
       "      <th>Location</th>\n",
       "      <th>Age</th>\n",
       "    </tr>\n",
       "  </thead>\n",
       "  <tbody>\n",
       "    <tr>\n",
       "      <th>0</th>\n",
       "      <td>1</td>\n",
       "      <td>nyc, new york, usa</td>\n",
       "      <td>NaN</td>\n",
       "    </tr>\n",
       "    <tr>\n",
       "      <th>1</th>\n",
       "      <td>2</td>\n",
       "      <td>stockton, california, usa</td>\n",
       "      <td>18.0</td>\n",
       "    </tr>\n",
       "    <tr>\n",
       "      <th>2</th>\n",
       "      <td>3</td>\n",
       "      <td>moscow, yukon territory, russia</td>\n",
       "      <td>NaN</td>\n",
       "    </tr>\n",
       "    <tr>\n",
       "      <th>3</th>\n",
       "      <td>4</td>\n",
       "      <td>porto, v.n.gaia, portugal</td>\n",
       "      <td>17.0</td>\n",
       "    </tr>\n",
       "    <tr>\n",
       "      <th>4</th>\n",
       "      <td>5</td>\n",
       "      <td>farnborough, hants, united kingdom</td>\n",
       "      <td>NaN</td>\n",
       "    </tr>\n",
       "  </tbody>\n",
       "</table>\n",
       "</div>"
      ],
      "text/plain": [
       "   User-ID                            Location   Age\n",
       "0        1                  nyc, new york, usa   NaN\n",
       "1        2           stockton, california, usa  18.0\n",
       "2        3     moscow, yukon territory, russia   NaN\n",
       "3        4           porto, v.n.gaia, portugal  17.0\n",
       "4        5  farnborough, hants, united kingdom   NaN"
      ]
     },
     "metadata": {},
     "output_type": "display_data"
    },
    {
     "data": {
      "text/plain": [
       "(None, None, None)"
      ]
     },
     "execution_count": 3,
     "metadata": {},
     "output_type": "execute_result"
    }
   ],
   "source": [
    "# Read the csv file\n",
    "csvFolder = \"BX-CSV-Dump\"\n",
    "\n",
    "csvRatings = \"BX-Book-Ratings.csv\"\n",
    "csvBooks = \"BX-Books.csv\"\n",
    "csvUsers = \"BX-Users.csv\"\n",
    "\n",
    "ratings = pd.read_csv(f\"{csvFolder}/{csvRatings}\", sep=';', encoding= 'unicode_escape')\n",
    "books = pd.read_csv(f\"{csvFolder}/{csvBooks}\", sep=';', encoding='ansi', escapechar='\\\\')\n",
    "users = pd.read_csv(f\"{csvFolder}/{csvUsers}\", sep=';', encoding= 'unicode_escape')\n",
    "\n",
    "display(\"RATINGS\", ratings.head()), display(\"BOOKS\", books.head()), display(\"USERS\", users.head())"
   ]
  },
  {
   "cell_type": "code",
   "execution_count": 4,
   "id": "710ab5b4-acfb-4ad7-b98f-fe32254ad02f",
   "metadata": {},
   "outputs": [
    {
     "name": "stdout",
     "output_type": "stream",
     "text": [
      "RATINGS\n",
      "----\n",
      "User-ID         int64\n",
      "ISBN           object\n",
      "Book-Rating     int64\n",
      "dtype: object\n",
      "\n",
      "BOOKS\n",
      "----\n",
      "ISBN                   object\n",
      "Book-Title             object\n",
      "Book-Author            object\n",
      "Year-Of-Publication     int64\n",
      "Publisher              object\n",
      "Image-URL-S            object\n",
      "Image-URL-M            object\n",
      "Image-URL-L            object\n",
      "dtype: object\n",
      "\n",
      "USERS\n",
      "----\n",
      "User-ID       int64\n",
      "Location     object\n",
      "Age         float64\n",
      "dtype: object\n",
      "\n"
     ]
    }
   ],
   "source": [
    "for name, table in zip([\"RATINGS\", \"BOOKS\", \"USERS\"],[ratings, books, users]):\n",
    "    print(f\"{name}\\n----\\n{table.dtypes}\\n\") "
   ]
  },
  {
   "cell_type": "code",
   "execution_count": 5,
   "id": "cc12ddaf-fa9d-4e34-b1b4-90770ba0c57a",
   "metadata": {},
   "outputs": [
    {
     "name": "stdout",
     "output_type": "stream",
     "text": [
      "number of ratings: 1149780\n",
      "number of books: 271379\n",
      "number of users: 278858\n"
     ]
    }
   ],
   "source": [
    "print(f\"number of ratings: {len(ratings)}\")\n",
    "print(f\"number of books: {len(books)}\")\n",
    "print(f\"number of users: {len(users)}\")"
   ]
  },
  {
   "cell_type": "markdown",
   "id": "2547ef0d-9f26-4038-89b5-4911ec556c83",
   "metadata": {},
   "source": [
    "## Explore data"
   ]
  },
  {
   "cell_type": "markdown",
   "id": "377adc38-0b0a-41e6-93cc-dd44a861ecb0",
   "metadata": {},
   "source": [
    "How are the rating values distributed? We can see that most of the ratings are implicit (0)"
   ]
  },
  {
   "cell_type": "code",
   "execution_count": 6,
   "id": "fa8dc9d9-3bd1-4b0e-9965-4f1194306e9b",
   "metadata": {},
   "outputs": [
    {
     "data": {
      "text/plain": [
       "Text(0.5, 1.0, 'distribution of all book ratings')"
      ]
     },
     "execution_count": 6,
     "metadata": {},
     "output_type": "execute_result"
    },
    {
     "data": {
      "image/png": "[encoded data removed]",
      "text/plain": [
       "<Figure size 432x288 with 1 Axes>"
      ]
     },
     "metadata": {
      "needs_background": "light"
     },
     "output_type": "display_data"
    }
   ],
   "source": [
    "fig, ax = plt.subplots()\n",
    "sns.countplot(data = ratings, x = \"Book-Rating\")\n",
    "ax.set_title(\"distribution of all book ratings\")"
   ]
  },
  {
   "cell_type": "markdown",
   "id": "98ad8564-279e-439b-8cda-d77b28cf871e",
   "metadata": {},
   "source": [
    "Distribution of the explicit ratings only (1-10)"
   ]
  },
  {
   "cell_type": "code",
   "execution_count": 7,
   "id": "def210b6-d1a9-436d-a704-c1c1fb2be60b",
   "metadata": {},
   "outputs": [
    {
     "data": {
      "text/plain": [
       "Text(0.5, 1.0, 'distribution of explicit book ratings')"
      ]
     },
     "execution_count": 7,
     "metadata": {},
     "output_type": "execute_result"
    },
    {
     "data": {
      "image/png": "[encoded data removed]",
      "text/plain": [
       "<Figure size 432x288 with 1 Axes>"
      ]
     },
     "metadata": {
      "needs_background": "light"
     },
     "output_type": "display_data"
    }
   ],
   "source": [
    "fig, ax = plt.subplots()\n",
    "sns.countplot(data = ratings[ratings[\"Book-Rating\"] > 0], x = \"Book-Rating\")\n",
    "ax.set_title(\"distribution of explicit book ratings\")"
   ]
  },
  {
   "cell_type": "markdown",
   "id": "bb339529-6540-4c1d-804f-ed80e75ca4d2",
   "metadata": {},
   "source": [
    "Number of ratings per book:\n",
    "\n",
    "First of all, let's have a look at the number of unique ISBN in ratings and in the books table. We can see that the numbers do not match. There are ratings for more books than there are books in the book-table"
   ]
  },
  {
   "cell_type": "code",
   "execution_count": 8,
   "id": "3e21cf55-c39c-490c-a8d5-901a36906c8e",
   "metadata": {},
   "outputs": [
    {
     "data": {
      "text/plain": [
       "(340556, 271379)"
      ]
     },
     "execution_count": 8,
     "metadata": {},
     "output_type": "execute_result"
    }
   ],
   "source": [
    "ratings.ISBN.nunique(), books.ISBN.nunique()"
   ]
  },
  {
   "cell_type": "markdown",
   "id": "bd75b244-3baf-48ee-8a91-c059f785273b",
   "metadata": {},
   "source": [
    "Let's have a look at whether the books in the book-table are all present in the ratings-table. In other words - what is the overlap of these two tables?"
   ]
  },
  {
   "cell_type": "code",
   "execution_count": 9,
   "id": "0bb7348d-58ff-484e-a838-cfb461e4fbde",
   "metadata": {},
   "outputs": [
    {
     "data": {
      "text/plain": [
       "270170"
      ]
     },
     "execution_count": 9,
     "metadata": {},
     "output_type": "execute_result"
    }
   ],
   "source": [
    "books.ISBN.isin(ratings.ISBN).sum()"
   ]
  },
  {
   "cell_type": "code",
   "execution_count": 10,
   "id": "cb607e1d-045d-4460-8e21-806cbcb0ad81",
   "metadata": {},
   "outputs": [
    {
     "name": "stdout",
     "output_type": "stream",
     "text": [
      "number of records with books from database: 1031175\n",
      "number of unique books: 270170\n"
     ]
    },
    {
     "data": {
      "text/html": [
       "<div>\n",
       "<style scoped>\n",
       "    .dataframe tbody tr th:only-of-type {\n",
       "        vertical-align: middle;\n",
       "    }\n",
       "\n",
       "    .dataframe tbody tr th {\n",
       "        vertical-align: top;\n",
       "    }\n",
       "\n",
       "    .dataframe thead th {\n",
       "        text-align: right;\n",
       "    }\n",
       "</style>\n",
       "<table border=\"1\" class=\"dataframe\">\n",
       "  <thead>\n",
       "    <tr style=\"text-align: right;\">\n",
       "      <th></th>\n",
       "      <th>ISBN</th>\n",
       "      <th>Book-Title</th>\n",
       "      <th>Book-Author</th>\n",
       "      <th>Year-Of-Publication</th>\n",
       "      <th>Publisher</th>\n",
       "      <th>Image-URL-S</th>\n",
       "      <th>Image-URL-M</th>\n",
       "      <th>Image-URL-L</th>\n",
       "      <th>User-ID</th>\n",
       "      <th>Book-Rating</th>\n",
       "    </tr>\n",
       "  </thead>\n",
       "  <tbody>\n",
       "    <tr>\n",
       "      <th>0</th>\n",
       "      <td>0195153448</td>\n",
       "      <td>Classical Mythology</td>\n",
       "      <td>Mark P. O. Morford</td>\n",
       "      <td>2002</td>\n",
       "      <td>Oxford University Press</td>\n",
       "      <td>http://images.amazon.com/images/P/0195153448.0...</td>\n",
       "      <td>http://images.amazon.com/images/P/0195153448.0...</td>\n",
       "      <td>http://images.amazon.com/images/P/0195153448.0...</td>\n",
       "      <td>2</td>\n",
       "      <td>0</td>\n",
       "    </tr>\n",
       "    <tr>\n",
       "      <th>1</th>\n",
       "      <td>0002005018</td>\n",
       "      <td>Clara Callan</td>\n",
       "      <td>Richard Bruce Wright</td>\n",
       "      <td>2001</td>\n",
       "      <td>HarperFlamingo Canada</td>\n",
       "      <td>http://images.amazon.com/images/P/0002005018.0...</td>\n",
       "      <td>http://images.amazon.com/images/P/0002005018.0...</td>\n",
       "      <td>http://images.amazon.com/images/P/0002005018.0...</td>\n",
       "      <td>8</td>\n",
       "      <td>5</td>\n",
       "    </tr>\n",
       "    <tr>\n",
       "      <th>2</th>\n",
       "      <td>0002005018</td>\n",
       "      <td>Clara Callan</td>\n",
       "      <td>Richard Bruce Wright</td>\n",
       "      <td>2001</td>\n",
       "      <td>HarperFlamingo Canada</td>\n",
       "      <td>http://images.amazon.com/images/P/0002005018.0...</td>\n",
       "      <td>http://images.amazon.com/images/P/0002005018.0...</td>\n",
       "      <td>http://images.amazon.com/images/P/0002005018.0...</td>\n",
       "      <td>11400</td>\n",
       "      <td>0</td>\n",
       "    </tr>\n",
       "    <tr>\n",
       "      <th>3</th>\n",
       "      <td>0002005018</td>\n",
       "      <td>Clara Callan</td>\n",
       "      <td>Richard Bruce Wright</td>\n",
       "      <td>2001</td>\n",
       "      <td>HarperFlamingo Canada</td>\n",
       "      <td>http://images.amazon.com/images/P/0002005018.0...</td>\n",
       "      <td>http://images.amazon.com/images/P/0002005018.0...</td>\n",
       "      <td>http://images.amazon.com/images/P/0002005018.0...</td>\n",
       "      <td>11676</td>\n",
       "      <td>8</td>\n",
       "    </tr>\n",
       "    <tr>\n",
       "      <th>4</th>\n",
       "      <td>0002005018</td>\n",
       "      <td>Clara Callan</td>\n",
       "      <td>Richard Bruce Wright</td>\n",
       "      <td>2001</td>\n",
       "      <td>HarperFlamingo Canada</td>\n",
       "      <td>http://images.amazon.com/images/P/0002005018.0...</td>\n",
       "      <td>http://images.amazon.com/images/P/0002005018.0...</td>\n",
       "      <td>http://images.amazon.com/images/P/0002005018.0...</td>\n",
       "      <td>41385</td>\n",
       "      <td>0</td>\n",
       "    </tr>\n",
       "  </tbody>\n",
       "</table>\n",
       "</div>"
      ],
      "text/plain": [
       "         ISBN           Book-Title           Book-Author  Year-Of-Publication  \\\n",
       "0  0195153448  Classical Mythology    Mark P. O. Morford                 2002   \n",
       "1  0002005018         Clara Callan  Richard Bruce Wright                 2001   \n",
       "2  0002005018         Clara Callan  Richard Bruce Wright                 2001   \n",
       "3  0002005018         Clara Callan  Richard Bruce Wright                 2001   \n",
       "4  0002005018         Clara Callan  Richard Bruce Wright                 2001   \n",
       "\n",
       "                 Publisher                                        Image-URL-S  \\\n",
       "0  Oxford University Press  http://images.amazon.com/images/P/0195153448.0...   \n",
       "1    HarperFlamingo Canada  http://images.amazon.com/images/P/0002005018.0...   \n",
       "2    HarperFlamingo Canada  http://images.amazon.com/images/P/0002005018.0...   \n",
       "3    HarperFlamingo Canada  http://images.amazon.com/images/P/0002005018.0...   \n",
       "4    HarperFlamingo Canada  http://images.amazon.com/images/P/0002005018.0...   \n",
       "\n",
       "                                         Image-URL-M  \\\n",
       "0  http://images.amazon.com/images/P/0195153448.0...   \n",
       "1  http://images.amazon.com/images/P/0002005018.0...   \n",
       "2  http://images.amazon.com/images/P/0002005018.0...   \n",
       "3  http://images.amazon.com/images/P/0002005018.0...   \n",
       "4  http://images.amazon.com/images/P/0002005018.0...   \n",
       "\n",
       "                                         Image-URL-L  User-ID  Book-Rating  \n",
       "0  http://images.amazon.com/images/P/0195153448.0...        2            0  \n",
       "1  http://images.amazon.com/images/P/0002005018.0...        8            5  \n",
       "2  http://images.amazon.com/images/P/0002005018.0...    11400            0  \n",
       "3  http://images.amazon.com/images/P/0002005018.0...    11676            8  \n",
       "4  http://images.amazon.com/images/P/0002005018.0...    41385            0  "
      ]
     },
     "metadata": {},
     "output_type": "display_data"
    }
   ],
   "source": [
    "books_innerjoin = books.merge(ratings, on=\"ISBN\", how=\"inner\")\n",
    "print(f\"number of records with books from database: {len(books_innerjoin)}\")\n",
    "print(f\"number of unique books: {books_innerjoin.ISBN.nunique()}\")\n",
    "display(books_innerjoin.head())"
   ]
  },
  {
   "cell_type": "markdown",
   "id": "7a750386-5c56-43d6-a8ad-8ace52de9319",
   "metadata": {},
   "source": [
    "Some ISBN contains \"X\". \"The only letter which can be in an ISBN is an X to represent ten, and that only in the final (checksum) position\"\n",
    "\n",
    "The author of the dataset claims that \" Invalid ISBNs have already been removed from the dataset.\""
   ]
  },
  {
   "cell_type": "code",
   "execution_count": 11,
   "id": "debeaa4f-c637-4051-9bdf-8a0cf5e58bcf",
   "metadata": {},
   "outputs": [
    {
     "data": {
      "text/plain": [
       "array(['0195153448', '0002005018', '0060973129', '0374157065',\n",
       "       '0393045218', '0399135782', '0425176428', '0671870432',\n",
       "       '0679425608', '074322678X', '0771074670', '080652121X',\n",
       "       '0887841740', '1552041778', '1558746218', '1567407781',\n",
       "       '1575663937', '1881320189', '0440234743', '0452264464',\n",
       "       '0609804618', '1841721522', '1879384493', '0061076031',\n",
       "       '0439095026', '0689821166', '0971880107', '0345402871',\n",
       "       '0345417623', '0684823802', '0375759778', '0425163091',\n",
       "       '3404921038', '3442353866', '3442410665', '3442446937',\n",
       "       '0375406328', '0446310786', '0449005615', '0060168013',\n",
       "       '038078243X', '055321215X', '067176537X', '0061099686',\n",
       "       '0553582909', '0671888587', '0553582747', '0425182908',\n",
       "       '042518630X', '0440223571'], dtype=object)"
      ]
     },
     "execution_count": 11,
     "metadata": {},
     "output_type": "execute_result"
    }
   ],
   "source": [
    "books.ISBN.unique()[:50]"
   ]
  },
  {
   "cell_type": "code",
   "execution_count": 12,
   "id": "d4a5b212-e97a-475b-af0d-7429ed808570",
   "metadata": {},
   "outputs": [
    {
     "data": {
      "text/html": [
       "<div>\n",
       "<style scoped>\n",
       "    .dataframe tbody tr th:only-of-type {\n",
       "        vertical-align: middle;\n",
       "    }\n",
       "\n",
       "    .dataframe tbody tr th {\n",
       "        vertical-align: top;\n",
       "    }\n",
       "\n",
       "    .dataframe thead th {\n",
       "        text-align: right;\n",
       "    }\n",
       "</style>\n",
       "<table border=\"1\" class=\"dataframe\">\n",
       "  <thead>\n",
       "    <tr style=\"text-align: right;\">\n",
       "      <th></th>\n",
       "      <th>User-ID</th>\n",
       "      <th>Book-Rating</th>\n",
       "    </tr>\n",
       "    <tr>\n",
       "      <th>ISBN</th>\n",
       "      <th></th>\n",
       "      <th></th>\n",
       "    </tr>\n",
       "  </thead>\n",
       "  <tbody>\n",
       "    <tr>\n",
       "      <th>0330299891</th>\n",
       "      <td>2</td>\n",
       "      <td>2</td>\n",
       "    </tr>\n",
       "    <tr>\n",
       "      <th>0375404120</th>\n",
       "      <td>2</td>\n",
       "      <td>2</td>\n",
       "    </tr>\n",
       "    <tr>\n",
       "      <th>0586045007</th>\n",
       "      <td>1</td>\n",
       "      <td>1</td>\n",
       "    </tr>\n",
       "    <tr>\n",
       "      <th>9022906116</th>\n",
       "      <td>2</td>\n",
       "      <td>2</td>\n",
       "    </tr>\n",
       "    <tr>\n",
       "      <th>9032803328</th>\n",
       "      <td>1</td>\n",
       "      <td>1</td>\n",
       "    </tr>\n",
       "  </tbody>\n",
       "</table>\n",
       "</div>"
      ],
      "text/plain": [
       "             User-ID  Book-Rating\n",
       "ISBN                             \n",
       " 0330299891        2            2\n",
       " 0375404120        2            2\n",
       " 0586045007        1            1\n",
       " 9022906116        2            2\n",
       " 9032803328        1            1"
      ]
     },
     "metadata": {},
     "output_type": "display_data"
    }
   ],
   "source": [
    "ratingsPerBook = ratings.groupby(by=\"ISBN\").count()\n",
    "display(ratingsPerBook.head())"
   ]
  },
  {
   "cell_type": "code",
   "execution_count": 13,
   "id": "b4ad933b-42a1-4de2-a029-d7bc199f2105",
   "metadata": {},
   "outputs": [
    {
     "data": {
      "text/plain": [
       "Text(0.5, 1.0, 'distribution of book ratings')"
      ]
     },
     "execution_count": 13,
     "metadata": {},
     "output_type": "execute_result"
    },
    {
     "data": {
      "image/png": "[encoded data removed]",
      "text/plain": [
       "<Figure size 432x288 with 1 Axes>"
      ]
     },
     "metadata": {
      "needs_background": "light"
     },
     "output_type": "display_data"
    }
   ],
   "source": [
    "fig, ax = plt.subplots()\n",
    "sns.countplot(data = ratingsPerBook[ratingsPerBook[\"Book-Rating\"] < 15], x= \"Book-Rating\")\n",
    "ax.set_title(\"distribution of book ratings\")"
   ]
  },
  {
   "cell_type": "markdown",
   "id": "7a5bc5cf-b6fe-4bd7-ad5d-c07fb6a46334",
   "metadata": {},
   "source": [
    "## recommend books"
   ]
  },
  {
   "cell_type": "markdown",
   "id": "cfd6f834-bd26-4cec-9c60-b8c21c4d6c43",
   "metadata": {},
   "source": [
    "Select books by Tolkien - try to find LOTR. In our case, there is only the trilogy "
   ]
  },
  {
   "cell_type": "code",
   "execution_count": 14,
   "id": "4ddfd469-80c3-40db-8f7c-46edf60c004e",
   "metadata": {},
   "outputs": [
    {
     "data": {
      "text/html": [
       "<div>\n",
       "<style scoped>\n",
       "    .dataframe tbody tr th:only-of-type {\n",
       "        vertical-align: middle;\n",
       "    }\n",
       "\n",
       "    .dataframe tbody tr th {\n",
       "        vertical-align: top;\n",
       "    }\n",
       "\n",
       "    .dataframe thead th {\n",
       "        text-align: right;\n",
       "    }\n",
       "</style>\n",
       "<table border=\"1\" class=\"dataframe\">\n",
       "  <thead>\n",
       "    <tr style=\"text-align: right;\">\n",
       "      <th></th>\n",
       "      <th>ISBN</th>\n",
       "      <th>Book-Title</th>\n",
       "      <th>Book-Author</th>\n",
       "      <th>Year-Of-Publication</th>\n",
       "      <th>Publisher</th>\n",
       "      <th>Image-URL-S</th>\n",
       "      <th>Image-URL-M</th>\n",
       "      <th>Image-URL-L</th>\n",
       "    </tr>\n",
       "  </thead>\n",
       "  <tbody>\n",
       "    <tr>\n",
       "      <th>120290</th>\n",
       "      <td>2266046519</td>\n",
       "      <td>Le Retour Du Roi</td>\n",
       "      <td>Tolkien</td>\n",
       "      <td>0</td>\n",
       "      <td>Pocket</td>\n",
       "      <td>http://images.amazon.com/images/P/2266046519.0...</td>\n",
       "      <td>http://images.amazon.com/images/P/2266046519.0...</td>\n",
       "      <td>http://images.amazon.com/images/P/2266046519.0...</td>\n",
       "    </tr>\n",
       "    <tr>\n",
       "      <th>120293</th>\n",
       "      <td>2266046500</td>\n",
       "      <td>Les Deux Tours</td>\n",
       "      <td>Tolkien</td>\n",
       "      <td>0</td>\n",
       "      <td>Pocket</td>\n",
       "      <td>http://images.amazon.com/images/P/2266046500.0...</td>\n",
       "      <td>http://images.amazon.com/images/P/2266046500.0...</td>\n",
       "      <td>http://images.amazon.com/images/P/2266046500.0...</td>\n",
       "    </tr>\n",
       "    <tr>\n",
       "      <th>120294</th>\n",
       "      <td>2266046497</td>\n",
       "      <td>Le Seigneur Des Anneaux</td>\n",
       "      <td>Tolkien</td>\n",
       "      <td>0</td>\n",
       "      <td>Pocket</td>\n",
       "      <td>http://images.amazon.com/images/P/2266046497.0...</td>\n",
       "      <td>http://images.amazon.com/images/P/2266046497.0...</td>\n",
       "      <td>http://images.amazon.com/images/P/2266046497.0...</td>\n",
       "    </tr>\n",
       "  </tbody>\n",
       "</table>\n",
       "</div>"
      ],
      "text/plain": [
       "              ISBN               Book-Title Book-Author  Year-Of-Publication  \\\n",
       "120290  2266046519         Le Retour Du Roi     Tolkien                    0   \n",
       "120293  2266046500           Les Deux Tours     Tolkien                    0   \n",
       "120294  2266046497  Le Seigneur Des Anneaux     Tolkien                    0   \n",
       "\n",
       "       Publisher                                        Image-URL-S  \\\n",
       "120290    Pocket  http://images.amazon.com/images/P/2266046519.0...   \n",
       "120293    Pocket  http://images.amazon.com/images/P/2266046500.0...   \n",
       "120294    Pocket  http://images.amazon.com/images/P/2266046497.0...   \n",
       "\n",
       "                                              Image-URL-M  \\\n",
       "120290  http://images.amazon.com/images/P/2266046519.0...   \n",
       "120293  http://images.amazon.com/images/P/2266046500.0...   \n",
       "120294  http://images.amazon.com/images/P/2266046497.0...   \n",
       "\n",
       "                                              Image-URL-L  \n",
       "120290  http://images.amazon.com/images/P/2266046519.0...  \n",
       "120293  http://images.amazon.com/images/P/2266046500.0...  \n",
       "120294  http://images.amazon.com/images/P/2266046497.0...  "
      ]
     },
     "execution_count": 14,
     "metadata": {},
     "output_type": "execute_result"
    }
   ],
   "source": [
    "books[books[\"Book-Author\"].isin(['Tolkien'])]"
   ]
  },
  {
   "cell_type": "markdown",
   "id": "099090a7-0f45-4fba-9bf8-27e0bcddfb3b",
   "metadata": {},
   "source": [
    "Select the ISBN of these three books"
   ]
  },
  {
   "cell_type": "code",
   "execution_count": 15,
   "id": "f792683d-4dd3-4735-bff1-4796cce150a5",
   "metadata": {},
   "outputs": [
    {
     "data": {
      "text/plain": [
       "['2266046519', '2266046500', '2266046497']"
      ]
     },
     "execution_count": 15,
     "metadata": {},
     "output_type": "execute_result"
    }
   ],
   "source": [
    "lotrISBN = list(books[books[\"Book-Author\"].isin(['Tolkien'])].ISBN)\n",
    "lotrISBN"
   ]
  },
  {
   "cell_type": "markdown",
   "id": "6bd5b044-3a27-40ff-bbe1-74be6894f6be",
   "metadata": {},
   "source": [
    "Find ratings for the trilogy in the ratings-table. We can see that there are both implicit and explicit ratings present in our subset"
   ]
  },
  {
   "cell_type": "code",
   "execution_count": 16,
   "id": "73e6df6b-25f1-47c9-83ae-17a58f2b5396",
   "metadata": {},
   "outputs": [
    {
     "data": {
      "text/html": [
       "<div>\n",
       "<style scoped>\n",
       "    .dataframe tbody tr th:only-of-type {\n",
       "        vertical-align: middle;\n",
       "    }\n",
       "\n",
       "    .dataframe tbody tr th {\n",
       "        vertical-align: top;\n",
       "    }\n",
       "\n",
       "    .dataframe thead th {\n",
       "        text-align: right;\n",
       "    }\n",
       "</style>\n",
       "<table border=\"1\" class=\"dataframe\">\n",
       "  <thead>\n",
       "    <tr style=\"text-align: right;\">\n",
       "      <th></th>\n",
       "      <th>User-ID</th>\n",
       "      <th>ISBN</th>\n",
       "      <th>Book-Rating</th>\n",
       "    </tr>\n",
       "  </thead>\n",
       "  <tbody>\n",
       "    <tr>\n",
       "      <th>312615</th>\n",
       "      <td>75293</td>\n",
       "      <td>2266046497</td>\n",
       "      <td>8</td>\n",
       "    </tr>\n",
       "    <tr>\n",
       "      <th>312616</th>\n",
       "      <td>75293</td>\n",
       "      <td>2266046500</td>\n",
       "      <td>8</td>\n",
       "    </tr>\n",
       "    <tr>\n",
       "      <th>312617</th>\n",
       "      <td>75293</td>\n",
       "      <td>2266046519</td>\n",
       "      <td>8</td>\n",
       "    </tr>\n",
       "    <tr>\n",
       "      <th>375525</th>\n",
       "      <td>90277</td>\n",
       "      <td>2266046497</td>\n",
       "      <td>0</td>\n",
       "    </tr>\n",
       "    <tr>\n",
       "      <th>375526</th>\n",
       "      <td>90277</td>\n",
       "      <td>2266046500</td>\n",
       "      <td>0</td>\n",
       "    </tr>\n",
       "    <tr>\n",
       "      <th>375527</th>\n",
       "      <td>90277</td>\n",
       "      <td>2266046519</td>\n",
       "      <td>8</td>\n",
       "    </tr>\n",
       "    <tr>\n",
       "      <th>643348</th>\n",
       "      <td>155355</td>\n",
       "      <td>2266046497</td>\n",
       "      <td>10</td>\n",
       "    </tr>\n",
       "    <tr>\n",
       "      <th>730052</th>\n",
       "      <td>176318</td>\n",
       "      <td>2266046497</td>\n",
       "      <td>0</td>\n",
       "    </tr>\n",
       "    <tr>\n",
       "      <th>998834</th>\n",
       "      <td>239736</td>\n",
       "      <td>2266046497</td>\n",
       "      <td>10</td>\n",
       "    </tr>\n",
       "    <tr>\n",
       "      <th>998835</th>\n",
       "      <td>239736</td>\n",
       "      <td>2266046500</td>\n",
       "      <td>10</td>\n",
       "    </tr>\n",
       "    <tr>\n",
       "      <th>998836</th>\n",
       "      <td>239736</td>\n",
       "      <td>2266046519</td>\n",
       "      <td>10</td>\n",
       "    </tr>\n",
       "  </tbody>\n",
       "</table>\n",
       "</div>"
      ],
      "text/plain": [
       "        User-ID        ISBN  Book-Rating\n",
       "312615    75293  2266046497            8\n",
       "312616    75293  2266046500            8\n",
       "312617    75293  2266046519            8\n",
       "375525    90277  2266046497            0\n",
       "375526    90277  2266046500            0\n",
       "375527    90277  2266046519            8\n",
       "643348   155355  2266046497           10\n",
       "730052   176318  2266046497            0\n",
       "998834   239736  2266046497           10\n",
       "998835   239736  2266046500           10\n",
       "998836   239736  2266046519           10"
      ]
     },
     "execution_count": 16,
     "metadata": {},
     "output_type": "execute_result"
    }
   ],
   "source": [
    "lotrRatings = ratings[ratings[\"ISBN\"].isin(lotrISBN)]\n",
    "lotrRatings"
   ]
  },
  {
   "cell_type": "markdown",
   "id": "ccc6fe24-2bfc-46f5-ad99-25e27714b29e",
   "metadata": {},
   "source": [
    "Let's try to take only implicit ratings higher than 7 \n",
    "\n",
    "(a point for discussion: we could use all of the ratings including the implicit ones - some people might have interacted with the book, liked it but did not give a rating)"
   ]
  },
  {
   "cell_type": "code",
   "execution_count": 17,
   "id": "55b47768-c885-4c50-97f2-95fde0ad1758",
   "metadata": {},
   "outputs": [
    {
     "data": {
      "text/html": [
       "<div>\n",
       "<style scoped>\n",
       "    .dataframe tbody tr th:only-of-type {\n",
       "        vertical-align: middle;\n",
       "    }\n",
       "\n",
       "    .dataframe tbody tr th {\n",
       "        vertical-align: top;\n",
       "    }\n",
       "\n",
       "    .dataframe thead th {\n",
       "        text-align: right;\n",
       "    }\n",
       "</style>\n",
       "<table border=\"1\" class=\"dataframe\">\n",
       "  <thead>\n",
       "    <tr style=\"text-align: right;\">\n",
       "      <th></th>\n",
       "      <th>User-ID</th>\n",
       "      <th>ISBN</th>\n",
       "      <th>Book-Rating</th>\n",
       "    </tr>\n",
       "  </thead>\n",
       "  <tbody>\n",
       "    <tr>\n",
       "      <th>312615</th>\n",
       "      <td>75293</td>\n",
       "      <td>2266046497</td>\n",
       "      <td>8</td>\n",
       "    </tr>\n",
       "    <tr>\n",
       "      <th>312616</th>\n",
       "      <td>75293</td>\n",
       "      <td>2266046500</td>\n",
       "      <td>8</td>\n",
       "    </tr>\n",
       "    <tr>\n",
       "      <th>312617</th>\n",
       "      <td>75293</td>\n",
       "      <td>2266046519</td>\n",
       "      <td>8</td>\n",
       "    </tr>\n",
       "    <tr>\n",
       "      <th>375527</th>\n",
       "      <td>90277</td>\n",
       "      <td>2266046519</td>\n",
       "      <td>8</td>\n",
       "    </tr>\n",
       "    <tr>\n",
       "      <th>643348</th>\n",
       "      <td>155355</td>\n",
       "      <td>2266046497</td>\n",
       "      <td>10</td>\n",
       "    </tr>\n",
       "    <tr>\n",
       "      <th>998834</th>\n",
       "      <td>239736</td>\n",
       "      <td>2266046497</td>\n",
       "      <td>10</td>\n",
       "    </tr>\n",
       "    <tr>\n",
       "      <th>998835</th>\n",
       "      <td>239736</td>\n",
       "      <td>2266046500</td>\n",
       "      <td>10</td>\n",
       "    </tr>\n",
       "    <tr>\n",
       "      <th>998836</th>\n",
       "      <td>239736</td>\n",
       "      <td>2266046519</td>\n",
       "      <td>10</td>\n",
       "    </tr>\n",
       "  </tbody>\n",
       "</table>\n",
       "</div>"
      ],
      "text/plain": [
       "        User-ID        ISBN  Book-Rating\n",
       "312615    75293  2266046497            8\n",
       "312616    75293  2266046500            8\n",
       "312617    75293  2266046519            8\n",
       "375527    90277  2266046519            8\n",
       "643348   155355  2266046497           10\n",
       "998834   239736  2266046497           10\n",
       "998835   239736  2266046500           10\n",
       "998836   239736  2266046519           10"
      ]
     },
     "execution_count": 17,
     "metadata": {},
     "output_type": "execute_result"
    }
   ],
   "source": [
    "goodLotrRating = lotrRatings[lotrRatings[\"Book-Rating\"] > 7]\n",
    "goodLotrRating"
   ]
  },
  {
   "cell_type": "markdown",
   "id": "9995f3b1-2161-42f8-adcb-ba15174fef27",
   "metadata": {},
   "source": [
    "Select IDs of users who have rated at leas one of the books > 7"
   ]
  },
  {
   "cell_type": "code",
   "execution_count": 18,
   "id": "8460c0c8-1e31-4bdf-96a6-36138840c34a",
   "metadata": {},
   "outputs": [
    {
     "data": {
      "text/plain": [
       "[239736, 155355, 75293, 90277]"
      ]
     },
     "execution_count": 18,
     "metadata": {},
     "output_type": "execute_result"
    }
   ],
   "source": [
    "goodLotrRatingUsers = list(set(goodLotrRating[\"User-ID\"]))\n",
    "goodLotrRatingUsers"
   ]
  },
  {
   "cell_type": "markdown",
   "id": "a3596b30-da62-4ba4-9b80-e6366c9cd3d0",
   "metadata": {},
   "source": [
    "for each user find their books"
   ]
  },
  {
   "cell_type": "code",
   "execution_count": 19,
   "id": "366660db-6c54-4ba5-816e-bab96d092d88",
   "metadata": {},
   "outputs": [],
   "source": [
    "dfUsers = {}\n",
    "for user in goodLotrRatingUsers:\n",
    "    userDf = ratings[ratings[\"User-ID\"] == user]\n",
    "    dfUsers[user] = userDf"
   ]
  },
  {
   "cell_type": "markdown",
   "id": "bec205d5-8953-4a51-b75a-19adc046d61f",
   "metadata": {},
   "source": [
    "idea: some users give every book a 10, while some users *never* use a 10 for any book. the range varies, the prediction might be scaled according to the way each users rating scale. also, as mentioned above, the implicit ratings may be of some use as well \n",
    "\n",
    "Take books which have been rated high by the users who rated LOTR trilogy high as well. Now I chose to use books with >= 7  for simplicity"
   ]
  },
  {
   "cell_type": "code",
   "execution_count": 20,
   "id": "84a11ca9-9dde-4930-9032-4357e61c9e79",
   "metadata": {},
   "outputs": [
    {
     "name": "stdout",
     "output_type": "stream",
     "text": [
      "\n",
      "UserID: 239736 \n",
      "number of ratings: 38 \n",
      "number of ratings >= 7: 25\n",
      "\n",
      "UserID: 155355 \n",
      "number of ratings: 5 \n",
      "number of ratings >= 7: 3\n",
      "\n",
      "UserID: 75293 \n",
      "number of ratings: 6 \n",
      "number of ratings >= 7: 6\n",
      "\n",
      "UserID: 90277 \n",
      "number of ratings: 60 \n",
      "number of ratings >= 7: 26\n"
     ]
    }
   ],
   "source": [
    "ISBNAboveOrEqualN = []\n",
    "N =  7\n",
    "\n",
    "for userID, df in dfUsers.items():\n",
    "    RatingsAboveOrEqualN = df[df[\"Book-Rating\"]>=N]\n",
    "    ISBNAboveOrEqualN.append(list(RatingsAboveOrEqualN.ISBN))\n",
    "    print(\"\\nUserID:\", userID, \"\\nnumber of ratings:\", len(df), f\"\\nnumber of ratings >= {N}:\", len(RatingsAboveOrEqualN))\n",
    "    \n",
    "# flatten list\n",
    "import itertools\n",
    "ISBNAboveOrEqualN = list(itertools.chain.from_iterable(ISBNAboveOrEqualN))\n",
    "# ISBNAboveOrEqualN"
   ]
  },
  {
   "cell_type": "markdown",
   "id": "2beb38a3-57ab-4f41-89b7-fcf7b5a7211e",
   "metadata": {},
   "source": [
    "Remove LOTR ISBNs from the list"
   ]
  },
  {
   "cell_type": "code",
   "execution_count": 21,
   "id": "145b7dc1-a219-4700-a87d-54e59b427052",
   "metadata": {},
   "outputs": [],
   "source": [
    "ISBNAboveOrEqualN_noLOTR = [i for i in ISBNAboveOrEqualN if i not in lotrISBN]"
   ]
  },
  {
   "cell_type": "markdown",
   "id": "3d37d9b8-d1d6-4039-b48c-c24d6610c79c",
   "metadata": {},
   "source": [
    "Check for count - if any books get reccomended multiple times, put it higher on the listISBNAboveOrEqualN"
   ]
  },
  {
   "cell_type": "code",
   "execution_count": 22,
   "id": "81ade69f-72ad-4099-820f-176f714d0258",
   "metadata": {},
   "outputs": [
    {
     "name": "stdout",
     "output_type": "stream",
     "text": [
      "{'009188800X': 1, '0330306839': 1, '0345331397': 1, '0552137030': 1, '0552143243': 1, '0752223844': 1, '0836210263': 1, '0836213319': 1, '0836217373': 1, '0836217586': 1, '0836217799': 1, '0836228995': 1, '1853049409': 1, '2038710317': 1, '2070301028': 1, '2070408450': 1, '2207303519': 1, '2207500438': 1, '2253007153': 1, '2253146889': 1, '2266027263': 1, '287714125X': 1, '2858152950': 1, '2869433972': 1, '2070415732': 1, '2253004332': 1, '2253006920': 1, '2.207.50119.1': 1, '2070299732': 1, '2070416151': 1, '2207247279': 1, '2226067582': 1, '2226109218': 1, '2246342716': 1, '2253063339': 1, '2253137243': 1, '2266022504': 1, '2266061348': 1, '2266071556': 1, '2266083988': 1, '2266099701': 1, '2266111396': 1, '2266111515': 1, '2290049638': 1, '2290050881': 1, '2290311286': 1, '2290311294': 1, '2290315095': 1, '2290319937': 1, '2702807844': 1, '2841721949': 1, '2877302202': 1}\n"
     ]
    }
   ],
   "source": [
    "from collections import Counter\n",
    "ISBNandNumberOfRatings = dict(Counter(ISBNAboveOrEqualN_noLOTR))\n",
    "ISBNandNumberOfRatingsSorted = {k: v for k, v in sorted(ISBNandNumberOfRatings.items(), key=lambda item: item[1], reverse=True)}\n",
    "print(ISBNandNumberOfRatingsSorted)"
   ]
  },
  {
   "cell_type": "markdown",
   "id": "37c9f726-79b7-40ee-b91a-6597cfba5276",
   "metadata": {},
   "source": [
    "Let's have a look at the books which occur more than one time and find what books are they"
   ]
  },
  {
   "cell_type": "code",
   "execution_count": 23,
   "id": "13b97e4a-d93a-44ba-8153-2172666da8fd",
   "metadata": {},
   "outputs": [
    {
     "name": "stdout",
     "output_type": "stream",
     "text": [
      "isbn predicted multiple times: dict_keys([])\n"
     ]
    },
    {
     "data": {
      "text/html": [
       "<div>\n",
       "<style scoped>\n",
       "    .dataframe tbody tr th:only-of-type {\n",
       "        vertical-align: middle;\n",
       "    }\n",
       "\n",
       "    .dataframe tbody tr th {\n",
       "        vertical-align: top;\n",
       "    }\n",
       "\n",
       "    .dataframe thead th {\n",
       "        text-align: right;\n",
       "    }\n",
       "</style>\n",
       "<table border=\"1\" class=\"dataframe\">\n",
       "  <thead>\n",
       "    <tr style=\"text-align: right;\">\n",
       "      <th></th>\n",
       "      <th>ISBN</th>\n",
       "      <th>Book-Title</th>\n",
       "      <th>Book-Author</th>\n",
       "      <th>Year-Of-Publication</th>\n",
       "      <th>Publisher</th>\n",
       "      <th>Image-URL-S</th>\n",
       "      <th>Image-URL-M</th>\n",
       "      <th>Image-URL-L</th>\n",
       "    </tr>\n",
       "  </thead>\n",
       "  <tbody>\n",
       "  </tbody>\n",
       "</table>\n",
       "</div>"
      ],
      "text/plain": [
       "Empty DataFrame\n",
       "Columns: [ISBN, Book-Title, Book-Author, Year-Of-Publication, Publisher, Image-URL-S, Image-URL-M, Image-URL-L]\n",
       "Index: []"
      ]
     },
     "metadata": {},
     "output_type": "display_data"
    }
   ],
   "source": [
    "recommendedMultipleTimes = {k: v for k, v in ISBNandNumberOfRatingsSorted.items() if v>1}\n",
    "print(\"isbn predicted multiple times:\", recommendedMultipleTimes.keys())\n",
    "display(books[books.ISBN.isin(recommendedMultipleTimes.keys())])"
   ]
  },
  {
   "cell_type": "code",
   "execution_count": 24,
   "id": "e310db5c-4516-42ce-9d37-8847f9eb74b4",
   "metadata": {},
   "outputs": [
    {
     "name": "stdout",
     "output_type": "stream",
     "text": [
      "\n",
      "total number of reccomended books: 43\n"
     ]
    },
    {
     "data": {
      "text/html": [
       "<div>\n",
       "<style scoped>\n",
       "    .dataframe tbody tr th:only-of-type {\n",
       "        vertical-align: middle;\n",
       "    }\n",
       "\n",
       "    .dataframe tbody tr th {\n",
       "        vertical-align: top;\n",
       "    }\n",
       "\n",
       "    .dataframe thead th {\n",
       "        text-align: right;\n",
       "    }\n",
       "</style>\n",
       "<table border=\"1\" class=\"dataframe\">\n",
       "  <thead>\n",
       "    <tr style=\"text-align: right;\">\n",
       "      <th></th>\n",
       "      <th>ISBN</th>\n",
       "      <th>Book-Title</th>\n",
       "      <th>Book-Author</th>\n",
       "      <th>Year-Of-Publication</th>\n",
       "      <th>Publisher</th>\n",
       "      <th>Image-URL-S</th>\n",
       "      <th>Image-URL-M</th>\n",
       "      <th>Image-URL-L</th>\n",
       "    </tr>\n",
       "  </thead>\n",
       "  <tbody>\n",
       "    <tr>\n",
       "      <th>819</th>\n",
       "      <td>2253063339</td>\n",
       "      <td>Les Fourmis</td>\n",
       "      <td>Bernard Werber</td>\n",
       "      <td>2002</td>\n",
       "      <td>LGF</td>\n",
       "      <td>http://images.amazon.com/images/P/2253063339.0...</td>\n",
       "      <td>http://images.amazon.com/images/P/2253063339.0...</td>\n",
       "      <td>http://images.amazon.com/images/P/2253063339.0...</td>\n",
       "    </tr>\n",
       "    <tr>\n",
       "      <th>6144</th>\n",
       "      <td>0330306839</td>\n",
       "      <td>Holidays In Hell</td>\n",
       "      <td>P J Orourke</td>\n",
       "      <td>0</td>\n",
       "      <td>Pan Books Ltd</td>\n",
       "      <td>http://images.amazon.com/images/P/0330306839.0...</td>\n",
       "      <td>http://images.amazon.com/images/P/0330306839.0...</td>\n",
       "      <td>http://images.amazon.com/images/P/0330306839.0...</td>\n",
       "    </tr>\n",
       "    <tr>\n",
       "      <th>9647</th>\n",
       "      <td>2070408450</td>\n",
       "      <td>Saga</td>\n",
       "      <td>Tonino Benacquista</td>\n",
       "      <td>1999</td>\n",
       "      <td>Gallimard</td>\n",
       "      <td>http://images.amazon.com/images/P/2070408450.0...</td>\n",
       "      <td>http://images.amazon.com/images/P/2070408450.0...</td>\n",
       "      <td>http://images.amazon.com/images/P/2070408450.0...</td>\n",
       "    </tr>\n",
       "    <tr>\n",
       "      <th>10122</th>\n",
       "      <td>0345331397</td>\n",
       "      <td>I, Robot</td>\n",
       "      <td>Isaac Asimov</td>\n",
       "      <td>1989</td>\n",
       "      <td>Del Rey Books</td>\n",
       "      <td>http://images.amazon.com/images/P/0345331397.0...</td>\n",
       "      <td>http://images.amazon.com/images/P/0345331397.0...</td>\n",
       "      <td>http://images.amazon.com/images/P/0345331397.0...</td>\n",
       "    </tr>\n",
       "    <tr>\n",
       "      <th>10565</th>\n",
       "      <td>2253137243</td>\n",
       "      <td>Le Jour des fourmis</td>\n",
       "      <td>Bernard Werber</td>\n",
       "      <td>1995</td>\n",
       "      <td>LGF</td>\n",
       "      <td>http://images.amazon.com/images/P/2253137243.0...</td>\n",
       "      <td>http://images.amazon.com/images/P/2253137243.0...</td>\n",
       "      <td>http://images.amazon.com/images/P/2253137243.0...</td>\n",
       "    </tr>\n",
       "  </tbody>\n",
       "</table>\n",
       "</div>"
      ],
      "text/plain": [
       "             ISBN           Book-Title         Book-Author  \\\n",
       "819    2253063339          Les Fourmis      Bernard Werber   \n",
       "6144   0330306839     Holidays In Hell         P J Orourke   \n",
       "9647   2070408450                 Saga  Tonino Benacquista   \n",
       "10122  0345331397             I, Robot        Isaac Asimov   \n",
       "10565  2253137243  Le Jour des fourmis      Bernard Werber   \n",
       "\n",
       "       Year-Of-Publication      Publisher  \\\n",
       "819                   2002            LGF   \n",
       "6144                     0  Pan Books Ltd   \n",
       "9647                  1999      Gallimard   \n",
       "10122                 1989  Del Rey Books   \n",
       "10565                 1995            LGF   \n",
       "\n",
       "                                             Image-URL-S  \\\n",
       "819    http://images.amazon.com/images/P/2253063339.0...   \n",
       "6144   http://images.amazon.com/images/P/0330306839.0...   \n",
       "9647   http://images.amazon.com/images/P/2070408450.0...   \n",
       "10122  http://images.amazon.com/images/P/0345331397.0...   \n",
       "10565  http://images.amazon.com/images/P/2253137243.0...   \n",
       "\n",
       "                                             Image-URL-M  \\\n",
       "819    http://images.amazon.com/images/P/2253063339.0...   \n",
       "6144   http://images.amazon.com/images/P/0330306839.0...   \n",
       "9647   http://images.amazon.com/images/P/2070408450.0...   \n",
       "10122  http://images.amazon.com/images/P/0345331397.0...   \n",
       "10565  http://images.amazon.com/images/P/2253137243.0...   \n",
       "\n",
       "                                             Image-URL-L  \n",
       "819    http://images.amazon.com/images/P/2253063339.0...  \n",
       "6144   http://images.amazon.com/images/P/0330306839.0...  \n",
       "9647   http://images.amazon.com/images/P/2070408450.0...  \n",
       "10122  http://images.amazon.com/images/P/0345331397.0...  \n",
       "10565  http://images.amazon.com/images/P/2253137243.0...  "
      ]
     },
     "metadata": {},
     "output_type": "display_data"
    }
   ],
   "source": [
    "recommendBooksWithoutLotr = books[books[\"ISBN\"].isin(ISBNAboveOrEqualN_noLOTR)]\n",
    "print(\"\\ntotal number of reccomended books:\", len(recommendBooksWithoutLotr))\n",
    "display(recommendBooksWithoutLotr.head())"
   ]
  },
  {
   "cell_type": "code",
   "execution_count": 25,
   "id": "3165fea8-94c7-4b0a-a081-4573299c6b2b",
   "metadata": {},
   "outputs": [
    {
     "data": {
      "text/html": [
       "<div>\n",
       "<style scoped>\n",
       "    .dataframe tbody tr th:only-of-type {\n",
       "        vertical-align: middle;\n",
       "    }\n",
       "\n",
       "    .dataframe tbody tr th {\n",
       "        vertical-align: top;\n",
       "    }\n",
       "\n",
       "    .dataframe thead th {\n",
       "        text-align: right;\n",
       "    }\n",
       "</style>\n",
       "<table border=\"1\" class=\"dataframe\">\n",
       "  <thead>\n",
       "    <tr style=\"text-align: right;\">\n",
       "      <th></th>\n",
       "      <th>Book-Author</th>\n",
       "      <th>ISBN</th>\n",
       "      <th>Book-Title</th>\n",
       "      <th>Year-Of-Publication</th>\n",
       "      <th>Publisher</th>\n",
       "      <th>Image-URL-S</th>\n",
       "      <th>Image-URL-M</th>\n",
       "      <th>Image-URL-L</th>\n",
       "    </tr>\n",
       "  </thead>\n",
       "  <tbody>\n",
       "    <tr>\n",
       "      <th>0</th>\n",
       "      <td>Scott Adams</td>\n",
       "      <td>7</td>\n",
       "      <td>7</td>\n",
       "      <td>7</td>\n",
       "      <td>7</td>\n",
       "      <td>7</td>\n",
       "      <td>7</td>\n",
       "      <td>7</td>\n",
       "    </tr>\n",
       "    <tr>\n",
       "      <th>1</th>\n",
       "      <td>Terry Pratchett</td>\n",
       "      <td>4</td>\n",
       "      <td>4</td>\n",
       "      <td>4</td>\n",
       "      <td>4</td>\n",
       "      <td>4</td>\n",
       "      <td>4</td>\n",
       "      <td>4</td>\n",
       "    </tr>\n",
       "    <tr>\n",
       "      <th>2</th>\n",
       "      <td>Pierre Bordage</td>\n",
       "      <td>4</td>\n",
       "      <td>4</td>\n",
       "      <td>4</td>\n",
       "      <td>4</td>\n",
       "      <td>4</td>\n",
       "      <td>4</td>\n",
       "      <td>4</td>\n",
       "    </tr>\n",
       "    <tr>\n",
       "      <th>3</th>\n",
       "      <td>Bernard Werber</td>\n",
       "      <td>3</td>\n",
       "      <td>3</td>\n",
       "      <td>3</td>\n",
       "      <td>3</td>\n",
       "      <td>3</td>\n",
       "      <td>3</td>\n",
       "      <td>3</td>\n",
       "    </tr>\n",
       "    <tr>\n",
       "      <th>4</th>\n",
       "      <td>Tonino Benacquista</td>\n",
       "      <td>2</td>\n",
       "      <td>2</td>\n",
       "      <td>2</td>\n",
       "      <td>2</td>\n",
       "      <td>2</td>\n",
       "      <td>2</td>\n",
       "      <td>2</td>\n",
       "    </tr>\n",
       "    <tr>\n",
       "      <th>5</th>\n",
       "      <td>Edgar Allan Poe</td>\n",
       "      <td>2</td>\n",
       "      <td>2</td>\n",
       "      <td>2</td>\n",
       "      <td>2</td>\n",
       "      <td>2</td>\n",
       "      <td>2</td>\n",
       "      <td>2</td>\n",
       "    </tr>\n",
       "    <tr>\n",
       "      <th>6</th>\n",
       "      <td>Marguerite Yourcenar</td>\n",
       "      <td>1</td>\n",
       "      <td>1</td>\n",
       "      <td>1</td>\n",
       "      <td>1</td>\n",
       "      <td>1</td>\n",
       "      <td>1</td>\n",
       "      <td>1</td>\n",
       "    </tr>\n",
       "    <tr>\n",
       "      <th>7</th>\n",
       "      <td>Simmons</td>\n",
       "      <td>1</td>\n",
       "      <td>1</td>\n",
       "      <td>1</td>\n",
       "      <td>1</td>\n",
       "      <td>1</td>\n",
       "      <td>1</td>\n",
       "      <td>1</td>\n",
       "    </tr>\n",
       "    <tr>\n",
       "      <th>8</th>\n",
       "      <td>Robert Sheckley</td>\n",
       "      <td>1</td>\n",
       "      <td>1</td>\n",
       "      <td>1</td>\n",
       "      <td>1</td>\n",
       "      <td>1</td>\n",
       "      <td>1</td>\n",
       "      <td>1</td>\n",
       "    </tr>\n",
       "    <tr>\n",
       "      <th>9</th>\n",
       "      <td>Ray Bradbury</td>\n",
       "      <td>1</td>\n",
       "      <td>1</td>\n",
       "      <td>1</td>\n",
       "      <td>1</td>\n",
       "      <td>1</td>\n",
       "      <td>1</td>\n",
       "      <td>1</td>\n",
       "    </tr>\n",
       "    <tr>\n",
       "      <th>10</th>\n",
       "      <td>Primo Levi</td>\n",
       "      <td>1</td>\n",
       "      <td>1</td>\n",
       "      <td>1</td>\n",
       "      <td>1</td>\n",
       "      <td>1</td>\n",
       "      <td>1</td>\n",
       "      <td>1</td>\n",
       "    </tr>\n",
       "    <tr>\n",
       "      <th>11</th>\n",
       "      <td>Philippe Vandel</td>\n",
       "      <td>1</td>\n",
       "      <td>1</td>\n",
       "      <td>1</td>\n",
       "      <td>1</td>\n",
       "      <td>1</td>\n",
       "      <td>1</td>\n",
       "      <td>1</td>\n",
       "    </tr>\n",
       "    <tr>\n",
       "      <th>12</th>\n",
       "      <td>P J Orourke</td>\n",
       "      <td>1</td>\n",
       "      <td>1</td>\n",
       "      <td>1</td>\n",
       "      <td>1</td>\n",
       "      <td>1</td>\n",
       "      <td>1</td>\n",
       "      <td>1</td>\n",
       "    </tr>\n",
       "    <tr>\n",
       "      <th>13</th>\n",
       "      <td>Marquis de Sade</td>\n",
       "      <td>1</td>\n",
       "      <td>1</td>\n",
       "      <td>1</td>\n",
       "      <td>1</td>\n",
       "      <td>1</td>\n",
       "      <td>1</td>\n",
       "      <td>1</td>\n",
       "    </tr>\n",
       "    <tr>\n",
       "      <th>14</th>\n",
       "      <td>Akiyuki Nosaka</td>\n",
       "      <td>1</td>\n",
       "      <td>1</td>\n",
       "      <td>1</td>\n",
       "      <td>1</td>\n",
       "      <td>1</td>\n",
       "      <td>1</td>\n",
       "      <td>1</td>\n",
       "    </tr>\n",
       "    <tr>\n",
       "      <th>15</th>\n",
       "      <td>Lapierre</td>\n",
       "      <td>1</td>\n",
       "      <td>1</td>\n",
       "      <td>1</td>\n",
       "      <td>1</td>\n",
       "      <td>1</td>\n",
       "      <td>1</td>\n",
       "      <td>1</td>\n",
       "    </tr>\n",
       "    <tr>\n",
       "      <th>16</th>\n",
       "      <td>AmÃ?Â©lie Nothomb</td>\n",
       "      <td>1</td>\n",
       "      <td>1</td>\n",
       "      <td>1</td>\n",
       "      <td>1</td>\n",
       "      <td>1</td>\n",
       "      <td>1</td>\n",
       "      <td>1</td>\n",
       "    </tr>\n",
       "    <tr>\n",
       "      <th>17</th>\n",
       "      <td>Jean-Michel Truong</td>\n",
       "      <td>1</td>\n",
       "      <td>1</td>\n",
       "      <td>1</td>\n",
       "      <td>1</td>\n",
       "      <td>1</td>\n",
       "      <td>1</td>\n",
       "      <td>1</td>\n",
       "    </tr>\n",
       "    <tr>\n",
       "      <th>18</th>\n",
       "      <td>Isaac Asimov</td>\n",
       "      <td>1</td>\n",
       "      <td>1</td>\n",
       "      <td>1</td>\n",
       "      <td>1</td>\n",
       "      <td>1</td>\n",
       "      <td>1</td>\n",
       "      <td>1</td>\n",
       "    </tr>\n",
       "    <tr>\n",
       "      <th>19</th>\n",
       "      <td>Franquin</td>\n",
       "      <td>1</td>\n",
       "      <td>1</td>\n",
       "      <td>1</td>\n",
       "      <td>1</td>\n",
       "      <td>1</td>\n",
       "      <td>1</td>\n",
       "      <td>1</td>\n",
       "    </tr>\n",
       "    <tr>\n",
       "      <th>20</th>\n",
       "      <td>Eric-Emmanuel Schmitt</td>\n",
       "      <td>1</td>\n",
       "      <td>1</td>\n",
       "      <td>1</td>\n",
       "      <td>1</td>\n",
       "      <td>1</td>\n",
       "      <td>1</td>\n",
       "      <td>1</td>\n",
       "    </tr>\n",
       "    <tr>\n",
       "      <th>21</th>\n",
       "      <td>Douglas Adams</td>\n",
       "      <td>1</td>\n",
       "      <td>1</td>\n",
       "      <td>1</td>\n",
       "      <td>1</td>\n",
       "      <td>1</td>\n",
       "      <td>1</td>\n",
       "      <td>1</td>\n",
       "    </tr>\n",
       "    <tr>\n",
       "      <th>22</th>\n",
       "      <td>Dan Simmons</td>\n",
       "      <td>1</td>\n",
       "      <td>1</td>\n",
       "      <td>1</td>\n",
       "      <td>1</td>\n",
       "      <td>1</td>\n",
       "      <td>1</td>\n",
       "      <td>1</td>\n",
       "    </tr>\n",
       "    <tr>\n",
       "      <th>23</th>\n",
       "      <td>Charles Baudelaire</td>\n",
       "      <td>1</td>\n",
       "      <td>1</td>\n",
       "      <td>1</td>\n",
       "      <td>1</td>\n",
       "      <td>1</td>\n",
       "      <td>1</td>\n",
       "      <td>1</td>\n",
       "    </tr>\n",
       "    <tr>\n",
       "      <th>24</th>\n",
       "      <td>Beaumarchais</td>\n",
       "      <td>1</td>\n",
       "      <td>1</td>\n",
       "      <td>1</td>\n",
       "      <td>1</td>\n",
       "      <td>1</td>\n",
       "      <td>1</td>\n",
       "      <td>1</td>\n",
       "    </tr>\n",
       "    <tr>\n",
       "      <th>25</th>\n",
       "      <td>Arthur Conan Doyle</td>\n",
       "      <td>1</td>\n",
       "      <td>1</td>\n",
       "      <td>1</td>\n",
       "      <td>1</td>\n",
       "      <td>1</td>\n",
       "      <td>1</td>\n",
       "      <td>1</td>\n",
       "    </tr>\n",
       "    <tr>\n",
       "      <th>26</th>\n",
       "      <td>Jim Davis</td>\n",
       "      <td>1</td>\n",
       "      <td>1</td>\n",
       "      <td>1</td>\n",
       "      <td>1</td>\n",
       "      <td>1</td>\n",
       "      <td>1</td>\n",
       "      <td>1</td>\n",
       "    </tr>\n",
       "  </tbody>\n",
       "</table>\n",
       "</div>"
      ],
      "text/plain": [
       "              Book-Author  ISBN  Book-Title  Year-Of-Publication  Publisher  \\\n",
       "0             Scott Adams     7           7                    7          7   \n",
       "1         Terry Pratchett     4           4                    4          4   \n",
       "2          Pierre Bordage     4           4                    4          4   \n",
       "3          Bernard Werber     3           3                    3          3   \n",
       "4      Tonino Benacquista     2           2                    2          2   \n",
       "5         Edgar Allan Poe     2           2                    2          2   \n",
       "6    Marguerite Yourcenar     1           1                    1          1   \n",
       "7                 Simmons     1           1                    1          1   \n",
       "8         Robert Sheckley     1           1                    1          1   \n",
       "9            Ray Bradbury     1           1                    1          1   \n",
       "10             Primo Levi     1           1                    1          1   \n",
       "11        Philippe Vandel     1           1                    1          1   \n",
       "12            P J Orourke     1           1                    1          1   \n",
       "13        Marquis de Sade     1           1                    1          1   \n",
       "14         Akiyuki Nosaka     1           1                    1          1   \n",
       "15               Lapierre     1           1                    1          1   \n",
       "16      AmÃ?Â©lie Nothomb     1           1                    1          1   \n",
       "17     Jean-Michel Truong     1           1                    1          1   \n",
       "18           Isaac Asimov     1           1                    1          1   \n",
       "19               Franquin     1           1                    1          1   \n",
       "20  Eric-Emmanuel Schmitt     1           1                    1          1   \n",
       "21          Douglas Adams     1           1                    1          1   \n",
       "22            Dan Simmons     1           1                    1          1   \n",
       "23     Charles Baudelaire     1           1                    1          1   \n",
       "24           Beaumarchais     1           1                    1          1   \n",
       "25     Arthur Conan Doyle     1           1                    1          1   \n",
       "26              Jim Davis     1           1                    1          1   \n",
       "\n",
       "    Image-URL-S  Image-URL-M  Image-URL-L  \n",
       "0             7            7            7  \n",
       "1             4            4            4  \n",
       "2             4            4            4  \n",
       "3             3            3            3  \n",
       "4             2            2            2  \n",
       "5             2            2            2  \n",
       "6             1            1            1  \n",
       "7             1            1            1  \n",
       "8             1            1            1  \n",
       "9             1            1            1  \n",
       "10            1            1            1  \n",
       "11            1            1            1  \n",
       "12            1            1            1  \n",
       "13            1            1            1  \n",
       "14            1            1            1  \n",
       "15            1            1            1  \n",
       "16            1            1            1  \n",
       "17            1            1            1  \n",
       "18            1            1            1  \n",
       "19            1            1            1  \n",
       "20            1            1            1  \n",
       "21            1            1            1  \n",
       "22            1            1            1  \n",
       "23            1            1            1  \n",
       "24            1            1            1  \n",
       "25            1            1            1  \n",
       "26            1            1            1  "
      ]
     },
     "execution_count": 25,
     "metadata": {},
     "output_type": "execute_result"
    }
   ],
   "source": [
    "AuthorCountRecommend = recommendBooksWithoutLotr.groupby(by=\"Book-Author\").count()\n",
    "AuthorCountRecommendSort = AuthorCountRecommend.sort_values(by=\"ISBN\", ascending=False).reset_index()\n",
    "AuthorCountRecommendSort"
   ]
  },
  {
   "cell_type": "markdown",
   "id": "c8572558-119c-4f6c-b1ce-4452c6cda401",
   "metadata": {},
   "source": [
    "Now there are several possibilities. If I was to have any rating history as a user, I could've removed some recommended books from the list. The rest can be sorted by the author - e.g., the most popular books each of them - show these first, then continue with recommending the books from less read authors\n",
    "\n",
    "For instance, I am going to recommend 10 books now, select top 10 authors from the  dataframe of recommendations"
   ]
  },
  {
   "cell_type": "code",
   "execution_count": 26,
   "id": "1d057c43-71bb-4ea2-b3d5-275c16ad1dd9",
   "metadata": {},
   "outputs": [
    {
     "data": {
      "text/plain": [
       "0             Scott Adams\n",
       "1         Terry Pratchett\n",
       "2          Pierre Bordage\n",
       "3          Bernard Werber\n",
       "4      Tonino Benacquista\n",
       "5         Edgar Allan Poe\n",
       "6    Marguerite Yourcenar\n",
       "7                 Simmons\n",
       "8         Robert Sheckley\n",
       "9            Ray Bradbury\n",
       "Name: Book-Author, dtype: object"
      ]
     },
     "execution_count": 26,
     "metadata": {},
     "output_type": "execute_result"
    }
   ],
   "source": [
    "top5Authors = AuthorCountRecommendSort[\"Book-Author\"][:10]\n",
    "top5Authors"
   ]
  },
  {
   "cell_type": "markdown",
   "id": "4195f6a5-c1ef-40e3-afbc-16f4eb14463b",
   "metadata": {},
   "source": [
    "Select the books by these authors"
   ]
  },
  {
   "cell_type": "code",
   "execution_count": 27,
   "id": "2bac2b39-a58e-4672-bf05-95a2faf89b58",
   "metadata": {},
   "outputs": [
    {
     "data": {
      "text/html": [
       "<div>\n",
       "<style scoped>\n",
       "    .dataframe tbody tr th:only-of-type {\n",
       "        vertical-align: middle;\n",
       "    }\n",
       "\n",
       "    .dataframe tbody tr th {\n",
       "        vertical-align: top;\n",
       "    }\n",
       "\n",
       "    .dataframe thead th {\n",
       "        text-align: right;\n",
       "    }\n",
       "</style>\n",
       "<table border=\"1\" class=\"dataframe\">\n",
       "  <thead>\n",
       "    <tr style=\"text-align: right;\">\n",
       "      <th></th>\n",
       "      <th>ISBN</th>\n",
       "      <th>Book-Title</th>\n",
       "      <th>Book-Author</th>\n",
       "      <th>Year-Of-Publication</th>\n",
       "      <th>Publisher</th>\n",
       "      <th>Image-URL-S</th>\n",
       "      <th>Image-URL-M</th>\n",
       "      <th>Image-URL-L</th>\n",
       "    </tr>\n",
       "  </thead>\n",
       "  <tbody>\n",
       "    <tr>\n",
       "      <th>819</th>\n",
       "      <td>2253063339</td>\n",
       "      <td>Les Fourmis</td>\n",
       "      <td>Bernard Werber</td>\n",
       "      <td>2002</td>\n",
       "      <td>LGF</td>\n",
       "      <td>http://images.amazon.com/images/P/2253063339.0...</td>\n",
       "      <td>http://images.amazon.com/images/P/2253063339.0...</td>\n",
       "      <td>http://images.amazon.com/images/P/2253063339.0...</td>\n",
       "    </tr>\n",
       "    <tr>\n",
       "      <th>9647</th>\n",
       "      <td>2070408450</td>\n",
       "      <td>Saga</td>\n",
       "      <td>Tonino Benacquista</td>\n",
       "      <td>1999</td>\n",
       "      <td>Gallimard</td>\n",
       "      <td>http://images.amazon.com/images/P/2070408450.0...</td>\n",
       "      <td>http://images.amazon.com/images/P/2070408450.0...</td>\n",
       "      <td>http://images.amazon.com/images/P/2070408450.0...</td>\n",
       "    </tr>\n",
       "    <tr>\n",
       "      <th>10565</th>\n",
       "      <td>2253137243</td>\n",
       "      <td>Le Jour des fourmis</td>\n",
       "      <td>Bernard Werber</td>\n",
       "      <td>1995</td>\n",
       "      <td>LGF</td>\n",
       "      <td>http://images.amazon.com/images/P/2253137243.0...</td>\n",
       "      <td>http://images.amazon.com/images/P/2253137243.0...</td>\n",
       "      <td>http://images.amazon.com/images/P/2253137243.0...</td>\n",
       "    </tr>\n",
       "    <tr>\n",
       "      <th>11335</th>\n",
       "      <td>0836217799</td>\n",
       "      <td>Bring Me The Head Of Willy The Mailboy!</td>\n",
       "      <td>Scott Adams</td>\n",
       "      <td>1995</td>\n",
       "      <td>Andrews McMeel Publishing</td>\n",
       "      <td>http://images.amazon.com/images/P/0836217799.0...</td>\n",
       "      <td>http://images.amazon.com/images/P/0836217799.0...</td>\n",
       "      <td>http://images.amazon.com/images/P/0836217799.0...</td>\n",
       "    </tr>\n",
       "    <tr>\n",
       "      <th>20573</th>\n",
       "      <td>0836228995</td>\n",
       "      <td>Casual Day Has Gone Too Far</td>\n",
       "      <td>Scott Adams</td>\n",
       "      <td>1997</td>\n",
       "      <td>Andrews McMeel Publishing</td>\n",
       "      <td>http://images.amazon.com/images/P/0836228995.0...</td>\n",
       "      <td>http://images.amazon.com/images/P/0836228995.0...</td>\n",
       "      <td>http://images.amazon.com/images/P/0836228995.0...</td>\n",
       "    </tr>\n",
       "  </tbody>\n",
       "</table>\n",
       "</div>"
      ],
      "text/plain": [
       "             ISBN                               Book-Title  \\\n",
       "819    2253063339                              Les Fourmis   \n",
       "9647   2070408450                                     Saga   \n",
       "10565  2253137243                      Le Jour des fourmis   \n",
       "11335  0836217799  Bring Me The Head Of Willy The Mailboy!   \n",
       "20573  0836228995              Casual Day Has Gone Too Far   \n",
       "\n",
       "              Book-Author  Year-Of-Publication                  Publisher  \\\n",
       "819        Bernard Werber                 2002                        LGF   \n",
       "9647   Tonino Benacquista                 1999                  Gallimard   \n",
       "10565      Bernard Werber                 1995                        LGF   \n",
       "11335         Scott Adams                 1995  Andrews McMeel Publishing   \n",
       "20573         Scott Adams                 1997  Andrews McMeel Publishing   \n",
       "\n",
       "                                             Image-URL-S  \\\n",
       "819    http://images.amazon.com/images/P/2253063339.0...   \n",
       "9647   http://images.amazon.com/images/P/2070408450.0...   \n",
       "10565  http://images.amazon.com/images/P/2253137243.0...   \n",
       "11335  http://images.amazon.com/images/P/0836217799.0...   \n",
       "20573  http://images.amazon.com/images/P/0836228995.0...   \n",
       "\n",
       "                                             Image-URL-M  \\\n",
       "819    http://images.amazon.com/images/P/2253063339.0...   \n",
       "9647   http://images.amazon.com/images/P/2070408450.0...   \n",
       "10565  http://images.amazon.com/images/P/2253137243.0...   \n",
       "11335  http://images.amazon.com/images/P/0836217799.0...   \n",
       "20573  http://images.amazon.com/images/P/0836228995.0...   \n",
       "\n",
       "                                             Image-URL-L  \n",
       "819    http://images.amazon.com/images/P/2253063339.0...  \n",
       "9647   http://images.amazon.com/images/P/2070408450.0...  \n",
       "10565  http://images.amazon.com/images/P/2253137243.0...  \n",
       "11335  http://images.amazon.com/images/P/0836217799.0...  \n",
       "20573  http://images.amazon.com/images/P/0836228995.0...  "
      ]
     },
     "execution_count": 27,
     "metadata": {},
     "output_type": "execute_result"
    }
   ],
   "source": [
    "topAuthorBooksRecommend = recommendBooksWithoutLotr[recommendBooksWithoutLotr[\"Book-Author\"].isin(top5Authors)]\n",
    "topAuthorBooksRecommend.head()"
   ]
  },
  {
   "cell_type": "markdown",
   "id": "dc941a6a-b159-47cc-a0c1-1852952aebf4",
   "metadata": {},
   "source": [
    "Count number of ratings (both implicit and explicit now => more interaction, more popularity)"
   ]
  },
  {
   "cell_type": "code",
   "execution_count": 28,
   "id": "22ce69e8-d75a-40be-9f61-526c5f0c58d7",
   "metadata": {},
   "outputs": [
    {
     "data": {
      "text/html": [
       "<div>\n",
       "<style scoped>\n",
       "    .dataframe tbody tr th:only-of-type {\n",
       "        vertical-align: middle;\n",
       "    }\n",
       "\n",
       "    .dataframe tbody tr th {\n",
       "        vertical-align: top;\n",
       "    }\n",
       "\n",
       "    .dataframe thead th {\n",
       "        text-align: right;\n",
       "    }\n",
       "</style>\n",
       "<table border=\"1\" class=\"dataframe\">\n",
       "  <thead>\n",
       "    <tr style=\"text-align: right;\">\n",
       "      <th></th>\n",
       "      <th>ISBN</th>\n",
       "      <th>User-ID</th>\n",
       "      <th>Book-Rating</th>\n",
       "      <th>Book-Title</th>\n",
       "      <th>Book-Author</th>\n",
       "      <th>Year-Of-Publication</th>\n",
       "      <th>Publisher</th>\n",
       "      <th>Image-URL-S</th>\n",
       "      <th>Image-URL-M</th>\n",
       "      <th>Image-URL-L</th>\n",
       "    </tr>\n",
       "  </thead>\n",
       "  <tbody>\n",
       "    <tr>\n",
       "      <th>0</th>\n",
       "      <td>2253063339</td>\n",
       "      <td>35</td>\n",
       "      <td>35</td>\n",
       "      <td>Les Fourmis</td>\n",
       "      <td>Bernard Werber</td>\n",
       "      <td>2002</td>\n",
       "      <td>LGF</td>\n",
       "      <td>http://images.amazon.com/images/P/2253063339.0...</td>\n",
       "      <td>http://images.amazon.com/images/P/2253063339.0...</td>\n",
       "      <td>http://images.amazon.com/images/P/2253063339.0...</td>\n",
       "    </tr>\n",
       "    <tr>\n",
       "      <th>1</th>\n",
       "      <td>0836210263</td>\n",
       "      <td>30</td>\n",
       "      <td>30</td>\n",
       "      <td>Still Pumped From Using The Mouse</td>\n",
       "      <td>Scott Adams</td>\n",
       "      <td>1996</td>\n",
       "      <td>Andrews McMeel Publishing</td>\n",
       "      <td>http://images.amazon.com/images/P/0836210263.0...</td>\n",
       "      <td>http://images.amazon.com/images/P/0836210263.0...</td>\n",
       "      <td>http://images.amazon.com/images/P/0836210263.0...</td>\n",
       "    </tr>\n",
       "    <tr>\n",
       "      <th>2</th>\n",
       "      <td>0836213319</td>\n",
       "      <td>26</td>\n",
       "      <td>26</td>\n",
       "      <td>Dilbert: A Book of Postcards</td>\n",
       "      <td>Scott Adams</td>\n",
       "      <td>1996</td>\n",
       "      <td>Andrews McMeel Pub</td>\n",
       "      <td>http://images.amazon.com/images/P/0836213319.0...</td>\n",
       "      <td>http://images.amazon.com/images/P/0836213319.0...</td>\n",
       "      <td>http://images.amazon.com/images/P/0836213319.0...</td>\n",
       "    </tr>\n",
       "    <tr>\n",
       "      <th>3</th>\n",
       "      <td>2070301028</td>\n",
       "      <td>17</td>\n",
       "      <td>17</td>\n",
       "      <td>Quelqu'un d'autre</td>\n",
       "      <td>Tonino Benacquista</td>\n",
       "      <td>2003</td>\n",
       "      <td>Gallimard</td>\n",
       "      <td>http://images.amazon.com/images/P/2070301028.0...</td>\n",
       "      <td>http://images.amazon.com/images/P/2070301028.0...</td>\n",
       "      <td>http://images.amazon.com/images/P/2070301028.0...</td>\n",
       "    </tr>\n",
       "    <tr>\n",
       "      <th>4</th>\n",
       "      <td>0836217799</td>\n",
       "      <td>14</td>\n",
       "      <td>14</td>\n",
       "      <td>Bring Me The Head Of Willy The Mailboy!</td>\n",
       "      <td>Scott Adams</td>\n",
       "      <td>1995</td>\n",
       "      <td>Andrews McMeel Publishing</td>\n",
       "      <td>http://images.amazon.com/images/P/0836217799.0...</td>\n",
       "      <td>http://images.amazon.com/images/P/0836217799.0...</td>\n",
       "      <td>http://images.amazon.com/images/P/0836217799.0...</td>\n",
       "    </tr>\n",
       "  </tbody>\n",
       "</table>\n",
       "</div>"
      ],
      "text/plain": [
       "         ISBN  User-ID  Book-Rating                               Book-Title  \\\n",
       "0  2253063339       35           35                              Les Fourmis   \n",
       "1  0836210263       30           30        Still Pumped From Using The Mouse   \n",
       "2  0836213319       26           26             Dilbert: A Book of Postcards   \n",
       "3  2070301028       17           17                        Quelqu'un d'autre   \n",
       "4  0836217799       14           14  Bring Me The Head Of Willy The Mailboy!   \n",
       "\n",
       "          Book-Author  Year-Of-Publication                  Publisher  \\\n",
       "0      Bernard Werber                 2002                        LGF   \n",
       "1         Scott Adams                 1996  Andrews McMeel Publishing   \n",
       "2         Scott Adams                 1996         Andrews McMeel Pub   \n",
       "3  Tonino Benacquista                 2003                  Gallimard   \n",
       "4         Scott Adams                 1995  Andrews McMeel Publishing   \n",
       "\n",
       "                                         Image-URL-S  \\\n",
       "0  http://images.amazon.com/images/P/2253063339.0...   \n",
       "1  http://images.amazon.com/images/P/0836210263.0...   \n",
       "2  http://images.amazon.com/images/P/0836213319.0...   \n",
       "3  http://images.amazon.com/images/P/2070301028.0...   \n",
       "4  http://images.amazon.com/images/P/0836217799.0...   \n",
       "\n",
       "                                         Image-URL-M  \\\n",
       "0  http://images.amazon.com/images/P/2253063339.0...   \n",
       "1  http://images.amazon.com/images/P/0836210263.0...   \n",
       "2  http://images.amazon.com/images/P/0836213319.0...   \n",
       "3  http://images.amazon.com/images/P/2070301028.0...   \n",
       "4  http://images.amazon.com/images/P/0836217799.0...   \n",
       "\n",
       "                                         Image-URL-L  \n",
       "0  http://images.amazon.com/images/P/2253063339.0...  \n",
       "1  http://images.amazon.com/images/P/0836210263.0...  \n",
       "2  http://images.amazon.com/images/P/0836213319.0...  \n",
       "3  http://images.amazon.com/images/P/2070301028.0...  \n",
       "4  http://images.amazon.com/images/P/0836217799.0...  "
      ]
     },
     "execution_count": 28,
     "metadata": {},
     "output_type": "execute_result"
    }
   ],
   "source": [
    "topAuthorBooksRecommend_ISBN = topAuthorBooksRecommend.ISBN\n",
    "topAuthorBooksRecommend_ISBN_ratings = ratings[ratings[\"ISBN\"].isin(topAuthorBooksRecommend_ISBN)]\n",
    "topAuthorBooksRecommend_ISBN_ratings_count = topAuthorBooksRecommend_ISBN_ratings.groupby(by=\"ISBN\").count().reset_index()\n",
    "topAuthorBooksRecommend_ISBN_ratings_count_sorted = topAuthorBooksRecommend_ISBN_ratings_count.sort_values(by=\"Book-Rating\", ascending=False)\n",
    "# add authors\n",
    "topAuthorBooksRecommend_ISBN_ratings_count_sorted = topAuthorBooksRecommend_ISBN_ratings_count_sorted.merge(books, on=\"ISBN\", how=\"left\")\n",
    "topAuthorBooksRecommend_ISBN_ratings_count_sorted.head()"
   ]
  },
  {
   "cell_type": "markdown",
   "id": "29dc5501-c2fe-4eed-86e8-3738610fb2bb",
   "metadata": {},
   "source": [
    "Display the recommended books. The recommendation is quite successful in my opinion. Prachett, Bradbury, Adams and many more are authors of fantasy, scifi and fiction in general."
   ]
  },
  {
   "cell_type": "code",
   "execution_count": 29,
   "id": "2c357e25-00e3-4be8-af40-afea42d4b801",
   "metadata": {},
   "outputs": [
    {
     "name": "stdout",
     "output_type": "stream",
     "text": [
      "Bernard Werber | Les Fourmis http://images.amazon.com/images/P/2253063339.01.MZZZZZZZ.jpg\n",
      "Edgar Allan Poe | Histoires extraordinaires http://images.amazon.com/images/P/2253006920.01.MZZZZZZZ.jpg\n",
      "Marguerite Yourcenar | Nouvelles Orientales http://images.amazon.com/images/P/2070299732.01.MZZZZZZZ.jpg\n",
      "Pierre Bordage | Wang, tome 1 : Les Portes d'Occident http://images.amazon.com/images/P/2290311286.01.MZZZZZZZ.jpg\n",
      "Ray Bradbury | Fahrenheit 451 (Collection Folio) http://images.amazon.com/images/P/2070415732.01.MZZZZZZZ.jpg\n",
      "Robert Sheckley | PÃ?Â¨lerinage Ã?Â  la terre http://images.amazon.com/images/P/2207500438.01.MZZZZZZZ.jpg\n",
      "Scott Adams | Still Pumped From Using The Mouse http://images.amazon.com/images/P/0836210263.01.MZZZZZZZ.jpg\n",
      "Simmons | Endymion, tome 1 http://images.amazon.com/images/P/2266083988.01.MZZZZZZZ.jpg\n",
      "Terry Pratchett | The Discworld Mapp http://images.amazon.com/images/P/0552143243.01.MZZZZZZZ.jpg\n",
      "Tonino Benacquista | Quelqu'un d'autre http://images.amazon.com/images/P/2070301028.01.MZZZZZZZ.jpg\n"
     ]
    }
   ],
   "source": [
    "topbooks = topAuthorBooksRecommend_ISBN_ratings_count_sorted.groupby(by=\"Book-Author\").first().reset_index()\n",
    "for line in topbooks.iterrows():\n",
    "    _, line = line\n",
    "    print(line[\"Book-Author\"],\"|\", line[\"Book-Title\"], line[\"Image-URL-M\"])"
   ]
  },
  {
   "cell_type": "markdown",
   "id": "f64db6f3-00bb-4b2a-b7a4-eb752960b952",
   "metadata": {},
   "source": [
    "See the book covers"
   ]
  },
  {
   "cell_type": "code",
   "execution_count": 30,
   "id": "6729e2c5-1d3a-40c8-bcee-4d9aeac922f3",
   "metadata": {},
   "outputs": [
    {
     "name": "stdout",
     "output_type": "stream",
     "text": [
      "<img src=http://images.amazon.com/images/P/2253063339.01.MZZZZZZZ.jpg/> <img src=http://images.amazon.com/images/P/2253006920.01.MZZZZZZZ.jpg/> <img src=http://images.amazon.com/images/P/2070299732.01.MZZZZZZZ.jpg/> <img src=http://images.amazon.com/images/P/2290311286.01.MZZZZZZZ.jpg/> <img src=http://images.amazon.com/images/P/2070415732.01.MZZZZZZZ.jpg/> <img src=http://images.amazon.com/images/P/2207500438.01.MZZZZZZZ.jpg/> <img src=http://images.amazon.com/images/P/0836210263.01.MZZZZZZZ.jpg/> <img src=http://images.amazon.com/images/P/2266083988.01.MZZZZZZZ.jpg/> <img src=http://images.amazon.com/images/P/0552143243.01.MZZZZZZZ.jpg/> <img src=http://images.amazon.com/images/P/2070301028.01.MZZZZZZZ.jpg/> "
     ]
    }
   ],
   "source": [
    "for line in topbooks.iterrows():\n",
    "    _, line = line\n",
    "    img = line[\"Image-URL-M\"]\n",
    "    print(f\"<img src={img}/>\", end=\" \")"
   ]
  },
  {
   "cell_type": "markdown",
   "id": "ff6366d8-e999-4a94-a0af-6e90eccacf60",
   "metadata": {},
   "source": [
    "<img src=http://images.amazon.com/images/P/2253063339.01.MZZZZZZZ.jpg/> <img src=http://images.amazon.com/images/P/2253006920.01.MZZZZZZZ.jpg/> <img src=http://images.amazon.com/images/P/2070299732.01.MZZZZZZZ.jpg/> <img src=http://images.amazon.com/images/P/2290311286.01.MZZZZZZZ.jpg/> <img src=http://images.amazon.com/images/P/2070415732.01.MZZZZZZZ.jpg/> <img src=http://images.amazon.com/images/P/2207500438.01.MZZZZZZZ.jpg/> <img src=http://images.amazon.com/images/P/0836210263.01.MZZZZZZZ.jpg/> <img src=http://images.amazon.com/images/P/2266083988.01.MZZZZZZZ.jpg/> <img src=http://images.amazon.com/images/P/0552143243.01.MZZZZZZZ.jpg/> <img src=http://images.amazon.com/images/P/2070301028.01.MZZZZZZZ.jpg/> "
   ]
  },
  {
   "cell_type": "markdown",
   "id": "d6c76547-bf58-4687-a9d7-fe274a0bd1a0",
   "metadata": {},
   "source": [
    "## Summary\n",
    "\n",
    "The goal was to give recommendation for a user who likes Lord of the Rings trilogy.\n",
    "I have explored the dataset, extracted books by J.R.R. Tolkien and used their ISBN to match the database of ratings. Then I tried to recommend some new books to the user based on what other users (who liked LOTR as well) enjoyed reading. \n",
    "\n",
    "From the data of users who liked LOTR I picked top 10 authors and selected their most popular book. These books are the recommended ones.\n",
    "\n",
    "Of course there are other ways to make predictions and some things to think about. I share some of them in the list below\n",
    "\n",
    "Think about:\n",
    "- how many books to recommend\n",
    "- what books to recommend?\n",
    "- check my other favourite books to improve the recommendation\n",
    "- check the age of the users and filter out only my peers for further recommendation\n",
    "- recommend more books from the authors who are more popular\n",
    "- by book cover?\n",
    "- year of publishing (e.g. I like 20th century fiction)"
   ]
  }
 ],
 "metadata": {
  "kernelspec": {
   "display_name": "Python 3",
   "language": "python",
   "name": "python3"
  },
  "language_info": {
   "codemirror_mode": {
    "name": "ipython",
    "version": 3
   },
   "file_extension": ".py",
   "mimetype": "text/x-python",
   "name": "python",
   "nbconvert_exporter": "python",
   "pygments_lexer": "ipython3",
   "version": "3.8.8"
  }
 },
 "nbformat": 4,
 "nbformat_minor": 5
}
