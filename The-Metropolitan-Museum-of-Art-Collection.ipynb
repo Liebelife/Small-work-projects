{
 "cells": [
  {
   "cell_type": "markdown",
   "id": "569cb219-e09e-4bc2-9d0c-73fc16805ad8",
   "metadata": {},
   "source": [
    "# The Metropolitan Museum of Art Collection\n",
    "\n",
    "There are many ways I had a look at the dataset. I regard Medium feature to be quite interesting. More work could be done with it than I showed. I also explored the Dimensions feature quite a bit while trying to extract the object dimensions in cm.\n",
    "\n",
    "Exploration of dataset, especially some features:\n",
    "- Department (categorization)\n",
    "- Artist ULAN URL (cleaning)\n",
    "- Object Number (check for duplicates)\n",
    "- Object Begin/End Date (check consistency)\n",
    "- Object Begin date (outliers)\n",
    "- Medium, Title, Object Name (some NLP exploration)\n",
    "- Dimensions (trying to extract the numbers in cm)"
   ]
  },
  {
   "cell_type": "markdown",
   "id": "64f09a0e-fa14-48ce-8fcd-265164354772",
   "metadata": {
    "tags": []
   },
   "source": [
    "## Imports"
   ]
  },
  {
   "cell_type": "code",
   "execution_count": 1,
   "id": "e69dc38e-5618-480d-bb16-43681c757632",
   "metadata": {},
   "outputs": [
    {
     "data": {
      "text/plain": [
       "'/home/lieberze/School/Metropolitan_Museum_of_Art_Collection'"
      ]
     },
     "execution_count": 1,
     "metadata": {},
     "output_type": "execute_result"
    }
   ],
   "source": [
    "import pandas as pd\n",
    "import numpy as np\n",
    "\n",
    "import os\n",
    "os.getcwd()"
   ]
  },
  {
   "cell_type": "markdown",
   "id": "e57d79ae-cdfe-49ca-ae22-524beb88a26a",
   "metadata": {
    "tags": []
   },
   "source": [
    "## Download data"
   ]
  },
  {
   "cell_type": "code",
   "execution_count": 2,
   "id": "f43b4a4a-2bb1-434b-88f1-db6b6c7ca2a4",
   "metadata": {},
   "outputs": [
    {
     "name": "stderr",
     "output_type": "stream",
     "text": [
      "/home/lieberze/.conda/envs/dp/lib/python3.6/site-packages/IPython/core/interactiveshell.py:3072: DtypeWarning: Columns (5,7,10,11,12,13,14,34,35,36,37,38,39,40,41,42,43,44,45,46) have mixed types.Specify dtype option on import or set low_memory=False.\n",
      "  interactivity=interactivity, compiler=compiler, result=result)\n"
     ]
    }
   ],
   "source": [
    "data_original = pd.read_csv(\"https://media.githubusercontent.com/media/metmuseum/openaccess/master/MetObjects.csv\")"
   ]
  },
  {
   "cell_type": "code",
   "execution_count": 3,
   "id": "ba5529f0-71f8-46f6-8823-fe31b0382fdd",
   "metadata": {},
   "outputs": [],
   "source": [
    "data = data_original.copy(deep=True)"
   ]
  },
  {
   "cell_type": "code",
   "execution_count": 4,
   "id": "2b6c0df4-d550-4032-8e13-9fe5b71458c6",
   "metadata": {},
   "outputs": [
    {
     "data": {
      "text/html": [
       "<div>\n",
       "<style scoped>\n",
       "    .dataframe tbody tr th:only-of-type {\n",
       "        vertical-align: middle;\n",
       "    }\n",
       "\n",
       "    .dataframe tbody tr th {\n",
       "        vertical-align: top;\n",
       "    }\n",
       "\n",
       "    .dataframe thead th {\n",
       "        text-align: right;\n",
       "    }\n",
       "</style>\n",
       "<table border=\"1\" class=\"dataframe\">\n",
       "  <thead>\n",
       "    <tr style=\"text-align: right;\">\n",
       "      <th></th>\n",
       "      <th>Object Number</th>\n",
       "      <th>Is Highlight</th>\n",
       "      <th>Is Timeline Work</th>\n",
       "      <th>Is Public Domain</th>\n",
       "      <th>Object ID</th>\n",
       "      <th>Gallery Number</th>\n",
       "      <th>Department</th>\n",
       "      <th>AccessionYear</th>\n",
       "      <th>Object Name</th>\n",
       "      <th>Title</th>\n",
       "      <th>...</th>\n",
       "      <th>River</th>\n",
       "      <th>Classification</th>\n",
       "      <th>Rights and Reproduction</th>\n",
       "      <th>Link Resource</th>\n",
       "      <th>Object Wikidata URL</th>\n",
       "      <th>Metadata Date</th>\n",
       "      <th>Repository</th>\n",
       "      <th>Tags</th>\n",
       "      <th>Tags AAT URL</th>\n",
       "      <th>Tags Wikidata URL</th>\n",
       "    </tr>\n",
       "  </thead>\n",
       "  <tbody>\n",
       "    <tr>\n",
       "      <th>0</th>\n",
       "      <td>1979.486.1</td>\n",
       "      <td>False</td>\n",
       "      <td>False</td>\n",
       "      <td>False</td>\n",
       "      <td>1</td>\n",
       "      <td>NaN</td>\n",
       "      <td>The American Wing</td>\n",
       "      <td>1979</td>\n",
       "      <td>Coin</td>\n",
       "      <td>One-dollar Liberty Head Coin</td>\n",
       "      <td>...</td>\n",
       "      <td>NaN</td>\n",
       "      <td>NaN</td>\n",
       "      <td>NaN</td>\n",
       "      <td>http://www.metmuseum.org/art/collection/search/1</td>\n",
       "      <td>NaN</td>\n",
       "      <td>NaN</td>\n",
       "      <td>Metropolitan Museum of Art, New York, NY</td>\n",
       "      <td>NaN</td>\n",
       "      <td>NaN</td>\n",
       "      <td>NaN</td>\n",
       "    </tr>\n",
       "    <tr>\n",
       "      <th>1</th>\n",
       "      <td>1980.264.5</td>\n",
       "      <td>False</td>\n",
       "      <td>False</td>\n",
       "      <td>False</td>\n",
       "      <td>2</td>\n",
       "      <td>NaN</td>\n",
       "      <td>The American Wing</td>\n",
       "      <td>1980</td>\n",
       "      <td>Coin</td>\n",
       "      <td>Ten-dollar Liberty Head Coin</td>\n",
       "      <td>...</td>\n",
       "      <td>NaN</td>\n",
       "      <td>NaN</td>\n",
       "      <td>NaN</td>\n",
       "      <td>http://www.metmuseum.org/art/collection/search/2</td>\n",
       "      <td>NaN</td>\n",
       "      <td>NaN</td>\n",
       "      <td>Metropolitan Museum of Art, New York, NY</td>\n",
       "      <td>NaN</td>\n",
       "      <td>NaN</td>\n",
       "      <td>NaN</td>\n",
       "    </tr>\n",
       "  </tbody>\n",
       "</table>\n",
       "<p>2 rows × 54 columns</p>\n",
       "</div>"
      ],
      "text/plain": [
       "  Object Number  Is Highlight  Is Timeline Work  Is Public Domain  Object ID  \\\n",
       "0    1979.486.1         False             False             False          1   \n",
       "1    1980.264.5         False             False             False          2   \n",
       "\n",
       "  Gallery Number         Department AccessionYear Object Name  \\\n",
       "0            NaN  The American Wing          1979        Coin   \n",
       "1            NaN  The American Wing          1980        Coin   \n",
       "\n",
       "                          Title  ... River Classification  \\\n",
       "0  One-dollar Liberty Head Coin  ...   NaN            NaN   \n",
       "1  Ten-dollar Liberty Head Coin  ...   NaN            NaN   \n",
       "\n",
       "  Rights and Reproduction                                     Link Resource  \\\n",
       "0                     NaN  http://www.metmuseum.org/art/collection/search/1   \n",
       "1                     NaN  http://www.metmuseum.org/art/collection/search/2   \n",
       "\n",
       "  Object Wikidata URL Metadata Date                                Repository  \\\n",
       "0                 NaN           NaN  Metropolitan Museum of Art, New York, NY   \n",
       "1                 NaN           NaN  Metropolitan Museum of Art, New York, NY   \n",
       "\n",
       "  Tags Tags AAT URL Tags Wikidata URL  \n",
       "0  NaN          NaN               NaN  \n",
       "1  NaN          NaN               NaN  \n",
       "\n",
       "[2 rows x 54 columns]"
      ]
     },
     "execution_count": 4,
     "metadata": {},
     "output_type": "execute_result"
    }
   ],
   "source": [
    "data.head(2)"
   ]
  },
  {
   "cell_type": "markdown",
   "id": "45975332-1adb-474a-b0a7-e5a28ee4cc1a",
   "metadata": {
    "tags": []
   },
   "source": [
    "## Data exploration"
   ]
  },
  {
   "cell_type": "code",
   "execution_count": 5,
   "id": "824d0df6-a7f7-48ea-bb45-ed09e573bcba",
   "metadata": {},
   "outputs": [
    {
     "name": "stdout",
     "output_type": "stream",
     "text": [
      "<class 'pandas.core.frame.DataFrame'>\n",
      "RangeIndex: 477804 entries, 0 to 477803\n",
      "Data columns (total 54 columns):\n",
      " #   Column                   Non-Null Count   Dtype  \n",
      "---  ------                   --------------   -----  \n",
      " 0   Object Number            477804 non-null  object \n",
      " 1   Is Highlight             477804 non-null  bool   \n",
      " 2   Is Timeline Work         477804 non-null  bool   \n",
      " 3   Is Public Domain         477804 non-null  bool   \n",
      " 4   Object ID                477804 non-null  int64  \n",
      " 5   Gallery Number           51776 non-null   object \n",
      " 6   Department               477804 non-null  object \n",
      " 7   AccessionYear            474248 non-null  object \n",
      " 8   Object Name              476113 non-null  object \n",
      " 9   Title                    448619 non-null  object \n",
      " 10  Culture                  207379 non-null  object \n",
      " 11  Period                   90956 non-null   object \n",
      " 12  Dynasty                  23233 non-null   object \n",
      " 13  Reign                    11226 non-null   object \n",
      " 14  Portfolio                23530 non-null   object \n",
      " 15  Constituent ID           275535 non-null  object \n",
      " 16  Artist Role              273436 non-null  object \n",
      " 17  Artist Prefix            275535 non-null  object \n",
      " 18  Artist Display Name      275535 non-null  object \n",
      " 19  Artist Display Bio       273436 non-null  object \n",
      " 20  Artist Suffix            275487 non-null  object \n",
      " 21  Artist Alpha Sort        275535 non-null  object \n",
      " 22  Artist Nationality       275535 non-null  object \n",
      " 23  Artist Begin Date        275535 non-null  object \n",
      " 24  Artist End Date          275535 non-null  object \n",
      " 25  Artist Gender            103061 non-null  object \n",
      " 26  Artist ULAN URL          222021 non-null  object \n",
      " 27  Artist Wikidata URL      217732 non-null  object \n",
      " 28  Object Date              463937 non-null  object \n",
      " 29  Object Begin Date        477804 non-null  int64  \n",
      " 30  Object End Date          477804 non-null  int64  \n",
      " 31  Medium                   470684 non-null  object \n",
      " 32  Dimensions               402510 non-null  object \n",
      " 33  Credit Line              477353 non-null  object \n",
      " 34  Geography Type           59769 non-null   object \n",
      " 35  City                     32407 non-null   object \n",
      " 36  State                    2550 non-null    object \n",
      " 37  County                   8450 non-null    object \n",
      " 38  Country                  75751 non-null   object \n",
      " 39  Region                   31360 non-null   object \n",
      " 40  Subregion                22124 non-null   object \n",
      " 41  Locale                   15709 non-null   object \n",
      " 42  Locus                    7493 non-null    object \n",
      " 43  Excavation               16558 non-null   object \n",
      " 44  River                    2095 non-null    object \n",
      " 45  Classification           399598 non-null  object \n",
      " 46  Rights and Reproduction  24198 non-null   object \n",
      " 47  Link Resource            477804 non-null  object \n",
      " 48  Object Wikidata URL      22265 non-null   object \n",
      " 49  Metadata Date            0 non-null       float64\n",
      " 50  Repository               477804 non-null  object \n",
      " 51  Tags                     200400 non-null  object \n",
      " 52  Tags AAT URL             200400 non-null  object \n",
      " 53  Tags Wikidata URL        200400 non-null  object \n",
      "dtypes: bool(3), float64(1), int64(3), object(47)\n",
      "memory usage: 187.3+ MB\n"
     ]
    }
   ],
   "source": [
    "# data.columns \n",
    "data.info()\n",
    "# data.describe()"
   ]
  },
  {
   "cell_type": "code",
   "execution_count": 6,
   "id": "fa436573-625a-44d7-ab9d-5bdc1b102049",
   "metadata": {},
   "outputs": [
    {
     "data": {
      "text/plain": [
       "Object Number              474872\n",
       "Is Highlight                    2\n",
       "Is Timeline Work                2\n",
       "Is Public Domain                2\n",
       "Object ID                  477804\n",
       "Gallery Number                609\n",
       "Department                     19\n",
       "AccessionYear                 280\n",
       "Object Name                 28449\n",
       "Title                      239091\n",
       "Culture                      7180\n",
       "Period                       1873\n",
       "Dynasty                       403\n",
       "Reign                         389\n",
       "Portfolio                    3563\n",
       "Constituent ID              46224\n",
       "Artist Role                  6837\n",
       "Artist Prefix                8046\n",
       "Artist Display Name         64531\n",
       "Artist Display Bio          52439\n",
       "Artist Suffix                2729\n",
       "Artist Alpha Sort           64489\n",
       "Artist Nationality           5037\n",
       "Artist Begin Date           29716\n",
       "Artist End Date             29685\n",
       "Artist Gender                 284\n",
       "Artist ULAN URL             37235\n",
       "Artist Wikidata URL         39362\n",
       "Object Date                 32696\n",
       "Object Begin Date            2073\n",
       "Object End Date              2040\n",
       "Medium                      64685\n",
       "Dimensions                 259819\n",
       "Credit Line                 35330\n",
       "Geography Type                115\n",
       "City                         2566\n",
       "State                         104\n",
       "County                       1093\n",
       "Country                       946\n",
       "Region                        717\n",
       "Subregion                     365\n",
       "Locale                        867\n",
       "Locus                        1380\n",
       "Excavation                    404\n",
       "River                         229\n",
       "Classification               1212\n",
       "Rights and Reproduction      1415\n",
       "Link Resource              477804\n",
       "Object Wikidata URL         22213\n",
       "Metadata Date                   0\n",
       "Repository                      1\n",
       "Tags                        44830\n",
       "Tags AAT URL                44370\n",
       "Tags Wikidata URL           44564\n",
       "dtype: int64"
      ]
     },
     "execution_count": 6,
     "metadata": {},
     "output_type": "execute_result"
    }
   ],
   "source": [
    "data.nunique()"
   ]
  },
  {
   "cell_type": "code",
   "execution_count": 7,
   "id": "a82d2227-725b-444a-b359-59eb874fac50",
   "metadata": {},
   "outputs": [
    {
     "data": {
      "text/plain": [
       "Index(['Object Number', 'Is Highlight', 'Is Timeline Work', 'Is Public Domain',\n",
       "       'Object ID', 'Gallery Number', 'Department', 'AccessionYear',\n",
       "       'Object Name', 'Title', 'Culture', 'Period', 'Dynasty', 'Reign',\n",
       "       'Portfolio', 'Constituent ID', 'Artist Role', 'Artist Prefix',\n",
       "       'Artist Display Name', 'Artist Display Bio', 'Artist Suffix',\n",
       "       'Artist Alpha Sort', 'Artist Nationality', 'Artist Begin Date',\n",
       "       'Artist End Date', 'Artist Gender', 'Artist ULAN URL',\n",
       "       'Artist Wikidata URL', 'Object Date', 'Object Begin Date',\n",
       "       'Object End Date', 'Medium', 'Dimensions', 'Credit Line',\n",
       "       'Geography Type', 'City', 'State', 'County', 'Country', 'Region',\n",
       "       'Subregion', 'Locale', 'Locus', 'Excavation', 'River', 'Classification',\n",
       "       'Rights and Reproduction', 'Link Resource', 'Object Wikidata URL',\n",
       "       'Metadata Date', 'Repository', 'Tags', 'Tags AAT URL',\n",
       "       'Tags Wikidata URL'],\n",
       "      dtype='object')"
      ]
     },
     "execution_count": 7,
     "metadata": {},
     "output_type": "execute_result"
    }
   ],
   "source": [
    "data.columns"
   ]
  },
  {
   "cell_type": "code",
   "execution_count": 8,
   "id": "2bf0db78-def3-4481-bb76-94aec1e93f24",
   "metadata": {},
   "outputs": [
    {
     "data": {
      "text/plain": [
       "(477804, 54)"
      ]
     },
     "metadata": {},
     "output_type": "display_data"
    }
   ],
   "source": [
    "display(data.shape)"
   ]
  },
  {
   "cell_type": "markdown",
   "id": "980a307d-43f9-4d8f-850d-4582cd23d0ae",
   "metadata": {},
   "source": [
    "Dropping unnecessary features (0 or 1 unique values)"
   ]
  },
  {
   "cell_type": "code",
   "execution_count": 9,
   "id": "6e5d850a-8a89-4444-8594-1a1b53a0dcf4",
   "metadata": {},
   "outputs": [],
   "source": [
    "data.drop([\"Repository\",\"Metadata Date\"], axis=1, inplace=True)"
   ]
  },
  {
   "cell_type": "markdown",
   "id": "3daf49f6-d0b5-4f87-a95a-eb2e33a82089",
   "metadata": {},
   "source": [
    "Get rid of columns with unusable amount of missing data"
   ]
  },
  {
   "cell_type": "code",
   "execution_count": 10,
   "id": "e6e355e4-8ad7-463c-a7f3-501b670628e4",
   "metadata": {},
   "outputs": [],
   "source": [
    "# (pd.DataFrame(data.isna().sum()) > 45000)\n",
    "\n",
    "## replace field that's entirely space (or empty) with NaN\n",
    "# data.replace(r'^\\s*$', np.nan, regex=True).isnull().sum(axis=0)"
   ]
  },
  {
   "cell_type": "code",
   "execution_count": 11,
   "id": "664503e1-cc15-4740-9f2c-a9e1c8807d8e",
   "metadata": {},
   "outputs": [
    {
     "data": {
      "text/plain": [
       "Object Number               0\n",
       "Is Highlight                0\n",
       "Is Timeline Work            0\n",
       "Is Public Domain            0\n",
       "Object ID                   0\n",
       "Gallery Number         426028\n",
       "Department                  0\n",
       "AccessionYear            3556\n",
       "Object Name              1691\n",
       "Title                   29185\n",
       "Culture                270425\n",
       "Period                 386848\n",
       "Constituent ID         202269\n",
       "Artist Role            204368\n",
       "Artist Prefix          202269\n",
       "Artist Display Name    202269\n",
       "Artist Display Bio     204368\n",
       "Artist Suffix          202317\n",
       "Artist Alpha Sort      202269\n",
       "Artist Nationality     202269\n",
       "Artist Begin Date      202269\n",
       "Artist End Date        202269\n",
       "Artist Gender          374743\n",
       "Artist ULAN URL        255783\n",
       "Artist Wikidata URL    260072\n",
       "Object Date             13867\n",
       "Object Begin Date           0\n",
       "Object End Date             0\n",
       "Medium                   7120\n",
       "Dimensions              75294\n",
       "Credit Line               451\n",
       "Geography Type         418035\n",
       "Country                402053\n",
       "Classification          78206\n",
       "Link Resource               0\n",
       "Tags                   277404\n",
       "Tags AAT URL           277404\n",
       "Tags Wikidata URL      277404\n",
       "dtype: int64"
      ]
     },
     "execution_count": 11,
     "metadata": {},
     "output_type": "execute_result"
    }
   ],
   "source": [
    "data = data.dropna(axis=1, thresh=45000)\n",
    "data.isnull().sum(axis = 0)"
   ]
  },
  {
   "cell_type": "code",
   "execution_count": 12,
   "id": "958689a7-e5b2-404f-8241-db91caf9b873",
   "metadata": {},
   "outputs": [
    {
     "data": {
      "text/plain": [
       "(477804, 38)"
      ]
     },
     "execution_count": 12,
     "metadata": {},
     "output_type": "execute_result"
    }
   ],
   "source": [
    "data.shape"
   ]
  },
  {
   "cell_type": "markdown",
   "id": "59fd8a1a-db8d-4688-b0ee-06c824ac150a",
   "metadata": {
    "tags": []
   },
   "source": [
    "## Department (categorization)"
   ]
  },
  {
   "cell_type": "markdown",
   "id": "74e72399-e436-4db2-8b9e-07aa03f62065",
   "metadata": {},
   "source": [
    "Convert Department feature to categorical (only 19 unique values)"
   ]
  },
  {
   "cell_type": "code",
   "execution_count": 13,
   "id": "99f2dd93-0db9-4b1e-9213-4ecca8b6a323",
   "metadata": {},
   "outputs": [
    {
     "data": {
      "text/plain": [
       "array(['The American Wing', 'European Sculpture and Decorative Arts',\n",
       "       'Modern and Contemporary Art', 'Arms and Armor', 'Medieval Art',\n",
       "       'Asian Art', 'Islamic Art', 'Costume Institute',\n",
       "       'Arts of Africa, Oceania, and the Americas', 'Drawings and Prints',\n",
       "       'Greek and Roman Art', 'Photographs', 'Ancient Near Eastern Art',\n",
       "       'Egyptian Art', 'European Paintings', 'Robert Lehman Collection',\n",
       "       'The Cloisters', 'Musical Instruments', 'The Libraries'],\n",
       "      dtype=object)"
      ]
     },
     "metadata": {},
     "output_type": "display_data"
    },
    {
     "data": {
      "text/plain": [
       "CategoricalDtype(categories=['Ancient Near Eastern Art', 'Arms and Armor',\n",
       "                  'Arts of Africa, Oceania, and the Americas', 'Asian Art',\n",
       "                  'Costume Institute', 'Drawings and Prints', 'Egyptian Art',\n",
       "                  'European Paintings',\n",
       "                  'European Sculpture and Decorative Arts',\n",
       "                  'Greek and Roman Art', 'Islamic Art', 'Medieval Art',\n",
       "                  'Modern and Contemporary Art', 'Musical Instruments',\n",
       "                  'Photographs', 'Robert Lehman Collection',\n",
       "                  'The American Wing', 'The Cloisters', 'The Libraries'],\n",
       "                 ordered=False)"
      ]
     },
     "execution_count": 13,
     "metadata": {},
     "output_type": "execute_result"
    }
   ],
   "source": [
    "display(data[\"Department\"].unique())\n",
    "data[\"Department\"] = data[\"Department\"].astype('category')\n",
    "data[\"Department\"].dtype"
   ]
  },
  {
   "cell_type": "markdown",
   "id": "94e018bb-a9e5-424e-901c-76490bf19b94",
   "metadata": {
    "tags": []
   },
   "source": [
    "## Artist ULAN URL (cleaning)"
   ]
  },
  {
   "cell_type": "markdown",
   "id": "0c9bc785-de6c-4b21-ad4e-64089f5b0b30",
   "metadata": {},
   "source": [
    "For example, the number of unique values in the Artist ULAN URL can be severely decreased just by removing the \"|\" and replacing the \"(not assigned)\" and empty cells with nan"
   ]
  },
  {
   "cell_type": "code",
   "execution_count": 14,
   "id": "e5daa4c4-09f9-429a-9e27-86a2619e5665",
   "metadata": {},
   "outputs": [
    {
     "data": {
      "text/plain": [
       "(array(['http://vocab.getty.edu/page/ulan/500011409',\n",
       "        'http://vocab.getty.edu/page/ulan/500077295', nan, ...,\n",
       "        '|http://vocab.getty.edu/page/ulan/500115493||http://vocab.getty.edu/page/ulan/500115493',\n",
       "        'http://vocab.getty.edu/page/ulan/500068399|http://vocab.getty.edu/page/ulan/500001915',\n",
       "        '||http://vocab.getty.edu/page/ulan/500015462|'], dtype=object),\n",
       " 37235)"
      ]
     },
     "execution_count": 14,
     "metadata": {},
     "output_type": "execute_result"
    }
   ],
   "source": [
    "data[\"Artist ULAN URL\"].unique(), data[\"Artist ULAN URL\"].nunique()"
   ]
  },
  {
   "cell_type": "markdown",
   "id": "d8648840-5dbe-44a0-879a-637dddc2d068",
   "metadata": {},
   "source": [
    "statistics of number of artist url adresses (most have only one)"
   ]
  },
  {
   "cell_type": "code",
   "execution_count": 15,
   "id": "e03f72b1-974b-405f-83ce-899b511d2e44",
   "metadata": {},
   "outputs": [
    {
     "data": {
      "text/html": [
       "<div>\n",
       "<style scoped>\n",
       "    .dataframe tbody tr th:only-of-type {\n",
       "        vertical-align: middle;\n",
       "    }\n",
       "\n",
       "    .dataframe tbody tr th {\n",
       "        vertical-align: top;\n",
       "    }\n",
       "\n",
       "    .dataframe thead th {\n",
       "        text-align: right;\n",
       "    }\n",
       "</style>\n",
       "<table border=\"1\" class=\"dataframe\">\n",
       "  <thead>\n",
       "    <tr style=\"text-align: right;\">\n",
       "      <th></th>\n",
       "      <th>0</th>\n",
       "    </tr>\n",
       "  </thead>\n",
       "  <tbody>\n",
       "    <tr>\n",
       "      <th>count</th>\n",
       "      <td>477804.000000</td>\n",
       "    </tr>\n",
       "    <tr>\n",
       "      <th>mean</th>\n",
       "      <td>1.234245</td>\n",
       "    </tr>\n",
       "    <tr>\n",
       "      <th>std</th>\n",
       "      <td>0.927681</td>\n",
       "    </tr>\n",
       "    <tr>\n",
       "      <th>min</th>\n",
       "      <td>0.000000</td>\n",
       "    </tr>\n",
       "    <tr>\n",
       "      <th>25%</th>\n",
       "      <td>1.000000</td>\n",
       "    </tr>\n",
       "    <tr>\n",
       "      <th>50%</th>\n",
       "      <td>1.000000</td>\n",
       "    </tr>\n",
       "    <tr>\n",
       "      <th>75%</th>\n",
       "      <td>1.000000</td>\n",
       "    </tr>\n",
       "    <tr>\n",
       "      <th>max</th>\n",
       "      <td>124.000000</td>\n",
       "    </tr>\n",
       "  </tbody>\n",
       "</table>\n",
       "</div>"
      ],
      "text/plain": [
       "                   0\n",
       "count  477804.000000\n",
       "mean        1.234245\n",
       "std         0.927681\n",
       "min         0.000000\n",
       "25%         1.000000\n",
       "50%         1.000000\n",
       "75%         1.000000\n",
       "max       124.000000"
      ]
     },
     "execution_count": 15,
     "metadata": {},
     "output_type": "execute_result"
    }
   ],
   "source": [
    "lens = [len(str(i).replace(\"|\", \" \").strip().split()) for i in data[\"Artist ULAN URL\"]]\n",
    "lens_df = pd.DataFrame(lens)\n",
    "lens_df.describe()"
   ]
  },
  {
   "cell_type": "code",
   "execution_count": 16,
   "id": "0141dc07-cae7-43e3-ae64-561bac0f181d",
   "metadata": {},
   "outputs": [
    {
     "name": "stdout",
     "output_type": "stream",
     "text": [
      "number of unique values before the procedure: 37235\n",
      "number of unique values after the procedure: 27562\n"
     ]
    },
    {
     "data": {
      "text/html": [
       "<div>\n",
       "<style scoped>\n",
       "    .dataframe tbody tr th:only-of-type {\n",
       "        vertical-align: middle;\n",
       "    }\n",
       "\n",
       "    .dataframe tbody tr th {\n",
       "        vertical-align: top;\n",
       "    }\n",
       "\n",
       "    .dataframe thead th {\n",
       "        text-align: right;\n",
       "    }\n",
       "</style>\n",
       "<table border=\"1\" class=\"dataframe\">\n",
       "  <thead>\n",
       "    <tr style=\"text-align: right;\">\n",
       "      <th></th>\n",
       "      <th>0</th>\n",
       "    </tr>\n",
       "  </thead>\n",
       "  <tbody>\n",
       "    <tr>\n",
       "      <th>count</th>\n",
       "      <td>477804.000000</td>\n",
       "    </tr>\n",
       "    <tr>\n",
       "      <th>mean</th>\n",
       "      <td>1.124566</td>\n",
       "    </tr>\n",
       "    <tr>\n",
       "      <th>std</th>\n",
       "      <td>0.583366</td>\n",
       "    </tr>\n",
       "    <tr>\n",
       "      <th>min</th>\n",
       "      <td>1.000000</td>\n",
       "    </tr>\n",
       "    <tr>\n",
       "      <th>25%</th>\n",
       "      <td>1.000000</td>\n",
       "    </tr>\n",
       "    <tr>\n",
       "      <th>50%</th>\n",
       "      <td>1.000000</td>\n",
       "    </tr>\n",
       "    <tr>\n",
       "      <th>75%</th>\n",
       "      <td>1.000000</td>\n",
       "    </tr>\n",
       "    <tr>\n",
       "      <th>max</th>\n",
       "      <td>104.000000</td>\n",
       "    </tr>\n",
       "  </tbody>\n",
       "</table>\n",
       "</div>"
      ],
      "text/plain": [
       "                   0\n",
       "count  477804.000000\n",
       "mean        1.124566\n",
       "std         0.583366\n",
       "min         1.000000\n",
       "25%         1.000000\n",
       "50%         1.000000\n",
       "75%         1.000000\n",
       "max       104.000000"
      ]
     },
     "execution_count": 16,
     "metadata": {},
     "output_type": "execute_result"
    }
   ],
   "source": [
    "e = [i for i in [str(i).replace(\"|\", \" \").strip().split() for i in data[\"Artist ULAN URL\"]]]\n",
    "lst = []\n",
    "for i in e:\n",
    "    x = list(filter(lambda a: (a != '(not') & (a != \"assigned)\"), i))\n",
    "    lst.append(x)\n",
    "    \n",
    "l = [i if i != [] else [\"nan\"] for i in lst]\n",
    "\n",
    "from collections import Counter\n",
    "print(\"number of unique values before the procedure:\", data[\"Artist ULAN URL\"].nunique())\n",
    "print(\"number of unique values after the procedure:\", len(Counter(tuple(e) for e in l)))\n",
    "\n",
    "# statstics of new\n",
    "lns = [len(i) for i in l]\n",
    "x = pd.DataFrame(lns)\n",
    "x.describe()"
   ]
  },
  {
   "cell_type": "markdown",
   "id": "f3eeaa7f-d239-4787-8519-bee6682bd2a1",
   "metadata": {},
   "source": [
    "The above mentioned can be applied to the column in the dataframe and also other ones, e.g.,  Artist Wikidata URL"
   ]
  },
  {
   "cell_type": "code",
   "execution_count": 17,
   "id": "55f1e5f6-f71a-4507-adcc-4f83b625cf92",
   "metadata": {},
   "outputs": [
    {
     "data": {
      "text/plain": [
       "array(['https://www.wikidata.org/wiki/Q3806459',\n",
       "       'https://www.wikidata.org/wiki/Q5109648', nan, ...,\n",
       "       'https://www.wikidata.org/wiki/Q16856885|https://www.wikidata.org/wiki/Q684057',\n",
       "       '||https://www.wikidata.org/wiki/Q65924766|',\n",
       "       '|https://www.wikidata.org/wiki/Q5941590'], dtype=object)"
      ]
     },
     "execution_count": 17,
     "metadata": {},
     "output_type": "execute_result"
    }
   ],
   "source": [
    "data[\"Artist Wikidata URL\"].unique()"
   ]
  },
  {
   "cell_type": "markdown",
   "id": "079b389d-eb5c-4d73-8469-900d005d2aa6",
   "metadata": {
    "tags": []
   },
   "source": [
    "## Object Number (check for duplicates)"
   ]
  },
  {
   "cell_type": "code",
   "execution_count": 18,
   "id": "d0fa4a40-e996-4f52-8c9e-78cf1a724f61",
   "metadata": {},
   "outputs": [
    {
     "data": {
      "text/plain": [
       "(477804, 474872, 0, 2932)"
      ]
     },
     "execution_count": 18,
     "metadata": {},
     "output_type": "execute_result"
    }
   ],
   "source": [
    "len(data), data[\"Object Number\"].nunique(), data[\"Object Number\"].isnull().sum(), data[\"Object Number\"].duplicated().sum()"
   ]
  },
  {
   "cell_type": "code",
   "execution_count": 19,
   "id": "ebcd9c8b-889e-4a88-9214-e77e3181dc7b",
   "metadata": {},
   "outputs": [
    {
     "data": {
      "text/html": [
       "<div>\n",
       "<style scoped>\n",
       "    .dataframe tbody tr th:only-of-type {\n",
       "        vertical-align: middle;\n",
       "    }\n",
       "\n",
       "    .dataframe tbody tr th {\n",
       "        vertical-align: top;\n",
       "    }\n",
       "\n",
       "    .dataframe thead th {\n",
       "        text-align: right;\n",
       "    }\n",
       "</style>\n",
       "<table border=\"1\" class=\"dataframe\">\n",
       "  <thead>\n",
       "    <tr style=\"text-align: right;\">\n",
       "      <th></th>\n",
       "      <th>Object Number</th>\n",
       "      <th>Is Highlight</th>\n",
       "      <th>Is Timeline Work</th>\n",
       "      <th>Is Public Domain</th>\n",
       "      <th>Object ID</th>\n",
       "      <th>Gallery Number</th>\n",
       "      <th>Department</th>\n",
       "      <th>AccessionYear</th>\n",
       "      <th>Object Name</th>\n",
       "      <th>Title</th>\n",
       "      <th>...</th>\n",
       "      <th>Medium</th>\n",
       "      <th>Dimensions</th>\n",
       "      <th>Credit Line</th>\n",
       "      <th>Geography Type</th>\n",
       "      <th>Country</th>\n",
       "      <th>Classification</th>\n",
       "      <th>Link Resource</th>\n",
       "      <th>Tags</th>\n",
       "      <th>Tags AAT URL</th>\n",
       "      <th>Tags Wikidata URL</th>\n",
       "    </tr>\n",
       "  </thead>\n",
       "  <tbody>\n",
       "    <tr>\n",
       "      <th>63</th>\n",
       "      <td>34.90.1</td>\n",
       "      <td>False</td>\n",
       "      <td>False</td>\n",
       "      <td>True</td>\n",
       "      <td>70</td>\n",
       "      <td>774</td>\n",
       "      <td>The American Wing</td>\n",
       "      <td>1934</td>\n",
       "      <td>Andiron</td>\n",
       "      <td>Andiron</td>\n",
       "      <td>...</td>\n",
       "      <td>Bell metal, possibly iron</td>\n",
       "      <td>18 1/2 x 22 1/4 x 13 1/2 in. (47 x 56.5 x 34.3...</td>\n",
       "      <td>Rogers Fund, 1934</td>\n",
       "      <td>NaN</td>\n",
       "      <td>NaN</td>\n",
       "      <td>NaN</td>\n",
       "      <td>http://www.metmuseum.org/art/collection/search/70</td>\n",
       "      <td>NaN</td>\n",
       "      <td>NaN</td>\n",
       "      <td>NaN</td>\n",
       "    </tr>\n",
       "    <tr>\n",
       "      <th>64</th>\n",
       "      <td>34.90.2</td>\n",
       "      <td>False</td>\n",
       "      <td>False</td>\n",
       "      <td>True</td>\n",
       "      <td>71</td>\n",
       "      <td>774</td>\n",
       "      <td>The American Wing</td>\n",
       "      <td>1934</td>\n",
       "      <td>Andiron</td>\n",
       "      <td>Andiron</td>\n",
       "      <td>...</td>\n",
       "      <td>Bell metal, possibly iron</td>\n",
       "      <td>18 1/2 x 22 1/4 x 13 1/2 in. (47 x 56.5 x 34.3...</td>\n",
       "      <td>Rogers Fund, 1934</td>\n",
       "      <td>NaN</td>\n",
       "      <td>NaN</td>\n",
       "      <td>NaN</td>\n",
       "      <td>http://www.metmuseum.org/art/collection/search/71</td>\n",
       "      <td>NaN</td>\n",
       "      <td>NaN</td>\n",
       "      <td>NaN</td>\n",
       "    </tr>\n",
       "  </tbody>\n",
       "</table>\n",
       "<p>2 rows × 38 columns</p>\n",
       "</div>"
      ],
      "text/plain": [
       "   Object Number  Is Highlight  Is Timeline Work  Is Public Domain  Object ID  \\\n",
       "63       34.90.1         False             False              True         70   \n",
       "64       34.90.2         False             False              True         71   \n",
       "\n",
       "   Gallery Number         Department AccessionYear Object Name    Title  ...  \\\n",
       "63            774  The American Wing          1934     Andiron  Andiron  ...   \n",
       "64            774  The American Wing          1934     Andiron  Andiron  ...   \n",
       "\n",
       "                       Medium  \\\n",
       "63  Bell metal, possibly iron   \n",
       "64  Bell metal, possibly iron   \n",
       "\n",
       "                                           Dimensions        Credit Line  \\\n",
       "63  18 1/2 x 22 1/4 x 13 1/2 in. (47 x 56.5 x 34.3...  Rogers Fund, 1934   \n",
       "64  18 1/2 x 22 1/4 x 13 1/2 in. (47 x 56.5 x 34.3...  Rogers Fund, 1934   \n",
       "\n",
       "   Geography Type Country Classification  \\\n",
       "63            NaN     NaN            NaN   \n",
       "64            NaN     NaN            NaN   \n",
       "\n",
       "                                        Link Resource Tags Tags AAT URL  \\\n",
       "63  http://www.metmuseum.org/art/collection/search/70  NaN          NaN   \n",
       "64  http://www.metmuseum.org/art/collection/search/71  NaN          NaN   \n",
       "\n",
       "   Tags Wikidata URL  \n",
       "63               NaN  \n",
       "64               NaN  \n",
       "\n",
       "[2 rows x 38 columns]"
      ]
     },
     "execution_count": 19,
     "metadata": {},
     "output_type": "execute_result"
    }
   ],
   "source": [
    "data[data.duplicated(subset=['Object Number'],keep=False)].head(2)"
   ]
  },
  {
   "cell_type": "markdown",
   "id": "ddfe0cdb-8aa7-4cb1-965b-4c3b018628c1",
   "metadata": {},
   "source": [
    "Object Number is not unique in some (2.9k) cases"
   ]
  },
  {
   "cell_type": "code",
   "execution_count": 20,
   "id": "64c2ddd9-11f6-4ecb-8e09-ebf51888d890",
   "metadata": {},
   "outputs": [
    {
     "data": {
      "text/html": [
       "<div>\n",
       "<style scoped>\n",
       "    .dataframe tbody tr th:only-of-type {\n",
       "        vertical-align: middle;\n",
       "    }\n",
       "\n",
       "    .dataframe tbody tr th {\n",
       "        vertical-align: top;\n",
       "    }\n",
       "\n",
       "    .dataframe thead th {\n",
       "        text-align: right;\n",
       "    }\n",
       "</style>\n",
       "<table border=\"1\" class=\"dataframe\">\n",
       "  <thead>\n",
       "    <tr style=\"text-align: right;\">\n",
       "      <th></th>\n",
       "      <th>Object Number</th>\n",
       "      <th>Is Highlight</th>\n",
       "      <th>Is Timeline Work</th>\n",
       "      <th>Is Public Domain</th>\n",
       "      <th>Object ID</th>\n",
       "      <th>Gallery Number</th>\n",
       "      <th>Department</th>\n",
       "      <th>AccessionYear</th>\n",
       "      <th>Object Name</th>\n",
       "      <th>Title</th>\n",
       "      <th>...</th>\n",
       "      <th>Medium</th>\n",
       "      <th>Dimensions</th>\n",
       "      <th>Credit Line</th>\n",
       "      <th>Geography Type</th>\n",
       "      <th>Country</th>\n",
       "      <th>Classification</th>\n",
       "      <th>Link Resource</th>\n",
       "      <th>Tags</th>\n",
       "      <th>Tags AAT URL</th>\n",
       "      <th>Tags Wikidata URL</th>\n",
       "    </tr>\n",
       "  </thead>\n",
       "  <tbody>\n",
       "    <tr>\n",
       "      <th>6769</th>\n",
       "      <td>42.149.6</td>\n",
       "      <td>False</td>\n",
       "      <td>False</td>\n",
       "      <td>True</td>\n",
       "      <td>7231</td>\n",
       "      <td>774</td>\n",
       "      <td>The American Wing</td>\n",
       "      <td>1942</td>\n",
       "      <td>Saucer</td>\n",
       "      <td>Saucer</td>\n",
       "      <td>...</td>\n",
       "      <td>Porcelain</td>\n",
       "      <td>Diam. 5 1/2 in. (14 cm)</td>\n",
       "      <td>Gift of Mrs. J. Insley Blair, 1942</td>\n",
       "      <td>Made in</td>\n",
       "      <td>China</td>\n",
       "      <td>NaN</td>\n",
       "      <td>http://www.metmuseum.org/art/collection/search...</td>\n",
       "      <td>Eagles</td>\n",
       "      <td>http://vocab.getty.edu/page/aat/300250049</td>\n",
       "      <td>https://www.wikidata.org/wiki/Q2092297</td>\n",
       "    </tr>\n",
       "    <tr>\n",
       "      <th>477756</th>\n",
       "      <td>42.149.6</td>\n",
       "      <td>False</td>\n",
       "      <td>False</td>\n",
       "      <td>False</td>\n",
       "      <td>858222</td>\n",
       "      <td>NaN</td>\n",
       "      <td>Drawings and Prints</td>\n",
       "      <td>1942</td>\n",
       "      <td>Print</td>\n",
       "      <td>Summer's Labours [Border for School Diplomas]</td>\n",
       "      <td>...</td>\n",
       "      <td>Etching and engraving</td>\n",
       "      <td>Plate: 16 5/16 × 12 5/16 in. (41.5 × 31.3 cm)\\...</td>\n",
       "      <td>Gift of Bella C. Landauer, 1942</td>\n",
       "      <td>NaN</td>\n",
       "      <td>NaN</td>\n",
       "      <td>Prints</td>\n",
       "      <td>http://www.metmuseum.org/art/collection/search...</td>\n",
       "      <td>NaN</td>\n",
       "      <td>NaN</td>\n",
       "      <td>NaN</td>\n",
       "    </tr>\n",
       "  </tbody>\n",
       "</table>\n",
       "<p>2 rows × 38 columns</p>\n",
       "</div>"
      ],
      "text/plain": [
       "       Object Number  Is Highlight  Is Timeline Work  Is Public Domain  \\\n",
       "6769        42.149.6         False             False              True   \n",
       "477756      42.149.6         False             False             False   \n",
       "\n",
       "        Object ID Gallery Number           Department AccessionYear  \\\n",
       "6769         7231            774    The American Wing          1942   \n",
       "477756     858222            NaN  Drawings and Prints          1942   \n",
       "\n",
       "       Object Name                                          Title  ...  \\\n",
       "6769        Saucer                                         Saucer  ...   \n",
       "477756       Print  Summer's Labours [Border for School Diplomas]  ...   \n",
       "\n",
       "                       Medium  \\\n",
       "6769                Porcelain   \n",
       "477756  Etching and engraving   \n",
       "\n",
       "                                               Dimensions  \\\n",
       "6769                              Diam. 5 1/2 in. (14 cm)   \n",
       "477756  Plate: 16 5/16 × 12 5/16 in. (41.5 × 31.3 cm)\\...   \n",
       "\n",
       "                               Credit Line Geography Type Country  \\\n",
       "6769    Gift of Mrs. J. Insley Blair, 1942        Made in   China   \n",
       "477756     Gift of Bella C. Landauer, 1942            NaN     NaN   \n",
       "\n",
       "       Classification                                      Link Resource  \\\n",
       "6769              NaN  http://www.metmuseum.org/art/collection/search...   \n",
       "477756         Prints  http://www.metmuseum.org/art/collection/search...   \n",
       "\n",
       "          Tags                               Tags AAT URL  \\\n",
       "6769    Eagles  http://vocab.getty.edu/page/aat/300250049   \n",
       "477756     NaN                                        NaN   \n",
       "\n",
       "                             Tags Wikidata URL  \n",
       "6769    https://www.wikidata.org/wiki/Q2092297  \n",
       "477756                                     NaN  \n",
       "\n",
       "[2 rows x 38 columns]"
      ]
     },
     "execution_count": 20,
     "metadata": {},
     "output_type": "execute_result"
    }
   ],
   "source": [
    "data[data[\"Object Number\"] == \"42.149.6\"]"
   ]
  },
  {
   "cell_type": "markdown",
   "id": "e92f1b22-0ee8-4eb7-ae6c-718c4673dd90",
   "metadata": {
    "tags": []
   },
   "source": [
    " ## Object Begin/End Date (check consistency)"
   ]
  },
  {
   "cell_type": "markdown",
   "id": "68b23848-fcb2-4eff-91ec-52067931c45f",
   "metadata": {},
   "source": [
    "Exploration of unusual occurances. The Begin date should always be lower than the End date. Let's see if it's true. As we can see, in 193 cases, the begin date is greater than the end date "
   ]
  },
  {
   "cell_type": "code",
   "execution_count": 21,
   "id": "8a6f55a9-3a6d-4df7-b3cd-d58536670b11",
   "metadata": {},
   "outputs": [
    {
     "data": {
      "text/plain": [
       "193"
      ]
     },
     "execution_count": 21,
     "metadata": {},
     "output_type": "execute_result"
    }
   ],
   "source": [
    "comparison_column = np.where(data[\"Object Begin Date\"] > data[\"Object End Date\"], True, False)\n",
    "comparison_column.sum()"
   ]
  },
  {
   "cell_type": "markdown",
   "id": "492246a1-7108-4620-886f-0a0837b8b800",
   "metadata": {},
   "source": [
    "Explore the columns where this occurs with the help of Object Date information. We can see, that many times the End Date is 0, which only means there was probably no value inserted. We could fix that particular case by replacing the 0 by the number from the Object Begin Date column\n",
    "\n",
    "Another cases are e.g. \"1861\" and \"9\" is present because of \"1861, 9th month\" in Object Date column etc. This would need more work to fix. These occurances are scarce so leaving them in would not affect the dataset much.\n",
    "\n",
    "There are also problems with B.C. and A.D., flipping Begin and End dates or \"-\" signs. This can be solved with the help of Object Date column. But again, the mistakes are not numerous."
   ]
  },
  {
   "cell_type": "code",
   "execution_count": 22,
   "id": "e4b0dec7-a4a7-4e41-a685-047c49569658",
   "metadata": {},
   "outputs": [
    {
     "data": {
      "text/html": [
       "<div>\n",
       "<style scoped>\n",
       "    .dataframe tbody tr th:only-of-type {\n",
       "        vertical-align: middle;\n",
       "    }\n",
       "\n",
       "    .dataframe tbody tr th {\n",
       "        vertical-align: top;\n",
       "    }\n",
       "\n",
       "    .dataframe thead th {\n",
       "        text-align: right;\n",
       "    }\n",
       "</style>\n",
       "<table border=\"1\" class=\"dataframe\">\n",
       "  <thead>\n",
       "    <tr style=\"text-align: right;\">\n",
       "      <th></th>\n",
       "      <th>Object Begin Date</th>\n",
       "      <th>Object End Date</th>\n",
       "      <th>Object Date</th>\n",
       "    </tr>\n",
       "  </thead>\n",
       "  <tbody>\n",
       "    <tr>\n",
       "      <th>27051</th>\n",
       "      <td>5</td>\n",
       "      <td>0</td>\n",
       "      <td>5th–1st century B.C.</td>\n",
       "    </tr>\n",
       "    <tr>\n",
       "      <th>32752</th>\n",
       "      <td>-45</td>\n",
       "      <td>-55</td>\n",
       "      <td>ca. 50 B.C.</td>\n",
       "    </tr>\n",
       "    <tr>\n",
       "      <th>47474</th>\n",
       "      <td>1861</td>\n",
       "      <td>9</td>\n",
       "      <td>1861, 9th month</td>\n",
       "    </tr>\n",
       "    <tr>\n",
       "      <th>79173</th>\n",
       "      <td>1875</td>\n",
       "      <td>1800</td>\n",
       "      <td>1800–1875</td>\n",
       "    </tr>\n",
       "    <tr>\n",
       "      <th>106097</th>\n",
       "      <td>1500</td>\n",
       "      <td>0</td>\n",
       "      <td>after an early 16th-century model</td>\n",
       "    </tr>\n",
       "    <tr>\n",
       "      <th>...</th>\n",
       "      <td>...</td>\n",
       "      <td>...</td>\n",
       "      <td>...</td>\n",
       "    </tr>\n",
       "    <tr>\n",
       "      <th>452118</th>\n",
       "      <td>1</td>\n",
       "      <td>-300</td>\n",
       "      <td>1st–3rd centuries A.D.</td>\n",
       "    </tr>\n",
       "    <tr>\n",
       "      <th>453261</th>\n",
       "      <td>1815</td>\n",
       "      <td>0</td>\n",
       "      <td>1815 (2nd ed.)</td>\n",
       "    </tr>\n",
       "    <tr>\n",
       "      <th>470862</th>\n",
       "      <td>1929</td>\n",
       "      <td>0</td>\n",
       "      <td>1929</td>\n",
       "    </tr>\n",
       "    <tr>\n",
       "      <th>475961</th>\n",
       "      <td>1942</td>\n",
       "      <td>0</td>\n",
       "      <td>1942-</td>\n",
       "    </tr>\n",
       "    <tr>\n",
       "      <th>477512</th>\n",
       "      <td>2012</td>\n",
       "      <td>0</td>\n",
       "      <td>2012</td>\n",
       "    </tr>\n",
       "  </tbody>\n",
       "</table>\n",
       "<p>193 rows × 3 columns</p>\n",
       "</div>"
      ],
      "text/plain": [
       "        Object Begin Date  Object End Date                        Object Date\n",
       "27051                   5                0               5th–1st century B.C.\n",
       "32752                 -45              -55                        ca. 50 B.C.\n",
       "47474                1861                9                    1861, 9th month\n",
       "79173                1875             1800                          1800–1875\n",
       "106097               1500                0  after an early 16th-century model\n",
       "...                   ...              ...                                ...\n",
       "452118                  1             -300             1st–3rd centuries A.D.\n",
       "453261               1815                0                     1815 (2nd ed.)\n",
       "470862               1929                0                               1929\n",
       "475961               1942                0                              1942-\n",
       "477512               2012                0                               2012\n",
       "\n",
       "[193 rows x 3 columns]"
      ]
     },
     "execution_count": 22,
     "metadata": {},
     "output_type": "execute_result"
    }
   ],
   "source": [
    "data[data[\"Object Begin Date\"] > data[\"Object End Date\"]][[\"Object Begin Date\", \"Object End Date\", \"Object Date\"]]"
   ]
  },
  {
   "cell_type": "markdown",
   "id": "f0db18f8-4c0c-4dc1-9a39-fc25db9b802a",
   "metadata": {},
   "source": [
    "Example of replacing the zeros in End date with the Begin date value"
   ]
  },
  {
   "cell_type": "code",
   "execution_count": 23,
   "id": "2a8c5548-efe2-4c4b-a9ed-11d63f52ed80",
   "metadata": {},
   "outputs": [
    {
     "data": {
      "text/html": [
       "<div>\n",
       "<style scoped>\n",
       "    .dataframe tbody tr th:only-of-type {\n",
       "        vertical-align: middle;\n",
       "    }\n",
       "\n",
       "    .dataframe tbody tr th {\n",
       "        vertical-align: top;\n",
       "    }\n",
       "\n",
       "    .dataframe thead th {\n",
       "        text-align: right;\n",
       "    }\n",
       "</style>\n",
       "<table border=\"1\" class=\"dataframe\">\n",
       "  <thead>\n",
       "    <tr style=\"text-align: right;\">\n",
       "      <th></th>\n",
       "      <th>Object Begin Date</th>\n",
       "      <th>Object End Date</th>\n",
       "      <th>Object Date</th>\n",
       "    </tr>\n",
       "  </thead>\n",
       "  <tbody>\n",
       "    <tr>\n",
       "      <th>27051</th>\n",
       "      <td>5</td>\n",
       "      <td>5</td>\n",
       "      <td>5th–1st century B.C.</td>\n",
       "    </tr>\n",
       "    <tr>\n",
       "      <th>32752</th>\n",
       "      <td>-45</td>\n",
       "      <td>-55</td>\n",
       "      <td>ca. 50 B.C.</td>\n",
       "    </tr>\n",
       "    <tr>\n",
       "      <th>47474</th>\n",
       "      <td>1861</td>\n",
       "      <td>9</td>\n",
       "      <td>1861, 9th month</td>\n",
       "    </tr>\n",
       "    <tr>\n",
       "      <th>79173</th>\n",
       "      <td>1875</td>\n",
       "      <td>1800</td>\n",
       "      <td>1800–1875</td>\n",
       "    </tr>\n",
       "    <tr>\n",
       "      <th>106097</th>\n",
       "      <td>1500</td>\n",
       "      <td>1500</td>\n",
       "      <td>after an early 16th-century model</td>\n",
       "    </tr>\n",
       "    <tr>\n",
       "      <th>...</th>\n",
       "      <td>...</td>\n",
       "      <td>...</td>\n",
       "      <td>...</td>\n",
       "    </tr>\n",
       "    <tr>\n",
       "      <th>452118</th>\n",
       "      <td>1</td>\n",
       "      <td>-300</td>\n",
       "      <td>1st–3rd centuries A.D.</td>\n",
       "    </tr>\n",
       "    <tr>\n",
       "      <th>453261</th>\n",
       "      <td>1815</td>\n",
       "      <td>1815</td>\n",
       "      <td>1815 (2nd ed.)</td>\n",
       "    </tr>\n",
       "    <tr>\n",
       "      <th>470862</th>\n",
       "      <td>1929</td>\n",
       "      <td>1929</td>\n",
       "      <td>1929</td>\n",
       "    </tr>\n",
       "    <tr>\n",
       "      <th>475961</th>\n",
       "      <td>1942</td>\n",
       "      <td>1942</td>\n",
       "      <td>1942-</td>\n",
       "    </tr>\n",
       "    <tr>\n",
       "      <th>477512</th>\n",
       "      <td>2012</td>\n",
       "      <td>2012</td>\n",
       "      <td>2012</td>\n",
       "    </tr>\n",
       "  </tbody>\n",
       "</table>\n",
       "<p>193 rows × 3 columns</p>\n",
       "</div>"
      ],
      "text/plain": [
       "        Object Begin Date  Object End Date                        Object Date\n",
       "27051                   5                5               5th–1st century B.C.\n",
       "32752                 -45              -55                        ca. 50 B.C.\n",
       "47474                1861                9                    1861, 9th month\n",
       "79173                1875             1800                          1800–1875\n",
       "106097               1500             1500  after an early 16th-century model\n",
       "...                   ...              ...                                ...\n",
       "452118                  1             -300             1st–3rd centuries A.D.\n",
       "453261               1815             1815                     1815 (2nd ed.)\n",
       "470862               1929             1929                               1929\n",
       "475961               1942             1942                              1942-\n",
       "477512               2012             2012                               2012\n",
       "\n",
       "[193 rows x 3 columns]"
      ]
     },
     "execution_count": 23,
     "metadata": {},
     "output_type": "execute_result"
    }
   ],
   "source": [
    "small_df =data[data[\"Object Begin Date\"] > data[\"Object End Date\"]][[\"Object Begin Date\", \"Object End Date\", \"Object Date\"]]\n",
    "small_df[\"new\"] = small_df.apply(lambda x: x[\"Object Begin Date\"] if x[\"Object End Date\"] == 0 else x[\"Object End Date\"], axis=1)\n",
    "small_df[\"Object End Date\"] = small_df[\"new\"]\n",
    "small_df.drop(labels=\"new\", axis=1, inplace=True)\n",
    "small_df"
   ]
  },
  {
   "cell_type": "markdown",
   "id": "d93c5692-95e3-4afa-a830-8094990c3888",
   "metadata": {
    "tags": []
   },
   "source": [
    "## Object Begin date (outliers)"
   ]
  },
  {
   "cell_type": "code",
   "execution_count": 24,
   "id": "c5849f89-5be7-4c5a-9c3a-ceb848fb1167",
   "metadata": {},
   "outputs": [
    {
     "data": {
      "text/html": [
       "<div>\n",
       "<style scoped>\n",
       "    .dataframe tbody tr th:only-of-type {\n",
       "        vertical-align: middle;\n",
       "    }\n",
       "\n",
       "    .dataframe tbody tr th {\n",
       "        vertical-align: top;\n",
       "    }\n",
       "\n",
       "    .dataframe thead th {\n",
       "        text-align: right;\n",
       "    }\n",
       "</style>\n",
       "<table border=\"1\" class=\"dataframe\">\n",
       "  <thead>\n",
       "    <tr style=\"text-align: right;\">\n",
       "      <th></th>\n",
       "      <th>year</th>\n",
       "    </tr>\n",
       "  </thead>\n",
       "  <tbody>\n",
       "    <tr>\n",
       "      <th>count</th>\n",
       "      <td>477804.000000</td>\n",
       "    </tr>\n",
       "    <tr>\n",
       "      <th>mean</th>\n",
       "      <td>1294.064014</td>\n",
       "    </tr>\n",
       "    <tr>\n",
       "      <th>std</th>\n",
       "      <td>1776.237922</td>\n",
       "    </tr>\n",
       "    <tr>\n",
       "      <th>min</th>\n",
       "      <td>-400000.000000</td>\n",
       "    </tr>\n",
       "    <tr>\n",
       "      <th>25%</th>\n",
       "      <td>1529.000000</td>\n",
       "    </tr>\n",
       "    <tr>\n",
       "      <th>50%</th>\n",
       "      <td>1800.000000</td>\n",
       "    </tr>\n",
       "    <tr>\n",
       "      <th>75%</th>\n",
       "      <td>1890.000000</td>\n",
       "    </tr>\n",
       "    <tr>\n",
       "      <th>max</th>\n",
       "      <td>5000.000000</td>\n",
       "    </tr>\n",
       "  </tbody>\n",
       "</table>\n",
       "</div>"
      ],
      "text/plain": [
       "                year\n",
       "count  477804.000000\n",
       "mean     1294.064014\n",
       "std      1776.237922\n",
       "min   -400000.000000\n",
       "25%      1529.000000\n",
       "50%      1800.000000\n",
       "75%      1890.000000\n",
       "max      5000.000000"
      ]
     },
     "execution_count": 24,
     "metadata": {},
     "output_type": "execute_result"
    }
   ],
   "source": [
    "data_OBD = pd.DataFrame(sorted(data[\"Object Begin Date\"]))\n",
    "data_OBD.columns = [\"year\"]\n",
    "data_OBD.describe()"
   ]
  },
  {
   "cell_type": "markdown",
   "id": "0dd9ce99-06a4-426f-9e8c-d24d43d65737",
   "metadata": {},
   "source": [
    "Minimum year -400 000 (possible). However, maximum year 5000 of an item in the Object Begin Date column is weird, let's see what line it is"
   ]
  },
  {
   "cell_type": "code",
   "execution_count": 25,
   "id": "300666ce-24ed-4e6d-bfc7-d31e8ecc8530",
   "metadata": {},
   "outputs": [
    {
     "data": {
      "text/html": [
       "<div>\n",
       "<style scoped>\n",
       "    .dataframe tbody tr th:only-of-type {\n",
       "        vertical-align: middle;\n",
       "    }\n",
       "\n",
       "    .dataframe tbody tr th {\n",
       "        vertical-align: top;\n",
       "    }\n",
       "\n",
       "    .dataframe thead th {\n",
       "        text-align: right;\n",
       "    }\n",
       "</style>\n",
       "<table border=\"1\" class=\"dataframe\">\n",
       "  <thead>\n",
       "    <tr style=\"text-align: right;\">\n",
       "      <th></th>\n",
       "      <th>Culture</th>\n",
       "      <th>Period</th>\n",
       "      <th>Object Begin Date</th>\n",
       "      <th>Object End Date</th>\n",
       "    </tr>\n",
       "  </thead>\n",
       "  <tbody>\n",
       "    <tr>\n",
       "      <th>336255</th>\n",
       "      <td>Italian (Ancient Roman)</td>\n",
       "      <td>NaN</td>\n",
       "      <td>5000</td>\n",
       "      <td>1</td>\n",
       "    </tr>\n",
       "    <tr>\n",
       "      <th>336484</th>\n",
       "      <td>Italian (Ancient Roman)</td>\n",
       "      <td>ancient?</td>\n",
       "      <td>5000</td>\n",
       "      <td>0</td>\n",
       "    </tr>\n",
       "  </tbody>\n",
       "</table>\n",
       "</div>"
      ],
      "text/plain": [
       "                        Culture    Period  Object Begin Date  Object End Date\n",
       "336255  Italian (Ancient Roman)       NaN               5000                1\n",
       "336484  Italian (Ancient Roman)  ancient?               5000                0"
      ]
     },
     "execution_count": 25,
     "metadata": {},
     "output_type": "execute_result"
    }
   ],
   "source": [
    "data[data[\"Object Begin Date\"] == 5000][[\"Culture\", \"Period\", \"Object Begin Date\", \"Object End Date\"]]"
   ]
  },
  {
   "cell_type": "markdown",
   "id": "66d0b6e2-31ce-4916-8771-8f192987984f",
   "metadata": {},
   "source": [
    "We see that Object Begin and End date do not correspond (begin in 5000 and end in 1, possibly 0). Also, these objects are from Ancient Rome, so it is clearly an error."
   ]
  },
  {
   "cell_type": "markdown",
   "id": "ddc3b7d7-b69d-4eec-9790-695f476527a1",
   "metadata": {},
   "source": [
    "Let's also observe the -400 000 value, As we can see, in the feature Period is written Lower Paleolithic Period, which somwhat corresponds to our vision of reality"
   ]
  },
  {
   "cell_type": "code",
   "execution_count": 26,
   "id": "a438bfbb-5ad3-4511-865b-3d30019d0aa4",
   "metadata": {},
   "outputs": [
    {
     "data": {
      "text/html": [
       "<div>\n",
       "<style scoped>\n",
       "    .dataframe tbody tr th:only-of-type {\n",
       "        vertical-align: middle;\n",
       "    }\n",
       "\n",
       "    .dataframe tbody tr th {\n",
       "        vertical-align: top;\n",
       "    }\n",
       "\n",
       "    .dataframe thead th {\n",
       "        text-align: right;\n",
       "    }\n",
       "</style>\n",
       "<table border=\"1\" class=\"dataframe\">\n",
       "  <thead>\n",
       "    <tr style=\"text-align: right;\">\n",
       "      <th></th>\n",
       "      <th>Culture</th>\n",
       "      <th>Period</th>\n",
       "      <th>Object Begin Date</th>\n",
       "      <th>Object End Date</th>\n",
       "    </tr>\n",
       "  </thead>\n",
       "  <tbody>\n",
       "    <tr>\n",
       "      <th>364223</th>\n",
       "      <td>NaN</td>\n",
       "      <td>Lower Paleolithic Period</td>\n",
       "      <td>-400000</td>\n",
       "      <td>-240000</td>\n",
       "    </tr>\n",
       "    <tr>\n",
       "      <th>364231</th>\n",
       "      <td>NaN</td>\n",
       "      <td>Lower Paleolithic Period</td>\n",
       "      <td>-400000</td>\n",
       "      <td>-240000</td>\n",
       "    </tr>\n",
       "  </tbody>\n",
       "</table>\n",
       "</div>"
      ],
      "text/plain": [
       "       Culture                    Period  Object Begin Date  Object End Date\n",
       "364223     NaN  Lower Paleolithic Period            -400000          -240000\n",
       "364231     NaN  Lower Paleolithic Period            -400000          -240000"
      ]
     },
     "execution_count": 26,
     "metadata": {},
     "output_type": "execute_result"
    }
   ],
   "source": [
    "data[data[\"Object Begin Date\"] == -400000][[\"Culture\", \"Period\", \"Object Begin Date\", \"Object End Date\"]]"
   ]
  },
  {
   "cell_type": "code",
   "execution_count": 27,
   "id": "409b8ba7-57ce-4739-99c4-80044581743b",
   "metadata": {},
   "outputs": [
    {
     "data": {
      "text/plain": [
       "(-10500.0, 5500.0)"
      ]
     },
     "execution_count": 27,
     "metadata": {},
     "output_type": "execute_result"
    },
    {
     "data": {
      "image/png": "[encoded data removed]",
      "text/plain": [
       "<Figure size 432x288 with 1 Axes>"
      ]
     },
     "metadata": {
      "needs_background": "light"
     },
     "output_type": "display_data"
    }
   ],
   "source": [
    "import seaborn as sns\n",
    "sns.boxplot(x='year', data=data_OBD).set_xlim(-10500,5500)"
   ]
  },
  {
   "cell_type": "markdown",
   "id": "3ca1422e-d254-4528-bbf1-68e5f4d77792",
   "metadata": {},
   "source": [
    "This way we could detect more outliers etc"
   ]
  },
  {
   "cell_type": "markdown",
   "id": "fb720bb3-b312-4d19-bf3f-655d7d601d4b",
   "metadata": {
    "tags": []
   },
   "source": [
    "## Medium (some NLP exploration)"
   ]
  },
  {
   "cell_type": "markdown",
   "id": "70fa566f-cde8-4663-a1c7-9ababe1db67e",
   "metadata": {},
   "source": [
    "This seems to be a very interesting feature. Most occuring/representative words could be picked and used for KNN clustering or grouping by"
   ]
  },
  {
   "cell_type": "code",
   "execution_count": 28,
   "id": "3fdf5dbb-59ab-4120-b5ee-b8f87e86284c",
   "metadata": {},
   "outputs": [
    {
     "data": {
      "text/plain": [
       "array(['Gold', 'Silver', 'Bronze or copper', ...,\n",
       "       'Overlay  for 23.112.2889,  graphite and ink on glazed linen tracing paper',\n",
       "       'Graphite on cardstock adhered to canvas, perforated on left edge',\n",
       "       'ink'], dtype=object)"
      ]
     },
     "execution_count": 28,
     "metadata": {},
     "output_type": "execute_result"
    }
   ],
   "source": [
    "data[\"Medium\"].unique()"
   ]
  },
  {
   "cell_type": "markdown",
   "id": "c89b508a-e102-494f-8e09-8a4dfb95c24f",
   "metadata": {},
   "source": [
    "View the most prevalent values in the Medium feature acording to the groups created by Department feature values"
   ]
  },
  {
   "cell_type": "code",
   "execution_count": 29,
   "id": "df4b7a86-cf9e-4ffc-98b7-c7991f88e97a",
   "metadata": {},
   "outputs": [
    {
     "data": {
      "text/plain": [
       "Department\n",
       "Ancient Near Eastern Art                                               ceramic\n",
       "Arms and Armor                                                           steel\n",
       "Arts of Africa, Oceania, and the Americas                              ceramic\n",
       "Asian Art                                                                 silk\n",
       "Costume Institute                                                         silk\n",
       "Drawings and Prints                                commercial color lithograph\n",
       "Egyptian Art                                                           faience\n",
       "European Paintings                                               oil on canvas\n",
       "European Sculpture and Decorative Arts                                    silk\n",
       "Greek and Roman Art                                                 terracotta\n",
       "Islamic Art                                                     stucco; carved\n",
       "Medieval Art                                                      copper alloy\n",
       "Modern and Contemporary Art                                      oil on canvas\n",
       "Musical Instruments                                                       wood\n",
       "Photographs                                               gelatin silver print\n",
       "Robert Lehman Collection                     maiolica (tin-glazed earthenware)\n",
       "The American Wing                                                    porcelain\n",
       "The Cloisters                                                           marble\n",
       "The Libraries                                                 illustrated book\n",
       "Name: Medium, dtype: object"
      ]
     },
     "execution_count": 29,
     "metadata": {},
     "output_type": "execute_result"
    }
   ],
   "source": [
    "data.groupby('Department').Medium.agg(lambda x:x.str.lower().value_counts().index[0])"
   ]
  },
  {
   "cell_type": "markdown",
   "id": "0a91fd1c-a81b-49d3-88c6-8281d7e5fe82",
   "metadata": {},
   "source": [
    "### some NLP"
   ]
  },
  {
   "cell_type": "markdown",
   "id": "a2a06eb5-e4c1-41f2-a538-2886c981a9e3",
   "metadata": {},
   "source": [
    "I am using one or more of the following:\n",
    "- lowercase transform\n",
    "- remove stopwords\n",
    "- remove punctuation\n",
    "- stemming\n",
    "- lemmatization\n",
    "- ? regex: re.M (pattern finding)"
   ]
  },
  {
   "cell_type": "code",
   "execution_count": 30,
   "id": "3346131a-0469-47c4-9a01-162001249328",
   "metadata": {},
   "outputs": [],
   "source": [
    "import nltk\n",
    "from nltk.corpus import stopwords\n",
    "from nltk.stem import PorterStemmer\n",
    "from nltk.stem import WordNetLemmatizer\n",
    "\n",
    "import spacy\n",
    "from spacy.lang.en import English\n",
    "\n",
    "port = PorterStemmer()\n",
    "lemmatizer = WordNetLemmatizer()\n",
    "\n",
    "parser = English()\n",
    "nlp = spacy.load('en_core_web_sm')\n",
    "stop = stopwords.words('english')"
   ]
  },
  {
   "cell_type": "markdown",
   "id": "924f5852-9913-4117-a31f-42d3096c7da2",
   "metadata": {},
   "source": [
    "Define a function which transforms the string (lowercase, lemmatization, removing stopwords, punctuation..)"
   ]
  },
  {
   "cell_type": "code",
   "execution_count": 31,
   "id": "2a13553a-10e2-4917-806c-79502437905c",
   "metadata": {},
   "outputs": [],
   "source": [
    "def ModifyString(line):\n",
    "    ADJ, NOUN, ADV, ADJ_SAT, VERB = \"a\", \"n\", \"r\", \"s\", \"v\"\n",
    "\n",
    "    line = re.sub(r'[^\\w\\s]', '', line)\n",
    "        # lowercase\n",
    "    line = line.lower()\n",
    "        # split\n",
    "    line = line.split() \n",
    "        # remove stopwords\n",
    "    line = [x for x in line if x not in stop]\n",
    "        # stemming (probably unnecessary for now)\n",
    "    # print(\" \".join(port.stem(word) for word in line))\n",
    "        # lemmatization of nouns\n",
    "    line = [lemmatizer.lemmatize(word, pos=\"n\") for word in line]\n",
    "        # lemmatization of adjectives\n",
    "    line = [lemmatizer.lemmatize(word, pos=\"a\") for word in line]\n",
    "        # lemmatization of adverbs\n",
    "    line = [lemmatizer.lemmatize(word, pos=\"s\") for word in line]\n",
    "    # join back together\n",
    "    line = \" \".join(line)\n",
    "    return line"
   ]
  },
  {
   "cell_type": "markdown",
   "id": "cc17e8bc-244d-482f-bbe2-0b894d779c8a",
   "metadata": {},
   "source": [
    "Example on some longer rows"
   ]
  },
  {
   "cell_type": "code",
   "execution_count": 32,
   "id": "0bee3a11-4f2a-4899-920e-176e5cdedd42",
   "metadata": {},
   "outputs": [
    {
     "name": "stdout",
     "output_type": "stream",
     "text": [
      "Before: Etching, printed in brown ink; second state of two (De Vesme & Calabi)\n",
      "After:  etching printed brown ink second state two de vesme calabi\n",
      "\n",
      "Before: Hanging scroll; ink and color on paper\n",
      "After:  hanging scroll ink color paper\n",
      "\n",
      "Before: Gouache and watercolor on off-white wove paper, mounted on academy board\n",
      "After:  gouache watercolor offwhite wove paper mounted academy board\n",
      "\n",
      "Before: Commercial color photolithograph\n",
      "After:  commercial color photolithograph\n",
      "\n",
      "Before: Salted paper print from paper negative\n",
      "After:  salted paper print paper negative\n",
      "\n",
      "Before: Albumen silver print from glass negative\n",
      "After:  albumen silver print glass negative\n",
      "\n",
      "Before: Bobbin lace, point d'Angleterre\n",
      "After:  bobbin lace point dangleterre\n",
      "\n",
      "Before: Nephrite; greenish-white jade (dish); mottled green nephrite with coral red berries (plants)\n",
      "After:  nephrite greenishwhite jade dish mottled green nephrite coral red berry plant\n",
      "\n",
      "Before: Earthenware; white slipped,incised and splashed under a colorless glaze\n",
      "After:  earthenware white slippedincised splashed colorless glaze\n",
      "\n",
      "Before: White porcelain decorated with blue under the glaze\n",
      "After:  white porcelain decorated blue glaze\n",
      "\n"
     ]
    }
   ],
   "source": [
    "import re\n",
    "import random\n",
    "random.seed(42)\n",
    "\n",
    "Medium_data = list(data[\"Medium\"])\n",
    "\n",
    "longer_words_example = [i for i in Medium_data if len(str(i))>30]\n",
    "# for line in longer_words_example[240:260]:\n",
    "for line in random.sample(longer_words_example, 10):\n",
    "    print(\"Before:\", line)\n",
    "    line = ModifyString(line)\n",
    "    print(\"After: \", line)\n",
    "    print()"
   ]
  },
  {
   "cell_type": "markdown",
   "id": "1af662a9-2e8e-45f0-8ad1-ab4223bfef6c",
   "metadata": {},
   "source": [
    "Observe the changes"
   ]
  },
  {
   "cell_type": "code",
   "execution_count": 33,
   "id": "998772e8-c75a-4777-9708-16c66a0f98ee",
   "metadata": {},
   "outputs": [
    {
     "name": "stdout",
     "output_type": "stream",
     "text": [
      "Number of unique values before: 64685 \n",
      "Number of unique values after: 57239\n"
     ]
    }
   ],
   "source": [
    "data[\"New_Medium\"]  = data[\"Medium\"].apply(lambda x: ModifyString(str(x)))\n",
    "print(\"Number of unique values before:\", data[\"Medium\"].nunique(),\n",
    "      \"\\nNumber of unique values after:\", data[\"New_Medium\"].nunique()\n",
    "     )"
   ]
  },
  {
   "cell_type": "code",
   "execution_count": 34,
   "id": "6d931704-b8e4-4600-b30b-acb82fdc4c9d",
   "metadata": {},
   "outputs": [
    {
     "data": {
      "text/plain": [
       "array(['gold', 'silver', 'bronze copper', ...,\n",
       "       'graphite wove paper perforated lined tape adhered left edge binding overlay 231122889a graphite ink glazed linen tracing paper',\n",
       "       'overlay 231122889 graphite ink glazed linen tracing paper',\n",
       "       'graphite cardstock adhered canvas perforated left edge'],\n",
       "      dtype=object)"
      ]
     },
     "execution_count": 34,
     "metadata": {},
     "output_type": "execute_result"
    }
   ],
   "source": [
    "data[\"New_Medium\"].unique()"
   ]
  },
  {
   "cell_type": "markdown",
   "id": "631b0145-4cc5-46be-b0d0-85d7cecd350d",
   "metadata": {},
   "source": [
    "Maybe also some spellchecking (e.g., using TextBlob) could be useful. However, there are many words that are unique (chinese names etc), so I am not entirely sure it is a good idea. Example below (correction of graphite to graphics :))"
   ]
  },
  {
   "cell_type": "code",
   "execution_count": 35,
   "id": "84d638c2-eb33-4554-954d-fca9d396d679",
   "metadata": {},
   "outputs": [
    {
     "data": {
      "text/plain": [
       "'graphics cardstock adhered canvas perforated left edge'"
      ]
     },
     "execution_count": 35,
     "metadata": {},
     "output_type": "execute_result"
    }
   ],
   "source": [
    "from textblob import TextBlob # and use .correct() function\n",
    "a = \"it is udeful for electrcity\"\n",
    "a = \"graphite cardstock adhered canvas perforated left edge\"\n",
    "str(TextBlob(a).correct())"
   ]
  },
  {
   "cell_type": "markdown",
   "id": "c8d108d3-5a73-464f-9b44-f224a451ebbe",
   "metadata": {},
   "source": [
    "Or combining Object Name and Medium and somehow extracting the info using word2vec (armour-metal etc)"
   ]
  },
  {
   "cell_type": "markdown",
   "id": "dedb0f4d-1cc4-40b8-a9b9-a0cbfbf23f66",
   "metadata": {},
   "source": [
    "Extracting unique words of the whole dataset can be then used further"
   ]
  },
  {
   "cell_type": "code",
   "execution_count": 36,
   "id": "b952a22a-5cc5-4528-81c7-7633c5d1e697",
   "metadata": {},
   "outputs": [
    {
     "data": {
      "text/plain": [
       "(57239,\n",
       " ['gold',\n",
       "  'silver',\n",
       "  'bronze copper',\n",
       "  'nickel',\n",
       "  'pressed glass',\n",
       "  'mahogany laminated',\n",
       "  'gold amethyst spessartites tourmaline fresh water pearl quartz rock crystal enamel',\n",
       "  'oak tulip poplar',\n",
       "  'earthenware basalt',\n",
       "  'paper',\n",
       "  'brass iron',\n",
       "  'brass',\n",
       "  'iron',\n",
       "  'bell metal',\n",
       "  'bell metal possibly iron',\n",
       "  'iron brass',\n",
       "  'brass steel',\n",
       "  'wrought iron',\n",
       "  'bronze glass iron',\n",
       "  'earthenware'])"
      ]
     },
     "execution_count": 36,
     "metadata": {},
     "output_type": "execute_result"
    }
   ],
   "source": [
    "unique_Medium = list(data.New_Medium.unique())\n",
    "len(unique_Medium),unique_Medium[:20]"
   ]
  },
  {
   "cell_type": "code",
   "execution_count": 37,
   "id": "a5a0a5d5-c00d-4da6-b544-cb91fdc296fa",
   "metadata": {},
   "outputs": [],
   "source": [
    "from collections import Counter\n",
    "import itertools\n",
    "unique_Medium_words = [[i for i in str(x).split()] for x in unique_Medium]\n",
    "unique_Medium_words = list(itertools.chain(*unique_Medium_words))\n",
    "unique_Medium_words_count = Counter(unique_Medium_words)\n",
    "unique_Medium_words_count_sorted = {k: v for k, v in sorted(unique_Medium_words_count.items(), key=lambda item: item[1], reverse=True)}"
   ]
  },
  {
   "cell_type": "markdown",
   "id": "f86a1020-b26c-4526-aed5-da80974bd0a4",
   "metadata": {},
   "source": [
    "view the top 10 occuring words in medium (with the total number of occurences)"
   ]
  },
  {
   "cell_type": "code",
   "execution_count": 38,
   "id": "ec9c3ef3-3dd3-49e2-a65e-a7517680680c",
   "metadata": {},
   "outputs": [
    {
     "name": "stdout",
     "output_type": "stream",
     "text": [
      "number of unique words in Medium: 9398\n"
     ]
    },
    {
     "data": {
      "text/html": [
       "<div>\n",
       "<style scoped>\n",
       "    .dataframe tbody tr th:only-of-type {\n",
       "        vertical-align: middle;\n",
       "    }\n",
       "\n",
       "    .dataframe tbody tr th {\n",
       "        vertical-align: top;\n",
       "    }\n",
       "\n",
       "    .dataframe thead th {\n",
       "        text-align: right;\n",
       "    }\n",
       "</style>\n",
       "<table border=\"1\" class=\"dataframe\">\n",
       "  <thead>\n",
       "    <tr style=\"text-align: right;\">\n",
       "      <th></th>\n",
       "      <th>0</th>\n",
       "    </tr>\n",
       "  </thead>\n",
       "  <tbody>\n",
       "    <tr>\n",
       "      <th>ink</th>\n",
       "      <td>10168</td>\n",
       "    </tr>\n",
       "    <tr>\n",
       "      <th>paper</th>\n",
       "      <td>9496</td>\n",
       "    </tr>\n",
       "    <tr>\n",
       "      <th>brown</th>\n",
       "      <td>7257</td>\n",
       "    </tr>\n",
       "    <tr>\n",
       "      <th>black</th>\n",
       "      <td>7064</td>\n",
       "    </tr>\n",
       "    <tr>\n",
       "      <th>wood</th>\n",
       "      <td>6393</td>\n",
       "    </tr>\n",
       "    <tr>\n",
       "      <th>gold</th>\n",
       "      <td>6134</td>\n",
       "    </tr>\n",
       "    <tr>\n",
       "      <th>pen</th>\n",
       "      <td>5998</td>\n",
       "    </tr>\n",
       "    <tr>\n",
       "      <th>silk</th>\n",
       "      <td>5956</td>\n",
       "    </tr>\n",
       "    <tr>\n",
       "      <th>silver</th>\n",
       "      <td>4717</td>\n",
       "    </tr>\n",
       "    <tr>\n",
       "      <th>chalk</th>\n",
       "      <td>4365</td>\n",
       "    </tr>\n",
       "  </tbody>\n",
       "</table>\n",
       "</div>"
      ],
      "text/plain": [
       "            0\n",
       "ink     10168\n",
       "paper    9496\n",
       "brown    7257\n",
       "black    7064\n",
       "wood     6393\n",
       "gold     6134\n",
       "pen      5998\n",
       "silk     5956\n",
       "silver   4717\n",
       "chalk    4365"
      ]
     },
     "execution_count": 38,
     "metadata": {},
     "output_type": "execute_result"
    }
   ],
   "source": [
    "print(\"number of unique words in Medium:\", len(unique_Medium_words_count_sorted))\n",
    "pd.DataFrame(unique_Medium_words_count_sorted,index=[0]).T.head(10)"
   ]
  },
  {
   "cell_type": "markdown",
   "id": "1621aa6a-9fda-48df-9ecb-f6206d055e49",
   "metadata": {},
   "source": [
    "some threshold could be found and used for one-hot encoding or some other things"
   ]
  },
  {
   "cell_type": "markdown",
   "id": "95d46ed5-a439-4ae6-b119-c80e776b16c6",
   "metadata": {
    "tags": []
   },
   "source": [
    "## Title"
   ]
  },
  {
   "cell_type": "code",
   "execution_count": 39,
   "id": "1e051ff8-47cf-4808-86cc-af1221e81ad5",
   "metadata": {},
   "outputs": [
    {
     "data": {
      "text/plain": [
       "(array(['One-dollar Liberty Head Coin', 'Ten-dollar Liberty Head Coin',\n",
       "        'Two-and-a-Half Dollar Coin', ...,\n",
       "        'Forest landscape with cattle drinking, a woman riding and other travellers',\n",
       "        'Phaeton with folding top', 'Stanhope Phaeton'], dtype=object),\n",
       " 239091)"
      ]
     },
     "execution_count": 39,
     "metadata": {},
     "output_type": "execute_result"
    }
   ],
   "source": [
    "data[\"Title\"].unique(), data[\"Title\"].nunique()"
   ]
  },
  {
   "cell_type": "code",
   "execution_count": 40,
   "id": "b170528f-7622-49e4-89ea-d0f601bb34cd",
   "metadata": {},
   "outputs": [
    {
     "name": "stdout",
     "output_type": "stream",
     "text": [
      "Before: Terracotta fragment of a mastoid (drinking cup with narrow base) or a kyathos (cup-shaped ladle)\n",
      "After:  terracotta fragment mastoid drinking cup narrow base kyathos cupshaped ladle\n",
      "\n",
      "Before: [Plantation and Surrounding Wooden Houses in Field, From Moving Automobile, Macon, Georgia]\n",
      "After:  plantation surrounding wooden house field moving automobile macon georgia\n",
      "\n",
      "Before: 南宋  佚名  泛舟柳塘圖  團扇|Boating by a Willow Bank\n",
      "After:  南宋 佚名 泛舟柳塘圖 團扇boating willow bank\n",
      "\n",
      "Before: The Black Sun Press Portfolio, vol. 1, Summer 1945\n",
      "After:  black sun press portfolio vol 1 summer 1945\n",
      "\n",
      "Before: Lilac Clematis (Atragene occidentalis)\n",
      "After:  lilac clematis atragene occidentalis\n",
      "\n",
      "Before: Design for Vis-à-vis Composite, no. 601\n",
      "After:  design visàvis composite 601\n",
      "\n",
      "Before: St. James Major, from the series The Apostles\n",
      "After:  st james major series apostle\n",
      "\n",
      "Before: Single Spout Bottle with Gadrooned Figure\n",
      "After:  single spout bottle gadrooned figure\n",
      "\n",
      "Before: Concours pour le Prix de l'Etude des Têtes et de l'Expression (Portrait of Mlle. Clairon)\n",
      "After:  concours pour le prix de letude de têtes et de lexpression portrait mlle clairon\n",
      "\n",
      "Before: [Farmhouse Buildings and Silo, Probably Vicinity Danbury, Connecticut]\n",
      "After:  farmhouse building silo probably vicinity danbury connecticut\n",
      "\n"
     ]
    }
   ],
   "source": [
    "import re\n",
    "import random\n",
    "random.seed(42)\n",
    "\n",
    "Title_data = list(data[\"Title\"])\n",
    "\n",
    "longer_words_example = [i for i in Title_data if len(str(i))>30]\n",
    "for line in random.sample(longer_words_example, 10):\n",
    "    print(\"Before:\", line)\n",
    "    line = ModifyString(line)\n",
    "    print(\"After: \", line)\n",
    "    print()"
   ]
  },
  {
   "cell_type": "code",
   "execution_count": 41,
   "id": "bfd4067b-bd29-42c7-9118-3b3f3ca3431c",
   "metadata": {},
   "outputs": [
    {
     "name": "stdout",
     "output_type": "stream",
     "text": [
      "Number of unique values before: 239091 \n",
      "Number of unique values after: 230618\n"
     ]
    }
   ],
   "source": [
    "data[\"New_Title\"]  = data[\"Title\"].apply(lambda x: ModifyString(str(x)))\n",
    "print(\"Number of unique values before:\", data[\"Title\"].nunique(),\n",
    "      \"\\nNumber of unique values after:\", data[\"New_Title\"].nunique()\n",
    "     )"
   ]
  },
  {
   "cell_type": "markdown",
   "id": "7cad5935-ef9f-41ad-895c-33ada4635a26",
   "metadata": {
    "tags": []
   },
   "source": [
    "## Object Name"
   ]
  },
  {
   "cell_type": "code",
   "execution_count": 42,
   "id": "644ee39f-e2a6-4f18-861b-2486a7fbd11a",
   "metadata": {},
   "outputs": [
    {
     "data": {
      "text/plain": [
       "(array(['Coin', 'Peso', 'Centavos', ..., 'Book, print, ephemera',\n",
       "        'Book; prints', 'Ephemera; postcard'], dtype=object),\n",
       " 28449)"
      ]
     },
     "execution_count": 42,
     "metadata": {},
     "output_type": "execute_result"
    }
   ],
   "source": [
    "data[\"Object Name\"].unique(), data[\"Object Name\"].nunique()"
   ]
  },
  {
   "cell_type": "code",
   "execution_count": 43,
   "id": "8753e337-0a6b-404d-a753-5b2fe135a279",
   "metadata": {},
   "outputs": [
    {
     "name": "stdout",
     "output_type": "stream",
     "text": [
      "Before: Kylix fragment; lipped inside and out\n",
      "After:  kylix fragment lipped inside\n",
      "\n",
      "Before: Neck-amphora of Panathenaic shape\n",
      "After:  neckamphora panathenaic shape\n",
      "\n",
      "Before: Executioner's sword with scabbard\n",
      "After:  executioner sword scabbard\n",
      "\n",
      "Before: Book Print Ornament & Architecture\n",
      "After:  book print ornament architecture\n",
      "\n",
      "Before: Collection Ornament & Architecture\n",
      "After:  collection ornament architecture\n",
      "\n",
      "Before: Drawing ; Ornament and  Architecture\n",
      "After:  drawing ornament architecture\n",
      "\n",
      "Before: Book ; Ornament and architecture\n",
      "After:  book ornament architecture\n",
      "\n",
      "Before: Print, Fete, Ornament & Architecture\n",
      "After:  print fete ornament architecture\n",
      "\n",
      "Before: Book Print Ornament & Architecture\n",
      "After:  book print ornament architecture\n",
      "\n",
      "Before: Earring with pendant in the form of Eros\n",
      "After:  earring pendant form eros\n",
      "\n"
     ]
    }
   ],
   "source": [
    "import re\n",
    "import random\n",
    "random.seed(42)\n",
    "\n",
    "Object_data = list(data[\"Object Name\"])\n",
    "\n",
    "longer_words_example = [i for i in Object_data if len(str(i))>30]\n",
    "for line in random.sample(longer_words_example, 10):\n",
    "    print(\"Before:\", line)\n",
    "    line = ModifyString(line)\n",
    "    print(\"After: \", line)\n",
    "    print()"
   ]
  },
  {
   "cell_type": "markdown",
   "id": "52cf5a2f-f7f4-4ac4-9398-bd4d21910041",
   "metadata": {},
   "source": [
    "The above includes also some errors which could be worked on. e.g., Pair of stirrups (<i>Tsubo abumi</i>) gets transformed to: pair stirrup itsubo abumii (additional \"i\" at the ends)\n"
   ]
  },
  {
   "cell_type": "code",
   "execution_count": 44,
   "id": "7794907b-83d0-4459-9637-ef4caec6caf6",
   "metadata": {},
   "outputs": [
    {
     "name": "stdout",
     "output_type": "stream",
     "text": [
      "Number of unique values before: 28449 \n",
      "Number of unique values after: 25514\n"
     ]
    }
   ],
   "source": [
    "data[\"New_Object_Name\"]  = data[\"Object Name\"].apply(lambda x: ModifyString(str(x)))\n",
    "print(\"Number of unique values before:\", data[\"Object Name\"].nunique(),\n",
    "      \"\\nNumber of unique values after:\", data[\"New_Object_Name\"].nunique()\n",
    "     )"
   ]
  },
  {
   "cell_type": "code",
   "execution_count": 45,
   "id": "5c00d3f4-8d93-4df3-a858-8e1bfd04b0a6",
   "metadata": {},
   "outputs": [
    {
     "data": {
      "text/plain": [
       "array(['coin', 'peso', 'centavo', ..., 'presentation box menuki',\n",
       "       'book print ephemera', 'ephemera postcard'], dtype=object)"
      ]
     },
     "execution_count": 45,
     "metadata": {},
     "output_type": "execute_result"
    }
   ],
   "source": [
    "data[\"New_Object_Name\"].unique()"
   ]
  },
  {
   "cell_type": "markdown",
   "id": "6944727f-8588-44ee-b143-0407610d1e34",
   "metadata": {
    "tags": []
   },
   "source": [
    "## Dimensions (trying to extract the numbers in cm)"
   ]
  },
  {
   "cell_type": "code",
   "execution_count": 46,
   "id": "08f5b2ca-8f3e-4fd2-b58a-1cbe86fb07b4",
   "metadata": {},
   "outputs": [
    {
     "data": {
      "text/plain": [
       "(259819,\n",
       " array(['Dimensions unavailable', 'Diam. 11/16 in. (1.7 cm)',\n",
       "        'Diam. 1/2 in. (1.3 cm)', ...,\n",
       "        'Plate: 10 3/8 × 7 1/4 in. (26.4 × 18.4 cm)',\n",
       "        'Plate: 10 7/16 × 7 5/16 in. (26.5 × 18.5 cm)',\n",
       "        'Plate: 11 5/8 × 7 5/8 in. (29.6 × 19.4 cm)'], dtype=object))"
      ]
     },
     "execution_count": 46,
     "metadata": {},
     "output_type": "execute_result"
    }
   ],
   "source": [
    "data[\"Dimensions\"].nunique(), data[\"Dimensions\"].unique()"
   ]
  },
  {
   "cell_type": "markdown",
   "id": "5a5ae2e6-2003-4fc4-b699-77d99717c18a",
   "metadata": {},
   "source": [
    "How many unavailable?"
   ]
  },
  {
   "cell_type": "code",
   "execution_count": 47,
   "id": "f887c896-92c4-4383-a8aa-c502e5f3151a",
   "metadata": {},
   "outputs": [
    {
     "data": {
      "text/plain": [
       "385"
      ]
     },
     "execution_count": 47,
     "metadata": {},
     "output_type": "execute_result"
    }
   ],
   "source": [
    "len(data[data[\"Dimensions\"]==\"Dimensions unavailable\"])"
   ]
  },
  {
   "cell_type": "code",
   "execution_count": 48,
   "id": "a6a74f05-2486-4f6a-9d18-2db0b6d2c760",
   "metadata": {},
   "outputs": [
    {
     "data": {
      "text/plain": [
       "75294"
      ]
     },
     "execution_count": 48,
     "metadata": {},
     "output_type": "execute_result"
    }
   ],
   "source": [
    "data[\"Dimensions\"].isna().sum()"
   ]
  },
  {
   "cell_type": "markdown",
   "id": "37e45e9f-648e-4310-9d52-c501cec3bcff",
   "metadata": {},
   "source": [
    "Transform the values to np.NaN and check the result"
   ]
  },
  {
   "cell_type": "code",
   "execution_count": 49,
   "id": "80586d1d-872e-403b-ad9d-3568cf564047",
   "metadata": {},
   "outputs": [
    {
     "data": {
      "text/plain": [
       "(0, 75679)"
      ]
     },
     "execution_count": 49,
     "metadata": {},
     "output_type": "execute_result"
    }
   ],
   "source": [
    "data[\"Dimensions\"] = data[\"Dimensions\"].apply(lambda x: np.NaN if x == \"Dimensions unavailable\" else x)\n",
    "len(data[data[\"Dimensions\"]==\"Dimensions unavailable\"]), data[\"Dimensions\"].isna().sum()"
   ]
  },
  {
   "cell_type": "code",
   "execution_count": 50,
   "id": "9bebfca0-df7e-4b86-ac3e-0502d53c3234",
   "metadata": {},
   "outputs": [
    {
     "data": {
      "text/plain": [
       "array([nan, 'Diam. 11/16 in. (1.7 cm)', 'Diam. 1/2 in. (1.3 cm)', ...,\n",
       "       'Plate: 10 3/8 × 7 1/4 in. (26.4 × 18.4 cm)',\n",
       "       'Plate: 10 7/16 × 7 5/16 in. (26.5 × 18.5 cm)',\n",
       "       'Plate: 11 5/8 × 7 5/8 in. (29.6 × 19.4 cm)'], dtype=object)"
      ]
     },
     "execution_count": 50,
     "metadata": {},
     "output_type": "execute_result"
    }
   ],
   "source": [
    "data.Dimensions.unique()"
   ]
  },
  {
   "cell_type": "markdown",
   "id": "1325875d-b883-4ec3-8da2-3d837f5b0aee",
   "metadata": {},
   "source": [
    "Creating some variables to help with data exploration without having to touch the original data "
   ]
  },
  {
   "cell_type": "code",
   "execution_count": 51,
   "id": "e3cf9362-cd93-4098-9662-65165d76a7e9",
   "metadata": {},
   "outputs": [
    {
     "data": {
      "text/plain": [
       "(388762, 393931, 75679, 469610, 477804)"
      ]
     },
     "execution_count": 51,
     "metadata": {},
     "output_type": "execute_result"
    }
   ],
   "source": [
    "dim_cm = data[data[\"Dimensions\"].str.contains(\"cm\", na=False)]\n",
    "dim_in = data[data[\"Dimensions\"].str.contains(\"in\", na=False)]\n",
    "dim_na = data[\"Dimensions\"].isna().sum()\n",
    "len(dim_cm), len(dim_in), dim_na,  dim_na+ len(dim_in), len(data)"
   ]
  },
  {
   "cell_type": "markdown",
   "id": "4fc91e9f-c2d4-4722-8683-f70280580bd9",
   "metadata": {},
   "source": [
    "Quick exploration of where the centimeters info is located. It looks like it is in brackets, usually the last item"
   ]
  },
  {
   "cell_type": "code",
   "execution_count": 52,
   "id": "b9f24c4b-e702-4aec-a5af-763510d1a929",
   "metadata": {},
   "outputs": [
    {
     "data": {
      "text/plain": [
       "2                                  Diam. 11/16 in. (1.7 cm)\n",
       "3                                  Diam. 11/16 in. (1.7 cm)\n",
       "4                                  Diam. 11/16 in. (1.7 cm)\n",
       "5                                  Diam. 11/16 in. (1.7 cm)\n",
       "6                                  Diam. 11/16 in. (1.7 cm)\n",
       "                                ...                        \n",
       "477749       Sheet: 21 15/16 × 13 5/16 in. (55.7 × 33.8 cm)\n",
       "477750    Plate: 19 15/16 × 14 3/16 in. (50.7 × 36 cm)\\r...\n",
       "477751    Plate: 15 1/4 × 14 13/16 in. (38.8 × 37.7 cm)\\...\n",
       "477752         Sheet: 11 11/16 × 8 7/8 in. (29.7 × 22.5 cm)\n",
       "477753    Plate: 12 15/16 × 9 3/4 in. (32.9 × 24.7 cm)\\r...\n",
       "Name: Dimensions, Length: 388712, dtype: object"
      ]
     },
     "execution_count": 52,
     "metadata": {},
     "output_type": "execute_result"
    }
   ],
   "source": [
    "df_cm = data[data[\"Dimensions\"].str.contains(\"cm\", na=False)][\"Dimensions\"]\n",
    "df_cm[:-50]"
   ]
  },
  {
   "cell_type": "markdown",
   "id": "3a759a33-b95b-421a-aa86-7d91d515965a",
   "metadata": {},
   "source": [
    "Function for selection of the proper slice of string split by \"(\" and subsequently by \")\" - proper == contains a string that we search for (now \"cm\", later \"in\")"
   ]
  },
  {
   "cell_type": "code",
   "execution_count": 53,
   "id": "9fddf163-fe52-45d3-b8db-b6ba876def2c",
   "metadata": {},
   "outputs": [],
   "source": [
    "def select_part_with_certain_string(list_of_strings, string_to_search_for):\n",
    "    for item in list_of_strings:\n",
    "        if string_to_search_for in item:\n",
    "            return item\n",
    "            break"
   ]
  },
  {
   "cell_type": "markdown",
   "id": "98237e3e-dda1-4d7b-b171-9cbba5bccefd",
   "metadata": {},
   "source": [
    "Does it work? Compare extracted for containing \"cm\" with the original"
   ]
  },
  {
   "cell_type": "code",
   "execution_count": 54,
   "id": "320b7250-a520-44ce-bffe-87f49695aa77",
   "metadata": {},
   "outputs": [
    {
     "data": {
      "text/plain": [
       "(388762, 388762)"
      ]
     },
     "execution_count": 54,
     "metadata": {},
     "output_type": "execute_result"
    }
   ],
   "source": [
    "df_cm_extracted = df_cm.str.split(\"(\").apply(lambda x: select_part_with_certain_string(x, \"cm\"))\n",
    "df_cm_extracted = df_cm_extracted.str.split(\")\").apply(lambda x: select_part_with_certain_string(x, \"cm\"))\n",
    "df_cm_extracted.str.contains(\"cm\", na=False).sum(), len(df_cm_extracted)"
   ]
  },
  {
   "cell_type": "markdown",
   "id": "7b03c1c5-187f-4376-9e04-3a90e51fa031",
   "metadata": {},
   "source": [
    "Let's look at the result of centimeter values extraction (randomly to show that there are still some inches left - index 6393 for example)"
   ]
  },
  {
   "cell_type": "code",
   "execution_count": 55,
   "id": "011c54af-7ddc-4858-9eee-3590959657a5",
   "metadata": {},
   "outputs": [
    {
     "data": {
      "text/plain": [
       "(165040,\n",
       " 6389           73 x 27.6 cm\n",
       " 6390           73 x 27.6 cm\n",
       " 6391         76.2 x 35.6 cm\n",
       " 6392         76.2 x 35.6 cm\n",
       " 6393    13.8 x 72.1 x 21 cm\n",
       " 6394       2.3 cm x 624 in.\n",
       " 6395         49.5 x 58.4 cm\n",
       " 6396         49.5 x 58.4 cm\n",
       " 6397          13.3 x 5.1 cm\n",
       " 6398                15.9 cm\n",
       " 6399           24.4 x 21 cm\n",
       " 6400                15.9 cm\n",
       " 6401        111.8 × 63.5 cm\n",
       " 6402                77.5 cm\n",
       " 6403                 3.5 cm\n",
       " Name: Dimensions, dtype: object)"
      ]
     },
     "execution_count": 55,
     "metadata": {},
     "output_type": "execute_result"
    }
   ],
   "source": [
    "len(df_cm_extracted.unique()), df_cm_extracted[6155:6170]"
   ]
  },
  {
   "cell_type": "markdown",
   "id": "8dbfaeb6-0493-4521-a767-3da846ae204e",
   "metadata": {},
   "source": [
    "The above code works, so let's apply it on the dataset column"
   ]
  },
  {
   "cell_type": "code",
   "execution_count": 56,
   "id": "24507270-b70e-4e11-b030-2bcd81d549b6",
   "metadata": {},
   "outputs": [],
   "source": [
    "data[\"Dimensions\"] = data[\"Dimensions\"].apply(lambda x: select_part_with_certain_string(str(x).split(\"(\"), \"cm\"))\n",
    "data[\"Dimensions\"] = data[\"Dimensions\"].apply(lambda x: select_part_with_certain_string(str(x).split(\")\"), \"cm\"))"
   ]
  },
  {
   "cell_type": "code",
   "execution_count": 57,
   "id": "fe466f6e-ab9c-4349-a5bd-40801c0a873f",
   "metadata": {},
   "outputs": [
    {
     "data": {
      "text/plain": [
       "array([None, '1.7 cm', '1.3 cm', ..., '17.4 × 22.8 cm', '34 × 56.5 cm',\n",
       "       '29.6 × 19.4 cm'], dtype=object)"
      ]
     },
     "execution_count": 57,
     "metadata": {},
     "output_type": "execute_result"
    }
   ],
   "source": [
    "data[\"Dimensions\"].unique()"
   ]
  },
  {
   "cell_type": "markdown",
   "id": "c8d2918b-384b-4856-b9ce-828eef4b5f81",
   "metadata": {},
   "source": [
    "Check for occurance of inches"
   ]
  },
  {
   "cell_type": "code",
   "execution_count": 58,
   "id": "32cc98fc-7587-4972-b151-ec978d9c9459",
   "metadata": {},
   "outputs": [
    {
     "data": {
      "text/plain": [
       "5784"
      ]
     },
     "execution_count": 58,
     "metadata": {},
     "output_type": "execute_result"
    }
   ],
   "source": [
    "dim_in = data[data[\"Dimensions\"].str.contains(\"in\", na=False)]\n",
    "len(dim_in)"
   ]
  },
  {
   "cell_type": "markdown",
   "id": "a3b857f3-bfe4-46ab-bcdf-c1f2c56a6d3a",
   "metadata": {},
   "source": [
    "According to the following exploration it seems like splitting by \"\\n\" could be also useful, snce there is quite a lot of such values"
   ]
  },
  {
   "cell_type": "code",
   "execution_count": 59,
   "id": "6b692436-605e-48a1-ac2c-cab342059890",
   "metadata": {},
   "outputs": [
    {
     "data": {
      "text/plain": [
       "122133     L. 7 1/2 inches\\r\\n19.1 cm\n",
       "122134     L. 4 3/4 inches\\r\\n12.1 cm\n",
       "122135         L. 7 inches\\r\\n17.8 cm\n",
       "122136    L. 10 1/4 inches\\r\\n26.0 cm\n",
       "122137     L. 7 5/8 inches\\r\\n19.4 cm\n",
       "122138     L. 5 1/2 inches\\r\\n14.0 cm\n",
       "122139     L. 4 3/8 inches\\r\\n11.1 cm\n",
       "122140         L. 6 inches\\r\\n15.2 cm\n",
       "122141     L. 5 3/4 inches\\r\\n14.6 cm\n",
       "122142         L. 6 inches\\r\\n15.2 cm\n",
       "Name: Dimensions, dtype: object"
      ]
     },
     "metadata": {},
     "output_type": "display_data"
    },
    {
     "name": "stdout",
     "output_type": "stream",
     "text": [
      "number of lines with \\n character: 6542\n"
     ]
    }
   ],
   "source": [
    "dim_in = data[data[\"Dimensions\"].str.contains(\"in\", na=False)]\n",
    "display(dim_in.Dimensions[300:310])\n",
    "print(\"number of lines with \\\\n character:\", len(data[data[\"Dimensions\"].str.contains(\"\\n\", na=False)]))"
   ]
  },
  {
   "cell_type": "code",
   "execution_count": 60,
   "id": "00801771-c660-4340-98d8-475a126d064d",
   "metadata": {},
   "outputs": [],
   "source": [
    "data[\"Dimensions\"] = data[\"Dimensions\"].apply(lambda x: select_part_with_certain_string(str(x).split(\"\\n\"), \"cm\"))\n",
    "data[\"Dimensions\"] = data[\"Dimensions\"].apply(lambda x: select_part_with_certain_string(str(x).split(\"\\r\"), \"cm\"))\n",
    "data[\"Dimensions\"] = data[\"Dimensions\"].apply(lambda x: select_part_with_certain_string(str(x).split(\"inches\"), \"cm\"))"
   ]
  },
  {
   "cell_type": "markdown",
   "id": "b3d5fc08-af64-45e8-bd7a-87c2d954793d",
   "metadata": {},
   "source": [
    "Explore lines with \"in\" (inches)"
   ]
  },
  {
   "cell_type": "code",
   "execution_count": 61,
   "id": "cf06e9a3-ccdc-4195-9be9-f216d33248da",
   "metadata": {},
   "outputs": [
    {
     "data": {
      "text/plain": [
       "4171                                   H. 4 3/8 in. 11.1 cm\n",
       "6394                                       2.3 cm x 624 in.\n",
       "13279                                     504 in. x 45.7 cm\n",
       "13280                                     504 in. x 45.7 cm\n",
       "19161                               ; L. 19 1/2 in. 49.5 cm\n",
       "                                ...                        \n",
       "385841                            Diam. large rings 0.9 cm \n",
       "398566                          H of taller coffin: 200 cm \n",
       "420056    H. 27-1/2 × W. 22 x D. 1-1/2 in.  69.9 × 55.9×...\n",
       "467618    Assembled instrument: max depth: 12.5cm; max w...\n",
       "477371                                  W. 7/16 in. *1.1 cm\n",
       "Name: Dimensions, Length: 304, dtype: object"
      ]
     },
     "execution_count": 61,
     "metadata": {},
     "output_type": "execute_result"
    }
   ],
   "source": [
    "data[data.Dimensions.str.contains(\"in\", na=False)].Dimensions"
   ]
  },
  {
   "cell_type": "markdown",
   "id": "8355658e-5beb-4a29-96e1-c9260ae535a7",
   "metadata": {},
   "source": [
    "get rid of them"
   ]
  },
  {
   "cell_type": "code",
   "execution_count": 62,
   "id": "a4021c4d-3bdf-4f72-92e8-dca6583056cd",
   "metadata": {},
   "outputs": [],
   "source": [
    "def split_by_in(item):\n",
    "    if item == None:\n",
    "        return item\n",
    "    else:\n",
    "        if len(item.split(\"in.\")) > 1:\n",
    "            return item.split(\"in.\")[1]\n",
    "        else:\n",
    "            return item\n",
    "        \n",
    "data[\"Dimensions\"] = data[\"Dimensions\"].apply(lambda x: split_by_in(x))"
   ]
  },
  {
   "cell_type": "code",
   "execution_count": 63,
   "id": "670a99a0-6e80-40a8-af3a-db1befe5ffc3",
   "metadata": {},
   "outputs": [
    {
     "data": {
      "text/plain": [
       "30                    1.9 cm\n",
       "31                    5.4 cm\n",
       "32            7 x 8.9 x 7 cm\n",
       "33       61.9 x 37.1 x 13 cm\n",
       "34       49.4 x 33 x 23.5 cm\n",
       "35    101.6 x 64.8 x 87.6 cm\n",
       "36                   30.5 cm\n",
       "37                   31.4 cm\n",
       "38            27.9 x 22.9 cm\n",
       "39                   16.7 cm\n",
       "40                   15.9 cm\n",
       "41     78.4 x 63.5 x 35.2 cm\n",
       "42     78.4 x 63.5 x 35.2 cm\n",
       "43                   68.6 cm\n",
       "44                   68.6 cm\n",
       "45                   40.6 cm\n",
       "46                   40.6 cm\n",
       "47                   43.2 cm\n",
       "48                   43.2 cm\n",
       "49                   29.2 cm\n",
       "Name: Dimensions, dtype: object"
      ]
     },
     "execution_count": 63,
     "metadata": {},
     "output_type": "execute_result"
    }
   ],
   "source": [
    "data.Dimensions[30:50]"
   ]
  },
  {
   "cell_type": "code",
   "execution_count": 64,
   "id": "3d90f361-0d05-457e-8849-af8762499d59",
   "metadata": {},
   "outputs": [],
   "source": [
    "data[\"Dimensions\"] = data[\"Dimensions\"].str.strip().str.strip(\".\").str.strip(\"cm\")"
   ]
  },
  {
   "cell_type": "code",
   "execution_count": 65,
   "id": "7524a30c-6c94-487f-b2fd-07b3f86e8069",
   "metadata": {},
   "outputs": [
    {
     "data": {
      "text/plain": [
       "array([None, '1.7 ', '1.3 ', ..., '17.4 × 22.8 ', '34 × 56.5 ',\n",
       "       '29.6 × 19.4 '], dtype=object)"
      ]
     },
     "execution_count": 65,
     "metadata": {},
     "output_type": "execute_result"
    }
   ],
   "source": [
    "data[\"Dimensions\"].unique()"
   ]
  },
  {
   "cell_type": "markdown",
   "id": "661e0f42-e54a-4642-a8b6-7c727a722c51",
   "metadata": {},
   "source": [
    "Preparing to delete alpha characters and some additional ones"
   ]
  },
  {
   "cell_type": "code",
   "execution_count": 66,
   "id": "5cb4ea91-b376-4360-98ec-4e293cc5ba8d",
   "metadata": {},
   "outputs": [],
   "source": [
    "import re\n",
    "def delete_alpha(list_of_words):\n",
    "    chars_to_replace = [\"&\", \"+\", \"-\", \"×\", \":\", \"=\", \";\", \",\"]\n",
    "    keep = []\n",
    "    for item in list_of_words:\n",
    "        if re.search('[a-zA-Z]', item):\n",
    "            pass \n",
    "        else:\n",
    "            for c in chars_to_replace:\n",
    "                item = item.replace(c, \" \")\n",
    "            item = item.strip().strip(\"/\").strip()\n",
    "            if item != \"\":\n",
    "                keep.append(item)\n",
    "    return \" \".join(keep)"
   ]
  },
  {
   "cell_type": "markdown",
   "id": "77ba498c-8ed1-487a-852a-1ba7ee06abde",
   "metadata": {},
   "source": [
    "Observing the result (slice of the unique values)"
   ]
  },
  {
   "cell_type": "code",
   "execution_count": 67,
   "id": "dc71675d-38ce-42f2-a68a-f7e5dc7481d3",
   "metadata": {},
   "outputs": [
    {
     "data": {
      "text/plain": [
       "(array(['64.8 x 56.5 x 34.3 ', '41 x 38.7 x 20.6 ', '48.9 x 49.5 x 29.8 ',\n",
       "        '52.7 x 49.5 x 29.8 ', '47.6 x 43.2 ', '59.1 x 59.7 ',\n",
       "        '53.3 x 40 ', '59.1 x 46.4 ', '28.9 x 36.8 x 30.5 ',\n",
       "        '47.6 x 44.5 x 27.3 ', '57.2 x 68.6 x 33 ', '61 x 29.2 x 40.6 ',\n",
       "        '57.2 ', '41 x 25.4 x 37.8 ', '47 x 43.2 ', '62.2 × 33 × 51.8 ',\n",
       "        '53.7 ', '80 x 35.6 x 59.7 ', '63.5 x 38.1 x 88.9 ',\n",
       "        '57.5 x 27.3 x 52.1 ', '9.2 ', '7 ', '109.2 ', '210.8 x 148.6 ',\n",
       "        '640.1 x 701 ', '44.5 ', '45.4 x 43.2 x 20 ',\n",
       "        '86.4 x 59.7 x 48.3 ', '101.6 x 63.5 x 44.5 ',\n",
       "        '111.8 x 61 x 38.1 '], dtype=object),\n",
       " 158686)"
      ]
     },
     "execution_count": 67,
     "metadata": {},
     "output_type": "execute_result"
    }
   ],
   "source": [
    "data.Dimensions.unique()[30:60], len(data.Dimensions.unique())"
   ]
  },
  {
   "cell_type": "markdown",
   "id": "8f94be07-7a53-43a7-bb75-efe89a664066",
   "metadata": {
    "tags": []
   },
   "source": [
    "## Culture"
   ]
  },
  {
   "cell_type": "code",
   "execution_count": 68,
   "id": "66351916-7ada-4d94-aa36-35d5e2c61484",
   "metadata": {},
   "outputs": [
    {
     "data": {
      "text/plain": [
       "(7181,\n",
       " 207379,\n",
       " array([nan, 'Mexican', 'Guatemalan', ...,\n",
       "        'India, Kolkata (formerly Calcutta)', 'Western India, Karnataka',\n",
       "        'India, Madurai, Tamil Nadu'], dtype=object))"
      ]
     },
     "execution_count": 68,
     "metadata": {},
     "output_type": "execute_result"
    }
   ],
   "source": [
    "len(data[\"Culture\"].unique()), len(data[\"Culture\"]) - data[\"Culture\"].isna().sum(), data[\"Culture\"].unique()"
   ]
  },
  {
   "cell_type": "code",
   "execution_count": 69,
   "id": "2403493b-ac04-453f-8d07-8dd9370f1bd7",
   "metadata": {},
   "outputs": [
    {
     "data": {
      "text/plain": [
       "Ellipsis"
      ]
     },
     "execution_count": 69,
     "metadata": {},
     "output_type": "execute_result"
    }
   ],
   "source": [
    "..."
   ]
  },
  {
   "cell_type": "markdown",
   "id": "797c4476-b9b2-4025-9516-6a6022f38201",
   "metadata": {
    "tags": []
   },
   "source": [
    "## Other commentary"
   ]
  },
  {
   "cell_type": "markdown",
   "id": "edb21f37-92c4-4cb1-8a1c-d837d00099eb",
   "metadata": {},
   "source": [
    "For addtional research:\n",
    "\n",
    "- Is there enough data? What data is missing? \n",
    "- What would be an interesting graph? What do we want to observe in general? Sort the objects by....?\n",
    "- Convert to numeric, date type etc..\n",
    "- Impute value of department...\n",
    "\n",
    "some basic ideas: https://themuseumsainetwork.files.wordpress.com/2020/02/20190317_museums-and-ai-toolkit_rl_web.pdf"
   ]
  }
 ],
 "metadata": {
  "kernelspec": {
   "display_name": "Python 3",
   "language": "python",
   "name": "python3"
  },
  "language_info": {
   "codemirror_mode": {
    "name": "ipython",
    "version": 3
   },
   "file_extension": ".py",
   "mimetype": "text/x-python",
   "name": "python",
   "nbconvert_exporter": "python",
   "pygments_lexer": "ipython3",
   "version": "3.6.13"
  }
 },
 "nbformat": 4,
 "nbformat_minor": 5
}
